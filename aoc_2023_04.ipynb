{
 "cells": [
  {
   "cell_type": "markdown",
   "metadata": {},
   "source": [
    "# Code Setup"
   ]
  },
  {
   "cell_type": "markdown",
   "metadata": {},
   "source": [
    "# Problem Setup"
   ]
  },
  {
   "cell_type": "markdown",
   "metadata": {},
   "source": [
    "--- Day 4: Scratchcards ---\n",
    "The gondola takes you up. Strangely, though, the ground doesn't seem to be coming with you; you're not climbing a mountain. As the circle of Snow Island recedes below you, an entire new landmass suddenly appears above you! The gondola carries you to the surface of the new island and lurches into the station.  \n",
    "  \n",
    "As you exit the gondola, the first thing you notice is that the air here is much warmer than it was on Snow Island. It's also quite humid. Is this where the water source is?  \n",
    "  \n",
    "The next thing you notice is an Elf sitting on the floor across the station in what seems to be a pile of colorful square cards.  \n",
    "  \n",
    "\"Oh! Hello!\" The Elf excitedly runs over to you. \"How may I be of service?\" You ask about water sources.  \n",
    "  \n",
    "\"I'm not sure; I just operate the gondola lift. That does sound like something we'd have, though - this is Island Island, after all! I bet the gardener would know. He's on a different island, though - er, the small kind surrounded by water, not the floating kind. We really need to come up with a better naming scheme. Tell you what: if you can help me with something quick, I'll let you borrow my boat and you can go visit the gardener. I got all these scratchcards as a gift, but I can't figure out what I've won.\"  \n",
    "  \n",
    "The Elf leads you over to the pile of colorful cards. There, you discover dozens of scratchcards, all with their opaque covering already scratched off. Picking one up, it looks like each card has two lists of numbers separated by a vertical bar (|): a list of winning numbers and then a list of numbers you have. You organize the information into a table (your puzzle input).  \n",
    "  \n",
    "As far as the Elf has been able to figure out, you have to figure out which of the numbers you have appear in the list of winning numbers. The first match makes the card worth one point and each match after the first doubles the point value of that card.  \n",
    "  \n",
    "For example:  \n",
    "  \n",
    "Card 1: 41 48 83 86 17 | 83 86  6 31 17  9 48 53  \n",
    "Card 2: 13 32 20 16 61 | 61 30 68 82 17 32 24 19  \n",
    "Card 3:  1 21 53 59 44 | 69 82 63 72 16 21 14  1  \n",
    "Card 4: 41 92 73 84 69 | 59 84 76 51 58  5 54 83  \n",
    "Card 5: 87 83 26 28 32 | 88 30 70 12 93 22 82 36  \n",
    "Card 6: 31 18 13 56 72 | 74 77 10 23 35 67 36 11  \n",
    "In the above example, card 1 has five winning numbers (41, 48, 83, 86, and 17) and eight numbers you have (83, 86, 6, 31, 17, 9, 48, and 53). Of the numbers you have, four of them (48, 83, 17, and 86) are winning numbers! That means card 1 is worth 8 points (1 for the first match, then doubled three times for each of the three matches after the first).  \n",
    "  \n",
    "Card 2 has two winning numbers (32 and 61), so it is worth 2 points.  \n",
    "Card 3 has two winning numbers (1 and 21), so it is worth 2 points.  \n",
    "Card 4 has one winning number (84), so it is worth 1 point.  \n",
    "Card 5 has no winning numbers, so it is worth no points.  \n",
    "Card 6 has no winning numbers, so it is worth no points.  \n",
    "So, in this example, the Elf's pile of scratchcards is worth 13 points.  \n",
    "  \n",
    "Take a seat in the large pile of colorful cards. How many points are they worth in total?  "
   ]
  },
  {
   "cell_type": "markdown",
   "metadata": {},
   "source": [
    "# General thoughts"
   ]
  },
  {
   "cell_type": "markdown",
   "metadata": {},
   "source": [
    "ASSUMPTIONS:  \n",
    "1. Neither the winning numbers or the scrathcard numbers will have the same number appear twice."
   ]
  },
  {
   "cell_type": "markdown",
   "metadata": {},
   "source": [
    "# Solutions"
   ]
  },
  {
   "cell_type": "markdown",
   "metadata": {},
   "source": [
    "## Solution 1:"
   ]
  },
  {
   "cell_type": "markdown",
   "metadata": {},
   "source": [
    "### Explanation of method"
   ]
  },
  {
   "cell_type": "markdown",
   "metadata": {},
   "source": [
    "1. For each scratch-card:  \n",
    "    1.1. Extract the numbers on each side of `|`  \n",
    "    1.2. Store the winning numbers in a set `winning_numbers`, store the scratch-card numbers in a set `scratchcard_numbers`.  \n",
    "    1.3. Take the intersection of `winning_numbers` and `scratchcard_numbers`, measure its length as `len_matching_numbers`  \n",
    "    1.4. The number of points for that scratch card will be `2**len_matching_numbers`  \n",
    "2. Sum the number of points for each of the games"
   ]
  },
  {
   "cell_type": "markdown",
   "metadata": {},
   "source": [
    "### Implementation"
   ]
  },
  {
   "cell_type": "markdown",
   "metadata": {},
   "source": [
    "### Checking runtime"
   ]
  },
  {
   "cell_type": "markdown",
   "metadata": {},
   "source": [
    "#### Benchmarking"
   ]
  },
  {
   "cell_type": "markdown",
   "metadata": {},
   "source": [
    "#### Runtime profiling"
   ]
  },
  {
   "cell_type": "markdown",
   "metadata": {},
   "source": [
    "## Solution 2:"
   ]
  },
  {
   "cell_type": "code",
   "execution_count": null,
   "metadata": {
    "vscode": {
     "languageId": "plaintext"
    }
   },
   "outputs": [],
   "source": []
  }
 ],
 "metadata": {
  "language_info": {
   "name": "python"
  }
 },
 "nbformat": 4,
 "nbformat_minor": 2
}
