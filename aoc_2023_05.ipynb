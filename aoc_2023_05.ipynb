{
 "cells": [
  {
   "cell_type": "markdown",
   "metadata": {},
   "source": [
    "# Code Setup"
   ]
  },
  {
   "cell_type": "code",
   "execution_count": 154,
   "metadata": {},
   "outputs": [
    {
     "name": "stdout",
     "output_type": "stream",
     "text": [
      "The autoreload extension is already loaded. To reload it, use:\n",
      "  %reload_ext autoreload\n"
     ]
    }
   ],
   "source": [
    "import numpy as np\n",
    "\n",
    "from utils.import_puzzle_input import load_input\n",
    "from utils.import_puzzle_input import split_puzzle_input\n",
    "from utils.import_puzzle_input import matrix_puzzle_input\n",
    "\n",
    "from functools import reduce\n",
    "\n",
    "# Load the autoreload extension\n",
    "%load_ext autoreload\n",
    "\n",
    "# Set autoreload to automatically reload modules before executing code\n",
    "%autoreload 2"
   ]
  },
  {
   "cell_type": "code",
   "execution_count": 155,
   "metadata": {},
   "outputs": [
    {
     "name": "stdout",
     "output_type": "stream",
     "text": [
      "loaded puzzle input\n"
     ]
    }
   ],
   "source": [
    "puzzle_input = load_input(2023, 5)"
   ]
  },
  {
   "cell_type": "code",
   "execution_count": 156,
   "metadata": {},
   "outputs": [],
   "source": [
    "puzzle_input_split = split_puzzle_input(puzzle_input)"
   ]
  },
  {
   "cell_type": "code",
   "execution_count": 157,
   "metadata": {},
   "outputs": [
    {
     "data": {
      "text/plain": [
       "['seeds: 2041142901 113138307 302673608 467797997 1787644422 208119536 143576771 99841043 4088720102 111819874 946418697 13450451 3459931852 262303791 2913410855 533641609 2178733435 26814354 1058342395 175406592',\n",
       " '',\n",
       " 'seed-to-soil map:',\n",
       " '1270068015 1235603193 242614277',\n",
       " '13415696 1478217470 21049126',\n",
       " '825250550 1160341941 75261252',\n",
       " '3786189027 1971702238 242038712',\n",
       " '3191605340 3433644052 172752250',\n",
       " '2389904665 3088515862 345128190',\n",
       " '0 1499266596 13415696',\n",
       " '1197451933 0 72616082',\n",
       " '2139929050 1721726623 249975615',\n",
       " '900511802 222541761 147014452',\n",
       " '1047526254 72616082 149925679',\n",
       " '34464822 980591812 179750129',\n",
       " '2735032855 2631943377 456572485',\n",
       " '3364357590 3606396302 421831437',\n",
       " '214214951 369556213 611035599',\n",
       " '1721726623 2213740950 418202427',\n",
       " '',\n",
       " 'soil-to-fertilizer map:',\n",
       " '226793587 358613369 356867344',\n",
       " '0 1838890301 226793587',\n",
       " '2741010192 0 358613369',\n",
       " '2257843811 715480713 173982825',\n",
       " '3099623561 1264222741 3082010',\n",
       " '1810570233 2912833547 326150077',\n",
       " '4038242924 3815312886 256724372',\n",
       " '2431826636 3268919687 279247493',\n",
       " '866869902 1671637223 167253078',\n",
       " '3102705571 889463538 374759203',\n",
       " '1615333950 2646894858 125679350',\n",
       " '2136720310 1550513722 121123501',\n",
       " '3477464774 2772574208 140259339',\n",
       " '1034122980 2065683888 581210970',\n",
       " '2711074129 3238983624 29936063',\n",
       " '583660931 1267304751 283208971',\n",
       " '1741013300 3548167180 69556933',\n",
       " '3815312886 4072037258 222930038',\n",
       " '',\n",
       " 'fertilizer-to-water map:',\n",
       " '2197389106 1911800263 305927673',\n",
       " '3117278994 244526473 20512291',\n",
       " '2957263700 4069704360 136102838',\n",
       " '1536592951 2749121858 245216219',\n",
       " '3093366538 840656765 23912456',\n",
       " '815267737 2718368501 30753357',\n",
       " '3137791285 3392529258 82147206',\n",
       " '3770129899 390297301 198889495',\n",
       " '2168252150 2217727936 29136956',\n",
       " '770420674 2367771416 44847063',\n",
       " '3304122356 4205807198 44047643',\n",
       " '94626393 318562852 71734449',\n",
       " '2518697514 2262245627 10899396',\n",
       " '1967704281 265038764 53524088',\n",
       " '846021094 2994338077 264934624',\n",
       " '1215514867 3881882833 187821527',\n",
       " '1781809170 2556752263 100818318',\n",
       " '1882627488 1690877042 85076793',\n",
       " '208796777 631622731 209034034',\n",
       " '2583608714 3508227847 39876494',\n",
       " '519341481 1587040614 19652563',\n",
       " '599791964 104559149 139967324',\n",
       " '3430004623 1246915338 340125276',\n",
       " '1110955718 0 104559149',\n",
       " '2623485208 3548104341 333778492',\n",
       " '1403336394 3259272701 133256557',\n",
       " '0 2273145023 94626393',\n",
       " '2529596910 1857788459 54011804',\n",
       " '166360842 589186796 42435935',\n",
       " '3219938491 1606693177 84183865',\n",
       " '2165362153 3505337850 2889997',\n",
       " '2021228369 2412618479 72557496',\n",
       " '538994044 2657570581 60797920',\n",
       " '739759288 3474676464 30661386',\n",
       " '417830811 1154801218 92114120',\n",
       " '509944931 864569221 9396550',\n",
       " '2093785865 2485175975 71576288',\n",
       " '3969019394 873965771 280835447',\n",
       " '2503316779 2246864892 15380735',\n",
       " '3348169999 1775953835 81834624',\n",
       " '',\n",
       " 'water-to-light map:',\n",
       " '3059617387 1101868951 93963271',\n",
       " '2772853640 2098642805 169363292',\n",
       " '193287974 683814429 1482323',\n",
       " '3780234682 1734000399 364642406',\n",
       " '194770297 193287974 490526455',\n",
       " '3550500423 902417243 199451708',\n",
       " '3466829263 2268006097 83671160',\n",
       " '3379471616 2976813583 87357647',\n",
       " '2283311570 2369871058 489542070',\n",
       " '3768145932 1195832222 12088750',\n",
       " '1202605712 3064171230 1080705858',\n",
       " '2942216932 2859413128 107440729',\n",
       " '3749952131 2351677257 18193801',\n",
       " '3049657661 2966853857 9959726',\n",
       " '902417243 1433811930 300188469',\n",
       " '3153580658 1207920972 225890958',\n",
       " '',\n",
       " 'light-to-temperature map:',\n",
       " '1088722200 1345179841 10000894',\n",
       " '4202170199 3029124889 92797097',\n",
       " '3016749137 3130683307 53232372',\n",
       " '534766220 331633133 9297796',\n",
       " '190275035 286706851 44926282',\n",
       " '3069981509 1355180735 96127340',\n",
       " '1579189291 3913052943 379484702',\n",
       " '3918942962 3793498681 21754451',\n",
       " '262413801 377451173 88614642',\n",
       " '2452226090 2443004441 143726844',\n",
       " '1958673993 2586731285 188604820',\n",
       " '2595952934 3815253132 97799811',\n",
       " '882433672 754981589 206288528',\n",
       " '608195463 3121921986 8761321',\n",
       " '393888178 145828809 140878042',\n",
       " '3166108849 1530740045 97835767',\n",
       " '351028443 139489318 6339491',\n",
       " '3410232629 961270117 222147493',\n",
       " '2449796439 4292537645 2429651',\n",
       " '2401067597 1890048598 48728842',\n",
       " '3263944616 2376148398 66856043',\n",
       " '3330800659 1451308075 79431970',\n",
       " '3632380122 2019388074 205952206',\n",
       " '1548873457 1323582243 21597598',\n",
       " '2693752745 2225340280 142089882',\n",
       " '357367934 340930929 36520244',\n",
       " '0 493278299 50785717',\n",
       " '768194739 645497224 68742488',\n",
       " '2876584504 1183417610 140164633',\n",
       " '235201317 466065815 27212484',\n",
       " '1570471055 2367430162 8718236',\n",
       " '2147278813 2775336105 253788784',\n",
       " '874238988 3335153634 8194684',\n",
       " '2835842627 714239712 40741877',\n",
       " '3838332328 1938777440 80610634',\n",
       " '50785717 0 139489318',\n",
       " '616956784 3183915679 151237955',\n",
       " '836937227 608195463 37301761',\n",
       " '1098723094 3343348318 450150363',\n",
       " '3940697413 1628575812 261472786',\n",
       " '',\n",
       " 'temperature-to-humidity map:',\n",
       " '3865679795 3411240257 137388137',\n",
       " '0 569718370 128927628',\n",
       " '2284256983 1093255418 349419361',\n",
       " '2189606444 2745948834 16886013',\n",
       " '3861728218 3796217004 3951577',\n",
       " '700036088 2134161201 67667679',\n",
       " '2639129496 1078899666 14355752',\n",
       " '4003067932 4146768977 27598493',\n",
       " '569558723 2311178479 130477365',\n",
       " '4125126694 3887925067 11822916',\n",
       " '1884679865 1442674779 129657290',\n",
       " '2633676344 1572332069 5453152',\n",
       " '862461784 1577785221 531688422',\n",
       " '4030666425 4120171499 26597478',\n",
       " '195554894 115268399 39538402',\n",
       " '235093296 235252943 334465427',\n",
       " '2132287170 698645998 57319274',\n",
       " '4158735055 3550090086 136232241',\n",
       " '2206492457 157488417 77764526',\n",
       " '3562496130 3899747983 220423516',\n",
       " '2653485248 2201828880 109349599',\n",
       " '2014337155 154806801 2681616',\n",
       " '1580787383 2536413861 97415145',\n",
       " '3453031511 3880534101 7390966',\n",
       " '1394150206 2633829006 45492562',\n",
       " '4057263903 3686322327 7821024',\n",
       " '4157273363 3548628394 1461692',\n",
       " '3460422477 3694143351 102073653',\n",
       " '4136949610 3800168581 20323753',\n",
       " '1678202528 872422329 206477337',\n",
       " '1556099825 2109473643 24687558',\n",
       " '128927628 2679321568 66627266',\n",
       " '2017018771 0 115268399',\n",
       " '4065084927 3820492334 60041767',\n",
       " '3411240257 4253176042 41791254',\n",
       " '767703767 2441655844 94758017',\n",
       " '1439642768 755965272 116457057',\n",
       " '3782919646 4174367470 78808572',\n",
       " '',\n",
       " 'humidity-to-location map:',\n",
       " '347042062 4204488573 2962316',\n",
       " '877642375 2878291222 23518224',\n",
       " '3638916554 3484768713 5466055',\n",
       " '2890676240 3280663590 83564486',\n",
       " '201731623 3228655138 52008452',\n",
       " '1692198890 1946017811 25211210',\n",
       " '1717410100 1270737209 92827656',\n",
       " '3598929376 3630765534 39987178',\n",
       " '2226479211 1578430526 262844314',\n",
       " '687169155 3670752712 117494406',\n",
       " '3884728324 1515480569 62949957',\n",
       " '3494186405 1841274840 104742971',\n",
       " '2753482998 2630924017 120642845',\n",
       " '572458731 2235388494 114710424',\n",
       " '3947678281 3490234768 140530766',\n",
       " '3433348031 3167816764 60838374',\n",
       " '350004378 2406580589 222454353',\n",
       " '804663561 1442501755 72978814',\n",
       " '4132461733 2901809446 35781203',\n",
       " '4088209047 2937590649 38937925',\n",
       " '1441554453 2350098918 56481671',\n",
       " '3644382609 201731623 240345715',\n",
       " '2489323525 1971229021 264159473',\n",
       " '2974240726 3086380958 81435806',\n",
       " '4127146972 3364228076 5314761',\n",
       " '901160599 4207450889 87516407',\n",
       " '988677006 442077338 350976352',\n",
       " '1498036124 3369542837 115225876',\n",
       " '1810237756 3788247118 416241455',\n",
       " '1613262000 1363564865 78936890',\n",
       " '253740075 2993078971 93301987',\n",
       " '3055676532 894954785 375782424',\n",
       " '1339653358 793053690 101901095',\n",
       " '2874125843 2976528574 16550397',\n",
       " '3431458956 2629034942 1889075',\n",
       " '4168242936 2751566862 126724360']"
      ]
     },
     "execution_count": 157,
     "metadata": {},
     "output_type": "execute_result"
    }
   ],
   "source": [
    "puzzle_input_split"
   ]
  },
  {
   "cell_type": "markdown",
   "metadata": {},
   "source": [
    "# Problem Setup"
   ]
  },
  {
   "cell_type": "markdown",
   "metadata": {},
   "source": [
    "--- Day 5: If You Give A Seed A Fertilizer ---  \n",
    "You take the boat and find the gardener right where you were told he would be: managing a giant \"garden\" that looks more to you like a farm.  \n",
    "  \n",
    "\"A water source? Island Island is the water source!\" You point out that Snow Island isn't receiving any water.  \n",
    "  \n",
    "\"Oh, we had to stop the water because we ran out of sand to filter it with! Can't make snow with dirty water. Don't worry, I'm sure we'll get more sand soon; we only turned off the water a few days... weeks... oh no.\" His face sinks into a look of horrified realization.  \n",
    "  \n",
    "\"I've been so busy making sure everyone here has food that I completely forgot to check why we stopped getting more sand! There's a ferry leaving soon that is headed over in that direction - it's much faster than your boat. Could you please go check it out?\"  \n",
    "  \n",
    "You barely have time to agree to this request when he brings up another. \"While you wait for the ferry, maybe you can help us with our food production problem. The latest Island Island Almanac just arrived and we're having trouble making sense of it.\"  \n",
    "  \n",
    "The almanac (your puzzle input) lists all of the seeds that need to be planted. It also lists what type of soil to use with each kind of seed, what type of fertilizer to use with each kind of soil, what type of water to use with each kind of fertilizer, and so on. Every type of seed, soil, fertilizer and so on is identified with a number, but numbers are reused by each category - that is, soil 123 and fertilizer 123 aren't necessarily related to each other.  \n",
    "  \n",
    "For example:  \n",
    "  \n",
    "seeds: 79 14 55 13  \n",
    "  \n",
    "seed-to-soil map:  \n",
    "50 98 2  \n",
    "52 50 48  \n",
    "  \n",
    "soil-to-fertilizer map:  \n",
    "0 15 37  \n",
    "37 52 2  \n",
    "39 0 15  \n",
    "  \n",
    "fertilizer-to-water map:  \n",
    "49 53 8  \n",
    "0 11 42  \n",
    "42 0 7  \n",
    "57 7 4  \n",
    "  \n",
    "water-to-light map:  \n",
    "88 18 7  \n",
    "18 25 70  \n",
    "  \n",
    "light-to-temperature map:  \n",
    "45 77 23  \n",
    "81 45 19  \n",
    "68 64 13  \n",
    "  \n",
    "temperature-to-humidity map:  \n",
    "0 69 1  \n",
    "1 0 69  \n",
    "  \n",
    "humidity-to-location map:  \n",
    "60 56 37  \n",
    "56 93 4  \n",
    "The almanac starts by listing which seeds need to be planted: seeds 79, 14, 55, and 13.  \n",
    "  \n",
    "The rest of the almanac contains a list of maps which describe how to convert numbers from a source category into numbers in a destination category. That is, the section that starts with seed-to-soil map: describes how to convert a seed number (the source) to a soil number (the destination). This lets the gardener and his team know which soil to use with which seeds, which water to use with which fertilizer, and so on.  \n",
    "  \n",
    "Rather than list every source number and its corresponding destination number one by one, the maps describe entire ranges of numbers that can be converted. Each line within a map contains three numbers: the destination range start, the source range start, and the range length.  \n",
    "  \n",
    "Consider again the example seed-to-soil map:  \n",
    "  \n",
    "50 98 2  \n",
    "52 50 48  \n",
    "The first line has a destination range start of 50, a source range start of 98, and a range length of 2. This line means that the source range starts at 98 and contains two values: 98 and 99. The destination range is the same length, but it starts at 50, so its two values are 50 and 51. With this information, you know that seed number 98 corresponds to soil number 50 and that seed number 99 corresponds to soil number 51.  \n",
    "  \n",
    "The second line means that the source range starts at 50 and contains 48 values: 50, 51, ..., 96, 97. This corresponds to a destination range starting at 52 and also containing 48 values: 52, 53, ..., 98, 99. So, seed number 53 corresponds to soil number 55.  \n",
    "  \n",
    "Any source numbers that aren't mapped correspond to the same destination number. So, seed number 10 corresponds to soil number 10.  \n",
    "  \n",
    "So, the entire list of seed numbers and their corresponding soil numbers looks like this:  \n",
    "  \n",
    "seed  soil  \n",
    "0     0  \n",
    "1     1  \n",
    "...   ...  \n",
    "48    48  \n",
    "49    49  \n",
    "50    52  \n",
    "51    53  \n",
    "...   ...  \n",
    "96    98  \n",
    "97    99  \n",
    "98    50  \n",
    "99    51  \n",
    "With this map, you can look up the soil number required for each initial seed number:  \n",
    "  \n",
    "Seed number 79 corresponds to soil number 81.  \n",
    "Seed number 14 corresponds to soil number 14.  \n",
    "Seed number 55 corresponds to soil number 57.  \n",
    "Seed number 13 corresponds to soil number 13.  \n",
    "The gardener and his team want to get started as soon as possible, so they'd like to know the closest location that needs a seed. Using these maps, find the lowest location number that corresponds to any of the initial seeds. To do this, you'll need to convert each seed number through other categories until you can find its corresponding location number. In this example, the corresponding types are:  \n",
    "  \n",
    "Seed 79, soil 81, fertilizer 81, water 81, light 74, temperature 78, humidity 78, location 82.  \n",
    "Seed 14, soil 14, fertilizer 53, water 49, light 42, temperature 42, humidity 43, location 43.  \n",
    "Seed 55, soil 57, fertilizer 57, water 53, light 46, temperature 82, humidity 82, location 86.  \n",
    "Seed 13, soil 13, fertilizer 52, water 41, light 34, temperature 34, humidity 35, location 35.  \n",
    "So, the lowest location number in this example is 35.  \n",
    "  \n",
    "What is the lowest location number that corresponds to any of the initial seed numbers?  "
   ]
  },
  {
   "cell_type": "markdown",
   "metadata": {},
   "source": [
    "# General thoughts"
   ]
  },
  {
   "cell_type": "markdown",
   "metadata": {},
   "source": [
    "We might want to assume that there is a unique trace-back of categories such that there are not multiple categories mapping to, for example, location."
   ]
  },
  {
   "cell_type": "markdown",
   "metadata": {},
   "source": [
    "# Solutions"
   ]
  },
  {
   "cell_type": "markdown",
   "metadata": {},
   "source": [
    "## Solution 1:"
   ]
  },
  {
   "cell_type": "markdown",
   "metadata": {},
   "source": [
    "### Explanation of method"
   ]
  },
  {
   "cell_type": "markdown",
   "metadata": {},
   "source": [
    "1. RETRIEVING THE TYPE MAPPINGS:  \n",
    "1.1. Find lines containing the word `to`    \n",
    "1.2. Add each *source-to-destination* *tag-mapping* as a key to the `tag_mapping_dict` dictionary.   \n",
    "  \n",
    "2. GETTING THE TRACE:    \n",
    "2.0. Write a function `get_source_tag` that returns the *source-tag* to a particular *destination-tag*  \n",
    "2.1. Find the *location*-tag (presumably unique)  \n",
    "2.2. Use `get_source_tag` to retrieve the *source-tag* corresponding to having *location* as its *destination-tag*. This source tag will be the destination tag to some (presumably unique) new *source-tag*  \n",
    "2.3. Repeat 2.2 until we reach *seed*. Retrieve the *tag-mappings*-chain, as the reverse order of the inverse-chain.  \n",
    "  \n",
    "3. APPLYING THE MAPPINGS:  \n",
    "3.0.  \n",
    "3.1. "
   ]
  },
  {
   "cell_type": "markdown",
   "metadata": {},
   "source": [
    "### Implementation"
   ]
  },
  {
   "cell_type": "markdown",
   "metadata": {},
   "source": [
    "### Step 1:"
   ]
  },
  {
   "cell_type": "code",
   "execution_count": 158,
   "metadata": {},
   "outputs": [],
   "source": [
    "def get_mapping_from_tuple(mapping_tuple: tuple):\n",
    "    start_destination = mapping_tuple[0]\n",
    "    start_source = mapping_tuple[1]\n",
    "    length_custom_mapping = mapping_tuple[2]\n",
    "\n",
    "    range_source = range(start_source, start_source + length_custom_mapping)\n",
    "    range_destination = range(start_destination, start_destination + length_custom_mapping)\n",
    "    source_destination_mapping_dict = {source: destination for source, destination in zip(range_source, range_destination)}\n",
    "    \n",
    "    source_destination_mapping_dict.values()\n",
    "    # Add non-custom mappings that are one to one (take 0 to 99 range and setminus range_destination)\n"
   ]
  },
  {
   "cell_type": "markdown",
   "metadata": {},
   "source": [
    "### Step 2:"
   ]
  },
  {
   "cell_type": "markdown",
   "metadata": {},
   "source": [
    "### Checking runtime"
   ]
  },
  {
   "cell_type": "markdown",
   "metadata": {},
   "source": [
    "#### Benchmarking"
   ]
  },
  {
   "cell_type": "markdown",
   "metadata": {},
   "source": [
    "#### Runtime profiling"
   ]
  },
  {
   "cell_type": "markdown",
   "metadata": {},
   "source": [
    "## Solution 2:"
   ]
  },
  {
   "cell_type": "code",
   "execution_count": null,
   "metadata": {},
   "outputs": [],
   "source": []
  },
  {
   "cell_type": "markdown",
   "metadata": {},
   "source": [
    "# Experimenting"
   ]
  },
  {
   "cell_type": "markdown",
   "metadata": {},
   "source": [
    "## Experimenting with wrangling the data"
   ]
  },
  {
   "cell_type": "code",
   "execution_count": 159,
   "metadata": {},
   "outputs": [
    {
     "data": {
      "text/plain": [
       "48"
      ]
     },
     "execution_count": 159,
     "metadata": {},
     "output_type": "execute_result"
    }
   ],
   "source": [
    "len(list(range(50, 50+48)))"
   ]
  },
  {
   "cell_type": "code",
   "execution_count": null,
   "metadata": {},
   "outputs": [],
   "source": []
  },
  {
   "cell_type": "code",
   "execution_count": 160,
   "metadata": {},
   "outputs": [],
   "source": [
    "# test_tmp.keys()"
   ]
  },
  {
   "cell_type": "code",
   "execution_count": 161,
   "metadata": {},
   "outputs": [],
   "source": [
    "def test_get_source_destination_mapping_01(mapping_tuple: tuple):\n",
    "    start_destination = mapping_tuple[0]\n",
    "    start_source = mapping_tuple[1]\n",
    "    length_custom_mapping = mapping_tuple[2]\n",
    "\n",
    "    range_source = range(start_source, start_source + length_custom_mapping)\n",
    "    range_destination = range(start_destination, start_destination + length_custom_mapping)\n",
    "    source_destination_mapping_dict = {source: destination for source, destination in zip(range_source, range_destination)}\n",
    "    \n",
    "    return source_destination_mapping_dict"
   ]
  },
  {
   "cell_type": "code",
   "execution_count": 162,
   "metadata": {},
   "outputs": [],
   "source": [
    "test_mapping_tuple_01 = (50, 98, 2)"
   ]
  },
  {
   "cell_type": "code",
   "execution_count": 163,
   "metadata": {},
   "outputs": [
    {
     "data": {
      "text/plain": [
       "{98: 50, 99: 51}"
      ]
     },
     "execution_count": 163,
     "metadata": {},
     "output_type": "execute_result"
    }
   ],
   "source": [
    "test_get_source_destination_mapping_01(test_mapping_tuple_01)"
   ]
  },
  {
   "cell_type": "code",
   "execution_count": 164,
   "metadata": {},
   "outputs": [],
   "source": [
    "test_mapping_tuple_02 = (52, 50, 48)"
   ]
  },
  {
   "cell_type": "code",
   "execution_count": 165,
   "metadata": {},
   "outputs": [
    {
     "data": {
      "text/plain": [
       "{50: 52,\n",
       " 51: 53,\n",
       " 52: 54,\n",
       " 53: 55,\n",
       " 54: 56,\n",
       " 55: 57,\n",
       " 56: 58,\n",
       " 57: 59,\n",
       " 58: 60,\n",
       " 59: 61,\n",
       " 60: 62,\n",
       " 61: 63,\n",
       " 62: 64,\n",
       " 63: 65,\n",
       " 64: 66,\n",
       " 65: 67,\n",
       " 66: 68,\n",
       " 67: 69,\n",
       " 68: 70,\n",
       " 69: 71,\n",
       " 70: 72,\n",
       " 71: 73,\n",
       " 72: 74,\n",
       " 73: 75,\n",
       " 74: 76,\n",
       " 75: 77,\n",
       " 76: 78,\n",
       " 77: 79,\n",
       " 78: 80,\n",
       " 79: 81,\n",
       " 80: 82,\n",
       " 81: 83,\n",
       " 82: 84,\n",
       " 83: 85,\n",
       " 84: 86,\n",
       " 85: 87,\n",
       " 86: 88,\n",
       " 87: 89,\n",
       " 88: 90,\n",
       " 89: 91,\n",
       " 90: 92,\n",
       " 91: 93,\n",
       " 92: 94,\n",
       " 93: 95,\n",
       " 94: 96,\n",
       " 95: 97,\n",
       " 96: 98,\n",
       " 97: 99}"
      ]
     },
     "execution_count": 165,
     "metadata": {},
     "output_type": "execute_result"
    }
   ],
   "source": [
    "test_get_source_destination_mapping_01(test_mapping_tuple_02)"
   ]
  },
  {
   "cell_type": "code",
   "execution_count": 166,
   "metadata": {},
   "outputs": [],
   "source": [
    "def test_get_source_destination_mapping_02(mapping_tuple: tuple):\n",
    "    start_destination = mapping_tuple[0]\n",
    "    start_source = mapping_tuple[1]\n",
    "    length_custom_mapping = mapping_tuple[2]\n",
    "\n",
    "    range_source = range(start_source, start_source + length_custom_mapping)\n",
    "    range_destination = range(start_destination, start_destination + length_custom_mapping)\n",
    "    source_destination_mapping_dict = {i: i for i in range(100)}\n",
    "\n",
    "    source_destination_mapping_dict.update({source: destination for source, destination in zip(range_source, range_destination)})\n",
    "    \n",
    "    return source_destination_mapping_dict"
   ]
  },
  {
   "cell_type": "code",
   "execution_count": 167,
   "metadata": {},
   "outputs": [
    {
     "data": {
      "text/plain": [
       "{0: 0,\n",
       " 1: 1,\n",
       " 2: 2,\n",
       " 3: 3,\n",
       " 4: 4,\n",
       " 5: 5,\n",
       " 6: 6,\n",
       " 7: 7,\n",
       " 8: 8,\n",
       " 9: 9,\n",
       " 10: 10,\n",
       " 11: 11,\n",
       " 12: 12,\n",
       " 13: 13,\n",
       " 14: 14,\n",
       " 15: 15,\n",
       " 16: 16,\n",
       " 17: 17,\n",
       " 18: 18,\n",
       " 19: 19,\n",
       " 20: 20,\n",
       " 21: 21,\n",
       " 22: 22,\n",
       " 23: 23,\n",
       " 24: 24,\n",
       " 25: 25,\n",
       " 26: 26,\n",
       " 27: 27,\n",
       " 28: 28,\n",
       " 29: 29,\n",
       " 30: 30,\n",
       " 31: 31,\n",
       " 32: 32,\n",
       " 33: 33,\n",
       " 34: 34,\n",
       " 35: 35,\n",
       " 36: 36,\n",
       " 37: 37,\n",
       " 38: 38,\n",
       " 39: 39,\n",
       " 40: 40,\n",
       " 41: 41,\n",
       " 42: 42,\n",
       " 43: 43,\n",
       " 44: 44,\n",
       " 45: 45,\n",
       " 46: 46,\n",
       " 47: 47,\n",
       " 48: 48,\n",
       " 49: 49,\n",
       " 50: 50,\n",
       " 51: 51,\n",
       " 52: 52,\n",
       " 53: 53,\n",
       " 54: 54,\n",
       " 55: 55,\n",
       " 56: 56,\n",
       " 57: 57,\n",
       " 58: 58,\n",
       " 59: 59,\n",
       " 60: 60,\n",
       " 61: 61,\n",
       " 62: 62,\n",
       " 63: 63,\n",
       " 64: 64,\n",
       " 65: 65,\n",
       " 66: 66,\n",
       " 67: 67,\n",
       " 68: 68,\n",
       " 69: 69,\n",
       " 70: 70,\n",
       " 71: 71,\n",
       " 72: 72,\n",
       " 73: 73,\n",
       " 74: 74,\n",
       " 75: 75,\n",
       " 76: 76,\n",
       " 77: 77,\n",
       " 78: 78,\n",
       " 79: 79,\n",
       " 80: 80,\n",
       " 81: 81,\n",
       " 82: 82,\n",
       " 83: 83,\n",
       " 84: 84,\n",
       " 85: 85,\n",
       " 86: 86,\n",
       " 87: 87,\n",
       " 88: 88,\n",
       " 89: 89,\n",
       " 90: 90,\n",
       " 91: 91,\n",
       " 92: 92,\n",
       " 93: 93,\n",
       " 94: 94,\n",
       " 95: 95,\n",
       " 96: 96,\n",
       " 97: 97,\n",
       " 98: 50,\n",
       " 99: 51}"
      ]
     },
     "execution_count": 167,
     "metadata": {},
     "output_type": "execute_result"
    }
   ],
   "source": [
    "test_get_source_destination_mapping_02(test_mapping_tuple_01)"
   ]
  },
  {
   "cell_type": "markdown",
   "metadata": {},
   "source": [
    "We note that the above functions only deal with the first mapping tuple line. We will need an update function"
   ]
  },
  {
   "cell_type": "code",
   "execution_count": 168,
   "metadata": {},
   "outputs": [],
   "source": [
    "def test_update_source_destination_mapping_01(mapping_tuple: tuple, previous_dict: dict):\n",
    "    start_destination = mapping_tuple[0]\n",
    "    start_source = mapping_tuple[1]\n",
    "    length_custom_mapping = mapping_tuple[2]\n",
    "\n",
    "    range_source = range(start_source, start_source + length_custom_mapping)\n",
    "    range_destination = range(start_destination, start_destination + length_custom_mapping)\n",
    "    \n",
    "    new_dict = previous_dict.copy() # !!! IS THIS NECCESSARY?\n",
    "    \n",
    "    new_dict.update({source: destination for source, destination in zip(range_source, range_destination)})\n",
    "    \n",
    "    return new_dict"
   ]
  },
  {
   "cell_type": "markdown",
   "metadata": {},
   "source": [
    "This ends up looking a lot like the previous functions. Let's generalise:"
   ]
  },
  {
   "cell_type": "code",
   "execution_count": 169,
   "metadata": {},
   "outputs": [],
   "source": [
    "def test_create_source_destination_mapping_01(mapping_tuple: tuple, previous_dict: dict = None):\n",
    "    start_destination = mapping_tuple[0]\n",
    "    start_source = mapping_tuple[1]\n",
    "    length_custom_mapping = mapping_tuple[2]\n",
    "\n",
    "    range_source = range(start_source, start_source + length_custom_mapping)\n",
    "    range_destination = range(start_destination, start_destination + length_custom_mapping)\n",
    "    \n",
    "    new_dict = previous_dict.copy() if previous_dict else {i: i for i in range(100)}\n",
    "    \n",
    "    new_dict.update({source: destination for source, destination in zip(range_source, range_destination)})\n",
    "    \n",
    "    return new_dict"
   ]
  },
  {
   "cell_type": "code",
   "execution_count": 170,
   "metadata": {},
   "outputs": [
    {
     "data": {
      "text/plain": [
       "{0: 0,\n",
       " 1: 1,\n",
       " 2: 2,\n",
       " 3: 3,\n",
       " 4: 4,\n",
       " 5: 5,\n",
       " 6: 6,\n",
       " 7: 7,\n",
       " 8: 8,\n",
       " 9: 9,\n",
       " 10: 10,\n",
       " 11: 11,\n",
       " 12: 12,\n",
       " 13: 13,\n",
       " 14: 14,\n",
       " 15: 15,\n",
       " 16: 16,\n",
       " 17: 17,\n",
       " 18: 18,\n",
       " 19: 19,\n",
       " 20: 20,\n",
       " 21: 21,\n",
       " 22: 22,\n",
       " 23: 23,\n",
       " 24: 24,\n",
       " 25: 25,\n",
       " 26: 26,\n",
       " 27: 27,\n",
       " 28: 28,\n",
       " 29: 29,\n",
       " 30: 30,\n",
       " 31: 31,\n",
       " 32: 32,\n",
       " 33: 33,\n",
       " 34: 34,\n",
       " 35: 35,\n",
       " 36: 36,\n",
       " 37: 37,\n",
       " 38: 38,\n",
       " 39: 39,\n",
       " 40: 40,\n",
       " 41: 41,\n",
       " 42: 42,\n",
       " 43: 43,\n",
       " 44: 44,\n",
       " 45: 45,\n",
       " 46: 46,\n",
       " 47: 47,\n",
       " 48: 48,\n",
       " 49: 49,\n",
       " 50: 50,\n",
       " 51: 51,\n",
       " 52: 52,\n",
       " 53: 53,\n",
       " 54: 54,\n",
       " 55: 55,\n",
       " 56: 56,\n",
       " 57: 57,\n",
       " 58: 58,\n",
       " 59: 59,\n",
       " 60: 60,\n",
       " 61: 61,\n",
       " 62: 62,\n",
       " 63: 63,\n",
       " 64: 64,\n",
       " 65: 65,\n",
       " 66: 66,\n",
       " 67: 67,\n",
       " 68: 68,\n",
       " 69: 69,\n",
       " 70: 70,\n",
       " 71: 71,\n",
       " 72: 72,\n",
       " 73: 73,\n",
       " 74: 74,\n",
       " 75: 75,\n",
       " 76: 76,\n",
       " 77: 77,\n",
       " 78: 78,\n",
       " 79: 79,\n",
       " 80: 80,\n",
       " 81: 81,\n",
       " 82: 82,\n",
       " 83: 83,\n",
       " 84: 84,\n",
       " 85: 85,\n",
       " 86: 86,\n",
       " 87: 87,\n",
       " 88: 88,\n",
       " 89: 89,\n",
       " 90: 90,\n",
       " 91: 91,\n",
       " 92: 92,\n",
       " 93: 93,\n",
       " 94: 94,\n",
       " 95: 95,\n",
       " 96: 96,\n",
       " 97: 97,\n",
       " 98: 50,\n",
       " 99: 51}"
      ]
     },
     "execution_count": 170,
     "metadata": {},
     "output_type": "execute_result"
    }
   ],
   "source": [
    "test_mapping_tuple_result_01 = test_create_source_destination_mapping_01(test_mapping_tuple_01)\n",
    "test_mapping_tuple_result_01"
   ]
  },
  {
   "cell_type": "code",
   "execution_count": 171,
   "metadata": {},
   "outputs": [
    {
     "data": {
      "text/plain": [
       "{0: 0,\n",
       " 1: 1,\n",
       " 2: 2,\n",
       " 3: 3,\n",
       " 4: 4,\n",
       " 5: 5,\n",
       " 6: 6,\n",
       " 7: 7,\n",
       " 8: 8,\n",
       " 9: 9,\n",
       " 10: 10,\n",
       " 11: 11,\n",
       " 12: 12,\n",
       " 13: 13,\n",
       " 14: 14,\n",
       " 15: 15,\n",
       " 16: 16,\n",
       " 17: 17,\n",
       " 18: 18,\n",
       " 19: 19,\n",
       " 20: 20,\n",
       " 21: 21,\n",
       " 22: 22,\n",
       " 23: 23,\n",
       " 24: 24,\n",
       " 25: 25,\n",
       " 26: 26,\n",
       " 27: 27,\n",
       " 28: 28,\n",
       " 29: 29,\n",
       " 30: 30,\n",
       " 31: 31,\n",
       " 32: 32,\n",
       " 33: 33,\n",
       " 34: 34,\n",
       " 35: 35,\n",
       " 36: 36,\n",
       " 37: 37,\n",
       " 38: 38,\n",
       " 39: 39,\n",
       " 40: 40,\n",
       " 41: 41,\n",
       " 42: 42,\n",
       " 43: 43,\n",
       " 44: 44,\n",
       " 45: 45,\n",
       " 46: 46,\n",
       " 47: 47,\n",
       " 48: 48,\n",
       " 49: 49,\n",
       " 50: 52,\n",
       " 51: 53,\n",
       " 52: 54,\n",
       " 53: 55,\n",
       " 54: 56,\n",
       " 55: 57,\n",
       " 56: 58,\n",
       " 57: 59,\n",
       " 58: 60,\n",
       " 59: 61,\n",
       " 60: 62,\n",
       " 61: 63,\n",
       " 62: 64,\n",
       " 63: 65,\n",
       " 64: 66,\n",
       " 65: 67,\n",
       " 66: 68,\n",
       " 67: 69,\n",
       " 68: 70,\n",
       " 69: 71,\n",
       " 70: 72,\n",
       " 71: 73,\n",
       " 72: 74,\n",
       " 73: 75,\n",
       " 74: 76,\n",
       " 75: 77,\n",
       " 76: 78,\n",
       " 77: 79,\n",
       " 78: 80,\n",
       " 79: 81,\n",
       " 80: 82,\n",
       " 81: 83,\n",
       " 82: 84,\n",
       " 83: 85,\n",
       " 84: 86,\n",
       " 85: 87,\n",
       " 86: 88,\n",
       " 87: 89,\n",
       " 88: 90,\n",
       " 89: 91,\n",
       " 90: 92,\n",
       " 91: 93,\n",
       " 92: 94,\n",
       " 93: 95,\n",
       " 94: 96,\n",
       " 95: 97,\n",
       " 96: 98,\n",
       " 97: 99,\n",
       " 98: 50,\n",
       " 99: 51}"
      ]
     },
     "execution_count": 171,
     "metadata": {},
     "output_type": "execute_result"
    }
   ],
   "source": [
    "test_mapping_tuple_result_02 = test_create_source_destination_mapping_01(test_mapping_tuple_02, test_mapping_tuple_result_01)\n",
    "test_mapping_tuple_result_02"
   ]
  },
  {
   "cell_type": "markdown",
   "metadata": {},
   "source": [
    "## Post finding out the problem is not conditioned to be of numbers between 0 and 99"
   ]
  },
  {
   "cell_type": "markdown",
   "metadata": {},
   "source": [
    "Ok, with no concrete bound and very large numbers and ranges, we cannot store the mappings explicitly"
   ]
  },
  {
   "cell_type": "code",
   "execution_count": 172,
   "metadata": {},
   "outputs": [
    {
     "data": {
      "text/plain": [
       "True"
      ]
     },
     "execution_count": 172,
     "metadata": {},
     "output_type": "execute_result"
    }
   ],
   "source": [
    "15 in range(10, 20)"
   ]
  },
  {
   "cell_type": "code",
   "execution_count": 173,
   "metadata": {},
   "outputs": [
    {
     "name": "stdout",
     "output_type": "stream",
     "text": [
      "x is in!\n"
     ]
    }
   ],
   "source": [
    "x = 9\n",
    "ranges = [range(10, 15), range(100, 200), range(5, 10)]\n",
    "if any(x in r for r in ranges):\n",
    "    print(\"x is in!\")\n",
    "else:\n",
    "    print(\"x is not in!\")"
   ]
  },
  {
   "cell_type": "code",
   "execution_count": 174,
   "metadata": {},
   "outputs": [
    {
     "data": {
      "text/plain": [
       "[False, False, True]"
      ]
     },
     "execution_count": 174,
     "metadata": {},
     "output_type": "execute_result"
    }
   ],
   "source": [
    "tmp_bool = [x in r for r in ranges]\n",
    "tmp_bool"
   ]
  },
  {
   "cell_type": "code",
   "execution_count": 175,
   "metadata": {},
   "outputs": [],
   "source": [
    "tmp_range = range(5, 10)"
   ]
  },
  {
   "cell_type": "code",
   "execution_count": 176,
   "metadata": {},
   "outputs": [
    {
     "data": {
      "text/plain": [
       "5"
      ]
     },
     "execution_count": 176,
     "metadata": {},
     "output_type": "execute_result"
    }
   ],
   "source": [
    "tmp_range.start"
   ]
  },
  {
   "cell_type": "code",
   "execution_count": 177,
   "metadata": {},
   "outputs": [
    {
     "data": {
      "text/plain": [
       "10"
      ]
     },
     "execution_count": 177,
     "metadata": {},
     "output_type": "execute_result"
    }
   ],
   "source": [
    "tmp_range.stop"
   ]
  },
  {
   "cell_type": "code",
   "execution_count": 178,
   "metadata": {},
   "outputs": [
    {
     "data": {
      "text/plain": [
       "1"
      ]
     },
     "execution_count": 178,
     "metadata": {},
     "output_type": "execute_result"
    }
   ],
   "source": [
    "tmp_range.step"
   ]
  },
  {
   "cell_type": "code",
   "execution_count": 179,
   "metadata": {},
   "outputs": [
    {
     "data": {
      "text/plain": [
       "np.int64(2)"
      ]
     },
     "execution_count": 179,
     "metadata": {},
     "output_type": "execute_result"
    }
   ],
   "source": [
    "np.where(tmp_bool)[0][0]"
   ]
  },
  {
   "cell_type": "code",
   "execution_count": 180,
   "metadata": {},
   "outputs": [
    {
     "data": {
      "text/plain": [
       "range(5, 10)"
      ]
     },
     "execution_count": 180,
     "metadata": {},
     "output_type": "execute_result"
    }
   ],
   "source": [
    "tmp_correct_range = ranges[np.where(tmp_bool)[0][0]]\n",
    "tmp_correct_range"
   ]
  },
  {
   "cell_type": "code",
   "execution_count": null,
   "metadata": {},
   "outputs": [],
   "source": []
  },
  {
   "cell_type": "code",
   "execution_count": 181,
   "metadata": {},
   "outputs": [],
   "source": [
    "source_number = 99\n",
    "source_range_starts = [98, 50]\n",
    "source_range_lengths = [2, 48]\n",
    "source_ranges = [range(source_range_starts[0], source_range_starts[0] + source_range_lengths[0]), range(source_range_starts[1], source_range_starts[1] + source_range_lengths[1])]"
   ]
  },
  {
   "cell_type": "code",
   "execution_count": 182,
   "metadata": {},
   "outputs": [
    {
     "data": {
      "text/plain": [
       "[range(98, 100), range(50, 98)]"
      ]
     },
     "execution_count": 182,
     "metadata": {},
     "output_type": "execute_result"
    }
   ],
   "source": [
    "source_ranges"
   ]
  },
  {
   "cell_type": "code",
   "execution_count": 183,
   "metadata": {},
   "outputs": [],
   "source": [
    "def create_list_of_ranges(range_start_list: list[int], range_length_list: list[int]):\n",
    "    assert len(range_start_list) == len(range_length_list)\n",
    "    ranges = [range(range_start_list[i], range_start_list[i] + range_length_list[i]) for i in range(len(range_start_list))]\n",
    "    return ranges"
   ]
  },
  {
   "cell_type": "code",
   "execution_count": 184,
   "metadata": {},
   "outputs": [],
   "source": [
    "def get_destination_source_ranges(source_range_start_list: list[int], destination_range_start_list: list[int], range_length_list: list[int]):\n",
    "    source_ranges = create_list_of_ranges(source_range_start_list, range_length_list)\n",
    "    destination_ranges = create_list_of_ranges(destination_range_start_list, range_length_list)\n",
    "    return destination_ranges, source_ranges"
   ]
  },
  {
   "cell_type": "code",
   "execution_count": 185,
   "metadata": {},
   "outputs": [
    {
     "name": "stdout",
     "output_type": "stream",
     "text": [
      "[range(98, 100), range(50, 98)]\n",
      "[range(50, 52), range(52, 100)]\n",
      "([range(50, 52), range(52, 100)], [range(98, 100), range(50, 98)])\n"
     ]
    }
   ],
   "source": [
    "source_range_starts = [98, 50]\n",
    "destination_range_starts = [50, 52]\n",
    "range_lengths = [2, 48]\n",
    "print(create_list_of_ranges(source_range_starts, range_lengths))\n",
    "print(create_list_of_ranges(destination_range_starts, range_lengths))\n",
    "print(get_destination_source_ranges(source_range_starts, destination_range_starts, range_lengths))"
   ]
  },
  {
   "cell_type": "code",
   "execution_count": 186,
   "metadata": {},
   "outputs": [
    {
     "name": "stdout",
     "output_type": "stream",
     "text": [
      "source_number is in!\n"
     ]
    }
   ],
   "source": [
    "if any(source_number in r for r in source_ranges):\n",
    "    print(f\"source_number is in!\")\n",
    "else:\n",
    "    print(\"source_number is not in!\")"
   ]
  },
  {
   "cell_type": "code",
   "execution_count": 187,
   "metadata": {},
   "outputs": [
    {
     "data": {
      "text/plain": [
       "[0]"
      ]
     },
     "execution_count": 187,
     "metadata": {},
     "output_type": "execute_result"
    }
   ],
   "source": [
    "[i for i, r in enumerate(source_ranges) if source_number in r]"
   ]
  },
  {
   "cell_type": "code",
   "execution_count": 188,
   "metadata": {},
   "outputs": [
    {
     "data": {
      "text/plain": [
       "<generator object <genexpr> at 0x000002404DFAC2B0>"
      ]
     },
     "execution_count": 188,
     "metadata": {},
     "output_type": "execute_result"
    }
   ],
   "source": [
    "(i for i, r in enumerate(source_ranges) if source_number in r)"
   ]
  },
  {
   "cell_type": "code",
   "execution_count": 189,
   "metadata": {},
   "outputs": [
    {
     "data": {
      "text/plain": [
       "4"
      ]
     },
     "execution_count": 189,
     "metadata": {},
     "output_type": "execute_result"
    }
   ],
   "source": [
    "source_diff_from_start = x - tmp_correct_range.start \n",
    "source_diff_from_start"
   ]
  },
  {
   "cell_type": "code",
   "execution_count": null,
   "metadata": {},
   "outputs": [],
   "source": []
  },
  {
   "cell_type": "code",
   "execution_count": 190,
   "metadata": {},
   "outputs": [
    {
     "name": "stdout",
     "output_type": "stream",
     "text": [
      "source_number 55 is in the source_range with index 1, which is range(50, 98)\n",
      "This means that the difference between the start of the range that contains the source number and the source number itself is 5\n",
      "This means that the source number 55 will map to the destination number 57\n"
     ]
    }
   ],
   "source": [
    "source_number = 55\n",
    "source_range_starts = [98, 50]\n",
    "destination_range_starts = [50, 52]\n",
    "range_lengths = [2, 48]\n",
    "# print(create_list_of_ranges(source_range_starts, range_lengths))\n",
    "# print(create_list_of_ranges(destination_range_starts, range_lengths))\n",
    "# print(get_destination_source_ranges(source_range_starts, destination_range_starts, range_lengths))\n",
    "destination_ranges, source_ranges = get_destination_source_ranges(source_range_starts, destination_range_starts, range_lengths)\n",
    "source_ranges_index = next((i for i, r in reversed(list(enumerate(source_ranges))) if source_number in r), -1)\n",
    "print(f\"source_number {source_number} is in the source_range with index {source_ranges_index}, which is {source_ranges[source_ranges_index]}\")\n",
    "print(f\"This means that the difference between the start of the range that contains the source number and the source number itself is {source_number - source_ranges[source_ranges_index].start}\")\n",
    "print(f\"This means that the source number {source_number} will map to the destination number {destination_range_starts[source_ranges_index] + (source_number - source_ranges[source_ranges_index].start)}\")"
   ]
  },
  {
   "cell_type": "code",
   "execution_count": 191,
   "metadata": {},
   "outputs": [],
   "source": [
    "def get_destination_number(source_number: int, source_ranges: list[int], destination_ranges: list[int]) -> int:\n",
    "    # If there are overlaps in source ranges, take the last one.\n",
    "    source_ranges_index = next((i for i, r in reversed(list(enumerate(source_ranges))) if source_number in r), -1)\n",
    "\n",
    "    if source_ranges_index != -1:\n",
    "        # source_number is in a range\n",
    "        correct_source_range = source_ranges[source_ranges_index]\n",
    "        correct_source_range_start = correct_source_range.start\n",
    "        source_number_diff_correct_source_range_start = source_number - correct_source_range_start\n",
    "        destination_number = destination_ranges[source_ranges_index].start + source_number_diff_correct_source_range_start\n",
    "    else:\n",
    "        # source_number is not in a range, and should be mapped to the identity.\n",
    "        destination_number = source_number\n",
    "        \n",
    "    return destination_number"
   ]
  },
  {
   "cell_type": "code",
   "execution_count": null,
   "metadata": {},
   "outputs": [],
   "source": []
  },
  {
   "cell_type": "markdown",
   "metadata": {},
   "source": [
    "## Experimenting with 'retrival' of data"
   ]
  },
  {
   "cell_type": "markdown",
   "metadata": {},
   "source": [
    "### Retriving the seeds"
   ]
  },
  {
   "cell_type": "code",
   "execution_count": 192,
   "metadata": {},
   "outputs": [
    {
     "data": {
      "text/plain": [
       "['seeds: 2041142901 113138307 302673608 467797997 1787644422 208119536 143576771 99841043 4088720102 111819874 946418697 13450451 3459931852 262303791 2913410855 533641609 2178733435 26814354 1058342395 175406592',\n",
       " '',\n",
       " 'seed-to-soil map:',\n",
       " '1270068015 1235603193 242614277',\n",
       " '13415696 1478217470 21049126',\n",
       " '825250550 1160341941 75261252',\n",
       " '3786189027 1971702238 242038712',\n",
       " '3191605340 3433644052 172752250',\n",
       " '2389904665 3088515862 345128190',\n",
       " '0 1499266596 13415696',\n",
       " '1197451933 0 72616082',\n",
       " '2139929050 1721726623 249975615',\n",
       " '900511802 222541761 147014452',\n",
       " '1047526254 72616082 149925679',\n",
       " '34464822 980591812 179750129',\n",
       " '2735032855 2631943377 456572485',\n",
       " '3364357590 3606396302 421831437',\n",
       " '214214951 369556213 611035599',\n",
       " '1721726623 2213740950 418202427',\n",
       " '',\n",
       " 'soil-to-fertilizer map:',\n",
       " '226793587 358613369 356867344',\n",
       " '0 1838890301 226793587',\n",
       " '2741010192 0 358613369',\n",
       " '2257843811 715480713 173982825',\n",
       " '3099623561 1264222741 3082010',\n",
       " '1810570233 2912833547 326150077',\n",
       " '4038242924 3815312886 256724372',\n",
       " '2431826636 3268919687 279247493',\n",
       " '866869902 1671637223 167253078',\n",
       " '3102705571 889463538 374759203',\n",
       " '1615333950 2646894858 125679350',\n",
       " '2136720310 1550513722 121123501',\n",
       " '3477464774 2772574208 140259339',\n",
       " '1034122980 2065683888 581210970',\n",
       " '2711074129 3238983624 29936063',\n",
       " '583660931 1267304751 283208971',\n",
       " '1741013300 3548167180 69556933',\n",
       " '3815312886 4072037258 222930038',\n",
       " '',\n",
       " 'fertilizer-to-water map:',\n",
       " '2197389106 1911800263 305927673',\n",
       " '3117278994 244526473 20512291',\n",
       " '2957263700 4069704360 136102838',\n",
       " '1536592951 2749121858 245216219',\n",
       " '3093366538 840656765 23912456',\n",
       " '815267737 2718368501 30753357',\n",
       " '3137791285 3392529258 82147206',\n",
       " '3770129899 390297301 198889495',\n",
       " '2168252150 2217727936 29136956',\n",
       " '770420674 2367771416 44847063',\n",
       " '3304122356 4205807198 44047643',\n",
       " '94626393 318562852 71734449',\n",
       " '2518697514 2262245627 10899396',\n",
       " '1967704281 265038764 53524088',\n",
       " '846021094 2994338077 264934624',\n",
       " '1215514867 3881882833 187821527',\n",
       " '1781809170 2556752263 100818318',\n",
       " '1882627488 1690877042 85076793',\n",
       " '208796777 631622731 209034034',\n",
       " '2583608714 3508227847 39876494',\n",
       " '519341481 1587040614 19652563',\n",
       " '599791964 104559149 139967324',\n",
       " '3430004623 1246915338 340125276',\n",
       " '1110955718 0 104559149',\n",
       " '2623485208 3548104341 333778492',\n",
       " '1403336394 3259272701 133256557',\n",
       " '0 2273145023 94626393',\n",
       " '2529596910 1857788459 54011804',\n",
       " '166360842 589186796 42435935',\n",
       " '3219938491 1606693177 84183865',\n",
       " '2165362153 3505337850 2889997',\n",
       " '2021228369 2412618479 72557496',\n",
       " '538994044 2657570581 60797920',\n",
       " '739759288 3474676464 30661386',\n",
       " '417830811 1154801218 92114120',\n",
       " '509944931 864569221 9396550',\n",
       " '2093785865 2485175975 71576288',\n",
       " '3969019394 873965771 280835447',\n",
       " '2503316779 2246864892 15380735',\n",
       " '3348169999 1775953835 81834624',\n",
       " '',\n",
       " 'water-to-light map:',\n",
       " '3059617387 1101868951 93963271',\n",
       " '2772853640 2098642805 169363292',\n",
       " '193287974 683814429 1482323',\n",
       " '3780234682 1734000399 364642406',\n",
       " '194770297 193287974 490526455',\n",
       " '3550500423 902417243 199451708',\n",
       " '3466829263 2268006097 83671160',\n",
       " '3379471616 2976813583 87357647',\n",
       " '2283311570 2369871058 489542070',\n",
       " '3768145932 1195832222 12088750',\n",
       " '1202605712 3064171230 1080705858',\n",
       " '2942216932 2859413128 107440729',\n",
       " '3749952131 2351677257 18193801',\n",
       " '3049657661 2966853857 9959726',\n",
       " '902417243 1433811930 300188469',\n",
       " '3153580658 1207920972 225890958',\n",
       " '',\n",
       " 'light-to-temperature map:',\n",
       " '1088722200 1345179841 10000894',\n",
       " '4202170199 3029124889 92797097',\n",
       " '3016749137 3130683307 53232372',\n",
       " '534766220 331633133 9297796',\n",
       " '190275035 286706851 44926282',\n",
       " '3069981509 1355180735 96127340',\n",
       " '1579189291 3913052943 379484702',\n",
       " '3918942962 3793498681 21754451',\n",
       " '262413801 377451173 88614642',\n",
       " '2452226090 2443004441 143726844',\n",
       " '1958673993 2586731285 188604820',\n",
       " '2595952934 3815253132 97799811',\n",
       " '882433672 754981589 206288528',\n",
       " '608195463 3121921986 8761321',\n",
       " '393888178 145828809 140878042',\n",
       " '3166108849 1530740045 97835767',\n",
       " '351028443 139489318 6339491',\n",
       " '3410232629 961270117 222147493',\n",
       " '2449796439 4292537645 2429651',\n",
       " '2401067597 1890048598 48728842',\n",
       " '3263944616 2376148398 66856043',\n",
       " '3330800659 1451308075 79431970',\n",
       " '3632380122 2019388074 205952206',\n",
       " '1548873457 1323582243 21597598',\n",
       " '2693752745 2225340280 142089882',\n",
       " '357367934 340930929 36520244',\n",
       " '0 493278299 50785717',\n",
       " '768194739 645497224 68742488',\n",
       " '2876584504 1183417610 140164633',\n",
       " '235201317 466065815 27212484',\n",
       " '1570471055 2367430162 8718236',\n",
       " '2147278813 2775336105 253788784',\n",
       " '874238988 3335153634 8194684',\n",
       " '2835842627 714239712 40741877',\n",
       " '3838332328 1938777440 80610634',\n",
       " '50785717 0 139489318',\n",
       " '616956784 3183915679 151237955',\n",
       " '836937227 608195463 37301761',\n",
       " '1098723094 3343348318 450150363',\n",
       " '3940697413 1628575812 261472786',\n",
       " '',\n",
       " 'temperature-to-humidity map:',\n",
       " '3865679795 3411240257 137388137',\n",
       " '0 569718370 128927628',\n",
       " '2284256983 1093255418 349419361',\n",
       " '2189606444 2745948834 16886013',\n",
       " '3861728218 3796217004 3951577',\n",
       " '700036088 2134161201 67667679',\n",
       " '2639129496 1078899666 14355752',\n",
       " '4003067932 4146768977 27598493',\n",
       " '569558723 2311178479 130477365',\n",
       " '4125126694 3887925067 11822916',\n",
       " '1884679865 1442674779 129657290',\n",
       " '2633676344 1572332069 5453152',\n",
       " '862461784 1577785221 531688422',\n",
       " '4030666425 4120171499 26597478',\n",
       " '195554894 115268399 39538402',\n",
       " '235093296 235252943 334465427',\n",
       " '2132287170 698645998 57319274',\n",
       " '4158735055 3550090086 136232241',\n",
       " '2206492457 157488417 77764526',\n",
       " '3562496130 3899747983 220423516',\n",
       " '2653485248 2201828880 109349599',\n",
       " '2014337155 154806801 2681616',\n",
       " '1580787383 2536413861 97415145',\n",
       " '3453031511 3880534101 7390966',\n",
       " '1394150206 2633829006 45492562',\n",
       " '4057263903 3686322327 7821024',\n",
       " '4157273363 3548628394 1461692',\n",
       " '3460422477 3694143351 102073653',\n",
       " '4136949610 3800168581 20323753',\n",
       " '1678202528 872422329 206477337',\n",
       " '1556099825 2109473643 24687558',\n",
       " '128927628 2679321568 66627266',\n",
       " '2017018771 0 115268399',\n",
       " '4065084927 3820492334 60041767',\n",
       " '3411240257 4253176042 41791254',\n",
       " '767703767 2441655844 94758017',\n",
       " '1439642768 755965272 116457057',\n",
       " '3782919646 4174367470 78808572',\n",
       " '',\n",
       " 'humidity-to-location map:',\n",
       " '347042062 4204488573 2962316',\n",
       " '877642375 2878291222 23518224',\n",
       " '3638916554 3484768713 5466055',\n",
       " '2890676240 3280663590 83564486',\n",
       " '201731623 3228655138 52008452',\n",
       " '1692198890 1946017811 25211210',\n",
       " '1717410100 1270737209 92827656',\n",
       " '3598929376 3630765534 39987178',\n",
       " '2226479211 1578430526 262844314',\n",
       " '687169155 3670752712 117494406',\n",
       " '3884728324 1515480569 62949957',\n",
       " '3494186405 1841274840 104742971',\n",
       " '2753482998 2630924017 120642845',\n",
       " '572458731 2235388494 114710424',\n",
       " '3947678281 3490234768 140530766',\n",
       " '3433348031 3167816764 60838374',\n",
       " '350004378 2406580589 222454353',\n",
       " '804663561 1442501755 72978814',\n",
       " '4132461733 2901809446 35781203',\n",
       " '4088209047 2937590649 38937925',\n",
       " '1441554453 2350098918 56481671',\n",
       " '3644382609 201731623 240345715',\n",
       " '2489323525 1971229021 264159473',\n",
       " '2974240726 3086380958 81435806',\n",
       " '4127146972 3364228076 5314761',\n",
       " '901160599 4207450889 87516407',\n",
       " '988677006 442077338 350976352',\n",
       " '1498036124 3369542837 115225876',\n",
       " '1810237756 3788247118 416241455',\n",
       " '1613262000 1363564865 78936890',\n",
       " '253740075 2993078971 93301987',\n",
       " '3055676532 894954785 375782424',\n",
       " '1339653358 793053690 101901095',\n",
       " '2874125843 2976528574 16550397',\n",
       " '3431458956 2629034942 1889075',\n",
       " '4168242936 2751566862 126724360']"
      ]
     },
     "execution_count": 192,
     "metadata": {},
     "output_type": "execute_result"
    }
   ],
   "source": [
    "puzzle_input_split"
   ]
  },
  {
   "cell_type": "code",
   "execution_count": 193,
   "metadata": {},
   "outputs": [
    {
     "data": {
      "text/plain": [
       "['',\n",
       " '2041142901 113138307 302673608 467797997 1787644422 208119536 143576771 99841043 4088720102 111819874 946418697 13450451 3459931852 262303791 2913410855 533641609 2178733435 26814354 1058342395 175406592']"
      ]
     },
     "execution_count": 193,
     "metadata": {},
     "output_type": "execute_result"
    }
   ],
   "source": [
    "puzzle_input_split[0].split(\"seeds: \")"
   ]
  },
  {
   "cell_type": "code",
   "execution_count": 194,
   "metadata": {},
   "outputs": [
    {
     "data": {
      "text/plain": [
       "[2041142901,\n",
       " 113138307,\n",
       " 302673608,\n",
       " 467797997,\n",
       " 1787644422,\n",
       " 208119536,\n",
       " 143576771,\n",
       " 99841043,\n",
       " 4088720102,\n",
       " 111819874,\n",
       " 946418697,\n",
       " 13450451,\n",
       " 3459931852,\n",
       " 262303791,\n",
       " 2913410855,\n",
       " 533641609,\n",
       " 2178733435,\n",
       " 26814354,\n",
       " 1058342395,\n",
       " 175406592]"
      ]
     },
     "execution_count": 194,
     "metadata": {},
     "output_type": "execute_result"
    }
   ],
   "source": [
    "test_seeds = list(map(int, puzzle_input_split[0].split(\"seeds: \")[1].split(\" \")))\n",
    "test_seeds"
   ]
  },
  {
   "cell_type": "code",
   "execution_count": 195,
   "metadata": {},
   "outputs": [],
   "source": [
    "def get_seeds(puzzle_input_split: list[str]) -> list[int]:\n",
    "    seeds = list(map(int, puzzle_input_split[0].split(\"seeds: \")[1].split(\" \")))\n",
    "    return seeds"
   ]
  },
  {
   "cell_type": "markdown",
   "metadata": {},
   "source": [
    "### Retrieve the mappings"
   ]
  },
  {
   "cell_type": "code",
   "execution_count": 196,
   "metadata": {},
   "outputs": [
    {
     "data": {
      "text/plain": [
       "['seeds: 2041142901 113138307 302673608 467797997 1787644422 208119536 143576771 99841043 4088720102 111819874 946418697 13450451 3459931852 262303791 2913410855 533641609 2178733435 26814354 1058342395 175406592',\n",
       " '',\n",
       " 'seed-to-soil map:',\n",
       " '1270068015 1235603193 242614277',\n",
       " '13415696 1478217470 21049126',\n",
       " '825250550 1160341941 75261252',\n",
       " '3786189027 1971702238 242038712',\n",
       " '3191605340 3433644052 172752250',\n",
       " '2389904665 3088515862 345128190',\n",
       " '0 1499266596 13415696',\n",
       " '1197451933 0 72616082',\n",
       " '2139929050 1721726623 249975615',\n",
       " '900511802 222541761 147014452',\n",
       " '1047526254 72616082 149925679',\n",
       " '34464822 980591812 179750129',\n",
       " '2735032855 2631943377 456572485',\n",
       " '3364357590 3606396302 421831437',\n",
       " '214214951 369556213 611035599',\n",
       " '1721726623 2213740950 418202427',\n",
       " '',\n",
       " 'soil-to-fertilizer map:',\n",
       " '226793587 358613369 356867344',\n",
       " '0 1838890301 226793587',\n",
       " '2741010192 0 358613369',\n",
       " '2257843811 715480713 173982825',\n",
       " '3099623561 1264222741 3082010',\n",
       " '1810570233 2912833547 326150077',\n",
       " '4038242924 3815312886 256724372',\n",
       " '2431826636 3268919687 279247493',\n",
       " '866869902 1671637223 167253078',\n",
       " '3102705571 889463538 374759203',\n",
       " '1615333950 2646894858 125679350',\n",
       " '2136720310 1550513722 121123501',\n",
       " '3477464774 2772574208 140259339',\n",
       " '1034122980 2065683888 581210970',\n",
       " '2711074129 3238983624 29936063',\n",
       " '583660931 1267304751 283208971',\n",
       " '1741013300 3548167180 69556933',\n",
       " '3815312886 4072037258 222930038',\n",
       " '',\n",
       " 'fertilizer-to-water map:',\n",
       " '2197389106 1911800263 305927673',\n",
       " '3117278994 244526473 20512291',\n",
       " '2957263700 4069704360 136102838',\n",
       " '1536592951 2749121858 245216219',\n",
       " '3093366538 840656765 23912456',\n",
       " '815267737 2718368501 30753357',\n",
       " '3137791285 3392529258 82147206',\n",
       " '3770129899 390297301 198889495',\n",
       " '2168252150 2217727936 29136956',\n",
       " '770420674 2367771416 44847063',\n",
       " '3304122356 4205807198 44047643',\n",
       " '94626393 318562852 71734449',\n",
       " '2518697514 2262245627 10899396',\n",
       " '1967704281 265038764 53524088',\n",
       " '846021094 2994338077 264934624',\n",
       " '1215514867 3881882833 187821527',\n",
       " '1781809170 2556752263 100818318',\n",
       " '1882627488 1690877042 85076793',\n",
       " '208796777 631622731 209034034',\n",
       " '2583608714 3508227847 39876494',\n",
       " '519341481 1587040614 19652563',\n",
       " '599791964 104559149 139967324',\n",
       " '3430004623 1246915338 340125276',\n",
       " '1110955718 0 104559149',\n",
       " '2623485208 3548104341 333778492',\n",
       " '1403336394 3259272701 133256557',\n",
       " '0 2273145023 94626393',\n",
       " '2529596910 1857788459 54011804',\n",
       " '166360842 589186796 42435935',\n",
       " '3219938491 1606693177 84183865',\n",
       " '2165362153 3505337850 2889997',\n",
       " '2021228369 2412618479 72557496',\n",
       " '538994044 2657570581 60797920',\n",
       " '739759288 3474676464 30661386',\n",
       " '417830811 1154801218 92114120',\n",
       " '509944931 864569221 9396550',\n",
       " '2093785865 2485175975 71576288',\n",
       " '3969019394 873965771 280835447',\n",
       " '2503316779 2246864892 15380735',\n",
       " '3348169999 1775953835 81834624',\n",
       " '',\n",
       " 'water-to-light map:',\n",
       " '3059617387 1101868951 93963271',\n",
       " '2772853640 2098642805 169363292',\n",
       " '193287974 683814429 1482323',\n",
       " '3780234682 1734000399 364642406',\n",
       " '194770297 193287974 490526455',\n",
       " '3550500423 902417243 199451708',\n",
       " '3466829263 2268006097 83671160',\n",
       " '3379471616 2976813583 87357647',\n",
       " '2283311570 2369871058 489542070',\n",
       " '3768145932 1195832222 12088750',\n",
       " '1202605712 3064171230 1080705858',\n",
       " '2942216932 2859413128 107440729',\n",
       " '3749952131 2351677257 18193801',\n",
       " '3049657661 2966853857 9959726',\n",
       " '902417243 1433811930 300188469',\n",
       " '3153580658 1207920972 225890958',\n",
       " '',\n",
       " 'light-to-temperature map:',\n",
       " '1088722200 1345179841 10000894',\n",
       " '4202170199 3029124889 92797097',\n",
       " '3016749137 3130683307 53232372',\n",
       " '534766220 331633133 9297796',\n",
       " '190275035 286706851 44926282',\n",
       " '3069981509 1355180735 96127340',\n",
       " '1579189291 3913052943 379484702',\n",
       " '3918942962 3793498681 21754451',\n",
       " '262413801 377451173 88614642',\n",
       " '2452226090 2443004441 143726844',\n",
       " '1958673993 2586731285 188604820',\n",
       " '2595952934 3815253132 97799811',\n",
       " '882433672 754981589 206288528',\n",
       " '608195463 3121921986 8761321',\n",
       " '393888178 145828809 140878042',\n",
       " '3166108849 1530740045 97835767',\n",
       " '351028443 139489318 6339491',\n",
       " '3410232629 961270117 222147493',\n",
       " '2449796439 4292537645 2429651',\n",
       " '2401067597 1890048598 48728842',\n",
       " '3263944616 2376148398 66856043',\n",
       " '3330800659 1451308075 79431970',\n",
       " '3632380122 2019388074 205952206',\n",
       " '1548873457 1323582243 21597598',\n",
       " '2693752745 2225340280 142089882',\n",
       " '357367934 340930929 36520244',\n",
       " '0 493278299 50785717',\n",
       " '768194739 645497224 68742488',\n",
       " '2876584504 1183417610 140164633',\n",
       " '235201317 466065815 27212484',\n",
       " '1570471055 2367430162 8718236',\n",
       " '2147278813 2775336105 253788784',\n",
       " '874238988 3335153634 8194684',\n",
       " '2835842627 714239712 40741877',\n",
       " '3838332328 1938777440 80610634',\n",
       " '50785717 0 139489318',\n",
       " '616956784 3183915679 151237955',\n",
       " '836937227 608195463 37301761',\n",
       " '1098723094 3343348318 450150363',\n",
       " '3940697413 1628575812 261472786',\n",
       " '',\n",
       " 'temperature-to-humidity map:',\n",
       " '3865679795 3411240257 137388137',\n",
       " '0 569718370 128927628',\n",
       " '2284256983 1093255418 349419361',\n",
       " '2189606444 2745948834 16886013',\n",
       " '3861728218 3796217004 3951577',\n",
       " '700036088 2134161201 67667679',\n",
       " '2639129496 1078899666 14355752',\n",
       " '4003067932 4146768977 27598493',\n",
       " '569558723 2311178479 130477365',\n",
       " '4125126694 3887925067 11822916',\n",
       " '1884679865 1442674779 129657290',\n",
       " '2633676344 1572332069 5453152',\n",
       " '862461784 1577785221 531688422',\n",
       " '4030666425 4120171499 26597478',\n",
       " '195554894 115268399 39538402',\n",
       " '235093296 235252943 334465427',\n",
       " '2132287170 698645998 57319274',\n",
       " '4158735055 3550090086 136232241',\n",
       " '2206492457 157488417 77764526',\n",
       " '3562496130 3899747983 220423516',\n",
       " '2653485248 2201828880 109349599',\n",
       " '2014337155 154806801 2681616',\n",
       " '1580787383 2536413861 97415145',\n",
       " '3453031511 3880534101 7390966',\n",
       " '1394150206 2633829006 45492562',\n",
       " '4057263903 3686322327 7821024',\n",
       " '4157273363 3548628394 1461692',\n",
       " '3460422477 3694143351 102073653',\n",
       " '4136949610 3800168581 20323753',\n",
       " '1678202528 872422329 206477337',\n",
       " '1556099825 2109473643 24687558',\n",
       " '128927628 2679321568 66627266',\n",
       " '2017018771 0 115268399',\n",
       " '4065084927 3820492334 60041767',\n",
       " '3411240257 4253176042 41791254',\n",
       " '767703767 2441655844 94758017',\n",
       " '1439642768 755965272 116457057',\n",
       " '3782919646 4174367470 78808572',\n",
       " '',\n",
       " 'humidity-to-location map:',\n",
       " '347042062 4204488573 2962316',\n",
       " '877642375 2878291222 23518224',\n",
       " '3638916554 3484768713 5466055',\n",
       " '2890676240 3280663590 83564486',\n",
       " '201731623 3228655138 52008452',\n",
       " '1692198890 1946017811 25211210',\n",
       " '1717410100 1270737209 92827656',\n",
       " '3598929376 3630765534 39987178',\n",
       " '2226479211 1578430526 262844314',\n",
       " '687169155 3670752712 117494406',\n",
       " '3884728324 1515480569 62949957',\n",
       " '3494186405 1841274840 104742971',\n",
       " '2753482998 2630924017 120642845',\n",
       " '572458731 2235388494 114710424',\n",
       " '3947678281 3490234768 140530766',\n",
       " '3433348031 3167816764 60838374',\n",
       " '350004378 2406580589 222454353',\n",
       " '804663561 1442501755 72978814',\n",
       " '4132461733 2901809446 35781203',\n",
       " '4088209047 2937590649 38937925',\n",
       " '1441554453 2350098918 56481671',\n",
       " '3644382609 201731623 240345715',\n",
       " '2489323525 1971229021 264159473',\n",
       " '2974240726 3086380958 81435806',\n",
       " '4127146972 3364228076 5314761',\n",
       " '901160599 4207450889 87516407',\n",
       " '988677006 442077338 350976352',\n",
       " '1498036124 3369542837 115225876',\n",
       " '1810237756 3788247118 416241455',\n",
       " '1613262000 1363564865 78936890',\n",
       " '253740075 2993078971 93301987',\n",
       " '3055676532 894954785 375782424',\n",
       " '1339653358 793053690 101901095',\n",
       " '2874125843 2976528574 16550397',\n",
       " '3431458956 2629034942 1889075',\n",
       " '4168242936 2751566862 126724360']"
      ]
     },
     "execution_count": 196,
     "metadata": {},
     "output_type": "execute_result"
    }
   ],
   "source": [
    "puzzle_input_split"
   ]
  },
  {
   "cell_type": "code",
   "execution_count": 197,
   "metadata": {},
   "outputs": [
    {
     "data": {
      "text/plain": [
       "[False,\n",
       " False,\n",
       " True,\n",
       " False,\n",
       " False,\n",
       " False,\n",
       " False,\n",
       " False,\n",
       " False,\n",
       " False,\n",
       " False,\n",
       " False,\n",
       " False,\n",
       " False,\n",
       " False,\n",
       " False,\n",
       " False,\n",
       " False,\n",
       " False,\n",
       " False,\n",
       " True,\n",
       " False,\n",
       " False,\n",
       " False,\n",
       " False,\n",
       " False,\n",
       " False,\n",
       " False,\n",
       " False,\n",
       " False,\n",
       " False,\n",
       " False,\n",
       " False,\n",
       " False,\n",
       " False,\n",
       " False,\n",
       " False,\n",
       " False,\n",
       " False,\n",
       " False,\n",
       " True,\n",
       " False,\n",
       " False,\n",
       " False,\n",
       " False,\n",
       " False,\n",
       " False,\n",
       " False,\n",
       " False,\n",
       " False,\n",
       " False,\n",
       " False,\n",
       " False,\n",
       " False,\n",
       " False,\n",
       " False,\n",
       " False,\n",
       " False,\n",
       " False,\n",
       " False,\n",
       " False,\n",
       " False,\n",
       " False,\n",
       " False,\n",
       " False,\n",
       " False,\n",
       " False,\n",
       " False,\n",
       " False,\n",
       " False,\n",
       " False,\n",
       " False,\n",
       " False,\n",
       " False,\n",
       " False,\n",
       " False,\n",
       " False,\n",
       " False,\n",
       " False,\n",
       " False,\n",
       " False,\n",
       " False,\n",
       " True,\n",
       " False,\n",
       " False,\n",
       " False,\n",
       " False,\n",
       " False,\n",
       " False,\n",
       " False,\n",
       " False,\n",
       " False,\n",
       " False,\n",
       " False,\n",
       " False,\n",
       " False,\n",
       " False,\n",
       " False,\n",
       " False,\n",
       " False,\n",
       " True,\n",
       " False,\n",
       " False,\n",
       " False,\n",
       " False,\n",
       " False,\n",
       " False,\n",
       " False,\n",
       " False,\n",
       " False,\n",
       " False,\n",
       " False,\n",
       " False,\n",
       " False,\n",
       " False,\n",
       " False,\n",
       " False,\n",
       " False,\n",
       " False,\n",
       " False,\n",
       " False,\n",
       " False,\n",
       " False,\n",
       " False,\n",
       " False,\n",
       " False,\n",
       " False,\n",
       " False,\n",
       " False,\n",
       " False,\n",
       " False,\n",
       " False,\n",
       " False,\n",
       " False,\n",
       " False,\n",
       " False,\n",
       " False,\n",
       " False,\n",
       " False,\n",
       " False,\n",
       " False,\n",
       " False,\n",
       " True,\n",
       " False,\n",
       " False,\n",
       " False,\n",
       " False,\n",
       " False,\n",
       " False,\n",
       " False,\n",
       " False,\n",
       " False,\n",
       " False,\n",
       " False,\n",
       " False,\n",
       " False,\n",
       " False,\n",
       " False,\n",
       " False,\n",
       " False,\n",
       " False,\n",
       " False,\n",
       " False,\n",
       " False,\n",
       " False,\n",
       " False,\n",
       " False,\n",
       " False,\n",
       " False,\n",
       " False,\n",
       " False,\n",
       " False,\n",
       " False,\n",
       " False,\n",
       " False,\n",
       " False,\n",
       " False,\n",
       " False,\n",
       " False,\n",
       " False,\n",
       " False,\n",
       " False,\n",
       " True,\n",
       " False,\n",
       " False,\n",
       " False,\n",
       " False,\n",
       " False,\n",
       " False,\n",
       " False,\n",
       " False,\n",
       " False,\n",
       " False,\n",
       " False,\n",
       " False,\n",
       " False,\n",
       " False,\n",
       " False,\n",
       " False,\n",
       " False,\n",
       " False,\n",
       " False,\n",
       " False,\n",
       " False,\n",
       " False,\n",
       " False,\n",
       " False,\n",
       " False,\n",
       " False,\n",
       " False,\n",
       " False,\n",
       " False,\n",
       " False,\n",
       " False,\n",
       " False,\n",
       " False,\n",
       " False,\n",
       " False,\n",
       " False]"
      ]
     },
     "execution_count": 197,
     "metadata": {},
     "output_type": "execute_result"
    }
   ],
   "source": [
    "list(map(lambda x: \"map\" in x, puzzle_input_split))"
   ]
  },
  {
   "cell_type": "code",
   "execution_count": 198,
   "metadata": {},
   "outputs": [],
   "source": [
    "tmp_list = [\"a\", \"b\", \"c\"]"
   ]
  },
  {
   "cell_type": "code",
   "execution_count": 199,
   "metadata": {},
   "outputs": [
    {
     "name": "stdout",
     "output_type": "stream",
     "text": [
      "i: 0, p: a\n",
      "i: 1, p: b\n",
      "i: 2, p: c\n"
     ]
    }
   ],
   "source": [
    "for i, p in enumerate(tmp_list):\n",
    "    print(f\"i: {i}, p: {p}\")"
   ]
  },
  {
   "cell_type": "code",
   "execution_count": 200,
   "metadata": {},
   "outputs": [
    {
     "data": {
      "text/plain": [
       "[2, 20, 40, 82, 100, 142, 182]"
      ]
     },
     "execution_count": 200,
     "metadata": {},
     "output_type": "execute_result"
    }
   ],
   "source": [
    "test_map_index = [i for i, x in enumerate(puzzle_input_split) if \"map\" in x]\n",
    "test_map_index"
   ]
  },
  {
   "cell_type": "code",
   "execution_count": 201,
   "metadata": {},
   "outputs": [
    {
     "data": {
      "text/plain": [
       "[3, 4, 5, 6, 7, 8, 9, 10, 11, 12, 13, 14, 15, 16, 17, 18]"
      ]
     },
     "execution_count": 201,
     "metadata": {},
     "output_type": "execute_result"
    }
   ],
   "source": [
    "list(range(test_map_index[0] + 1, test_map_index[1] - 1))"
   ]
  },
  {
   "cell_type": "code",
   "execution_count": 202,
   "metadata": {},
   "outputs": [
    {
     "name": "stdout",
     "output_type": "stream",
     "text": [
      "puzzle_input_split[18]: 1721726623 2213740950 418202427\n",
      "puzzle_input_split[19]: \n",
      "puzzle_input_split[20]: soil-to-fertilizer map:\n"
     ]
    }
   ],
   "source": [
    "print(f\"puzzle_input_split[18]: {puzzle_input_split[18]}\")\n",
    "print(f\"puzzle_input_split[19]: {puzzle_input_split[19]}\")\n",
    "print(f\"puzzle_input_split[20]: {puzzle_input_split[20]}\")"
   ]
  },
  {
   "cell_type": "code",
   "execution_count": 203,
   "metadata": {},
   "outputs": [
    {
     "data": {
      "text/plain": [
       "[range(3, 19),\n",
       " range(21, 39),\n",
       " range(41, 81),\n",
       " range(83, 99),\n",
       " range(101, 141),\n",
       " range(143, 181),\n",
       " range(183, 219)]"
      ]
     },
     "execution_count": 203,
     "metadata": {},
     "output_type": "execute_result"
    }
   ],
   "source": [
    "list_of_number_line_ranges = [range(test_map_index[k] + 1, test_map_index[k+1] - 1) if k < len(test_map_index) - 1 else range(test_map_index[k] + 1, len(puzzle_input_split)) for k in range(len(test_map_index))]\n",
    "list_of_number_line_ranges"
   ]
  },
  {
   "cell_type": "code",
   "execution_count": 204,
   "metadata": {},
   "outputs": [
    {
     "data": {
      "text/plain": [
       "[3, 4, 5, 6, 7, 8, 9, 10, 11, 12, 13, 14, 15, 16, 17, 18, 19]"
      ]
     },
     "execution_count": 204,
     "metadata": {},
     "output_type": "execute_result"
    }
   ],
   "source": [
    "list(range(3, 20))"
   ]
  },
  {
   "cell_type": "code",
   "execution_count": 205,
   "metadata": {},
   "outputs": [
    {
     "data": {
      "text/plain": [
       "'1721726623 2213740950 418202427'"
      ]
     },
     "execution_count": 205,
     "metadata": {},
     "output_type": "execute_result"
    }
   ],
   "source": [
    "puzzle_input_split[18]"
   ]
  },
  {
   "cell_type": "code",
   "execution_count": 206,
   "metadata": {},
   "outputs": [
    {
     "data": {
      "text/plain": [
       "''"
      ]
     },
     "execution_count": 206,
     "metadata": {},
     "output_type": "execute_result"
    }
   ],
   "source": [
    "puzzle_input_split[19]"
   ]
  },
  {
   "cell_type": "code",
   "execution_count": 207,
   "metadata": {},
   "outputs": [
    {
     "data": {
      "text/plain": [
       "'soil-to-fertilizer map:'"
      ]
     },
     "execution_count": 207,
     "metadata": {},
     "output_type": "execute_result"
    }
   ],
   "source": [
    "puzzle_input_split[20]"
   ]
  },
  {
   "cell_type": "code",
   "execution_count": 208,
   "metadata": {},
   "outputs": [
    {
     "name": "stdout",
     "output_type": "stream",
     "text": [
      "1270068015 1235603193 242614277\n",
      "13415696 1478217470 21049126\n",
      "825250550 1160341941 75261252\n",
      "3786189027 1971702238 242038712\n",
      "3191605340 3433644052 172752250\n",
      "2389904665 3088515862 345128190\n",
      "0 1499266596 13415696\n",
      "1197451933 0 72616082\n",
      "2139929050 1721726623 249975615\n",
      "900511802 222541761 147014452\n",
      "1047526254 72616082 149925679\n",
      "34464822 980591812 179750129\n",
      "2735032855 2631943377 456572485\n",
      "3364357590 3606396302 421831437\n",
      "214214951 369556213 611035599\n",
      "1721726623 2213740950 418202427\n"
     ]
    }
   ],
   "source": [
    "for k in list_of_number_line_ranges[0]:\n",
    "    print(puzzle_input_split[k])"
   ]
  },
  {
   "cell_type": "code",
   "execution_count": 209,
   "metadata": {},
   "outputs": [
    {
     "data": {
      "text/plain": [
       "[1, 2, 3, 4]"
      ]
     },
     "execution_count": 209,
     "metadata": {},
     "output_type": "execute_result"
    }
   ],
   "source": [
    "list(range(1,5))"
   ]
  },
  {
   "cell_type": "code",
   "execution_count": 210,
   "metadata": {},
   "outputs": [
    {
     "name": "stdout",
     "output_type": "stream",
     "text": [
      "1270068015 1235603193 242614277\n",
      "13415696 1478217470 21049126\n",
      "825250550 1160341941 75261252\n",
      "3786189027 1971702238 242038712\n",
      "3191605340 3433644052 172752250\n",
      "2389904665 3088515862 345128190\n",
      "0 1499266596 13415696\n",
      "1197451933 0 72616082\n",
      "2139929050 1721726623 249975615\n",
      "900511802 222541761 147014452\n",
      "1047526254 72616082 149925679\n",
      "34464822 980591812 179750129\n",
      "2735032855 2631943377 456572485\n",
      "3364357590 3606396302 421831437\n",
      "214214951 369556213 611035599\n",
      "1721726623 2213740950 418202427\n",
      "\n",
      "226793587 358613369 356867344\n",
      "0 1838890301 226793587\n",
      "2741010192 0 358613369\n",
      "2257843811 715480713 173982825\n",
      "3099623561 1264222741 3082010\n",
      "1810570233 2912833547 326150077\n",
      "4038242924 3815312886 256724372\n",
      "2431826636 3268919687 279247493\n",
      "866869902 1671637223 167253078\n",
      "3102705571 889463538 374759203\n",
      "1615333950 2646894858 125679350\n",
      "2136720310 1550513722 121123501\n",
      "3477464774 2772574208 140259339\n",
      "1034122980 2065683888 581210970\n",
      "2711074129 3238983624 29936063\n",
      "583660931 1267304751 283208971\n",
      "1741013300 3548167180 69556933\n",
      "3815312886 4072037258 222930038\n",
      "\n",
      "2197389106 1911800263 305927673\n",
      "3117278994 244526473 20512291\n",
      "2957263700 4069704360 136102838\n",
      "1536592951 2749121858 245216219\n",
      "3093366538 840656765 23912456\n",
      "815267737 2718368501 30753357\n",
      "3137791285 3392529258 82147206\n",
      "3770129899 390297301 198889495\n",
      "2168252150 2217727936 29136956\n",
      "770420674 2367771416 44847063\n",
      "3304122356 4205807198 44047643\n",
      "94626393 318562852 71734449\n",
      "2518697514 2262245627 10899396\n",
      "1967704281 265038764 53524088\n",
      "846021094 2994338077 264934624\n",
      "1215514867 3881882833 187821527\n",
      "1781809170 2556752263 100818318\n",
      "1882627488 1690877042 85076793\n",
      "208796777 631622731 209034034\n",
      "2583608714 3508227847 39876494\n",
      "519341481 1587040614 19652563\n",
      "599791964 104559149 139967324\n",
      "3430004623 1246915338 340125276\n",
      "1110955718 0 104559149\n",
      "2623485208 3548104341 333778492\n",
      "1403336394 3259272701 133256557\n",
      "0 2273145023 94626393\n",
      "2529596910 1857788459 54011804\n",
      "166360842 589186796 42435935\n",
      "3219938491 1606693177 84183865\n",
      "2165362153 3505337850 2889997\n",
      "2021228369 2412618479 72557496\n",
      "538994044 2657570581 60797920\n",
      "739759288 3474676464 30661386\n",
      "417830811 1154801218 92114120\n",
      "509944931 864569221 9396550\n",
      "2093785865 2485175975 71576288\n",
      "3969019394 873965771 280835447\n",
      "2503316779 2246864892 15380735\n",
      "3348169999 1775953835 81834624\n",
      "\n",
      "3059617387 1101868951 93963271\n",
      "2772853640 2098642805 169363292\n",
      "193287974 683814429 1482323\n",
      "3780234682 1734000399 364642406\n",
      "194770297 193287974 490526455\n",
      "3550500423 902417243 199451708\n",
      "3466829263 2268006097 83671160\n",
      "3379471616 2976813583 87357647\n",
      "2283311570 2369871058 489542070\n",
      "3768145932 1195832222 12088750\n",
      "1202605712 3064171230 1080705858\n",
      "2942216932 2859413128 107440729\n",
      "3749952131 2351677257 18193801\n",
      "3049657661 2966853857 9959726\n",
      "902417243 1433811930 300188469\n",
      "3153580658 1207920972 225890958\n",
      "\n",
      "1088722200 1345179841 10000894\n",
      "4202170199 3029124889 92797097\n",
      "3016749137 3130683307 53232372\n",
      "534766220 331633133 9297796\n",
      "190275035 286706851 44926282\n",
      "3069981509 1355180735 96127340\n",
      "1579189291 3913052943 379484702\n",
      "3918942962 3793498681 21754451\n",
      "262413801 377451173 88614642\n",
      "2452226090 2443004441 143726844\n",
      "1958673993 2586731285 188604820\n",
      "2595952934 3815253132 97799811\n",
      "882433672 754981589 206288528\n",
      "608195463 3121921986 8761321\n",
      "393888178 145828809 140878042\n",
      "3166108849 1530740045 97835767\n",
      "351028443 139489318 6339491\n",
      "3410232629 961270117 222147493\n",
      "2449796439 4292537645 2429651\n",
      "2401067597 1890048598 48728842\n",
      "3263944616 2376148398 66856043\n",
      "3330800659 1451308075 79431970\n",
      "3632380122 2019388074 205952206\n",
      "1548873457 1323582243 21597598\n",
      "2693752745 2225340280 142089882\n",
      "357367934 340930929 36520244\n",
      "0 493278299 50785717\n",
      "768194739 645497224 68742488\n",
      "2876584504 1183417610 140164633\n",
      "235201317 466065815 27212484\n",
      "1570471055 2367430162 8718236\n",
      "2147278813 2775336105 253788784\n",
      "874238988 3335153634 8194684\n",
      "2835842627 714239712 40741877\n",
      "3838332328 1938777440 80610634\n",
      "50785717 0 139489318\n",
      "616956784 3183915679 151237955\n",
      "836937227 608195463 37301761\n",
      "1098723094 3343348318 450150363\n",
      "3940697413 1628575812 261472786\n",
      "\n",
      "3865679795 3411240257 137388137\n",
      "0 569718370 128927628\n",
      "2284256983 1093255418 349419361\n",
      "2189606444 2745948834 16886013\n",
      "3861728218 3796217004 3951577\n",
      "700036088 2134161201 67667679\n",
      "2639129496 1078899666 14355752\n",
      "4003067932 4146768977 27598493\n",
      "569558723 2311178479 130477365\n",
      "4125126694 3887925067 11822916\n",
      "1884679865 1442674779 129657290\n",
      "2633676344 1572332069 5453152\n",
      "862461784 1577785221 531688422\n",
      "4030666425 4120171499 26597478\n",
      "195554894 115268399 39538402\n",
      "235093296 235252943 334465427\n",
      "2132287170 698645998 57319274\n",
      "4158735055 3550090086 136232241\n",
      "2206492457 157488417 77764526\n",
      "3562496130 3899747983 220423516\n",
      "2653485248 2201828880 109349599\n",
      "2014337155 154806801 2681616\n",
      "1580787383 2536413861 97415145\n",
      "3453031511 3880534101 7390966\n",
      "1394150206 2633829006 45492562\n",
      "4057263903 3686322327 7821024\n",
      "4157273363 3548628394 1461692\n",
      "3460422477 3694143351 102073653\n",
      "4136949610 3800168581 20323753\n",
      "1678202528 872422329 206477337\n",
      "1556099825 2109473643 24687558\n",
      "128927628 2679321568 66627266\n",
      "2017018771 0 115268399\n",
      "4065084927 3820492334 60041767\n",
      "3411240257 4253176042 41791254\n",
      "767703767 2441655844 94758017\n",
      "1439642768 755965272 116457057\n",
      "3782919646 4174367470 78808572\n",
      "\n",
      "347042062 4204488573 2962316\n",
      "877642375 2878291222 23518224\n",
      "3638916554 3484768713 5466055\n",
      "2890676240 3280663590 83564486\n",
      "201731623 3228655138 52008452\n",
      "1692198890 1946017811 25211210\n",
      "1717410100 1270737209 92827656\n",
      "3598929376 3630765534 39987178\n",
      "2226479211 1578430526 262844314\n",
      "687169155 3670752712 117494406\n",
      "3884728324 1515480569 62949957\n",
      "3494186405 1841274840 104742971\n",
      "2753482998 2630924017 120642845\n",
      "572458731 2235388494 114710424\n",
      "3947678281 3490234768 140530766\n",
      "3433348031 3167816764 60838374\n",
      "350004378 2406580589 222454353\n",
      "804663561 1442501755 72978814\n",
      "4132461733 2901809446 35781203\n",
      "4088209047 2937590649 38937925\n",
      "1441554453 2350098918 56481671\n",
      "3644382609 201731623 240345715\n",
      "2489323525 1971229021 264159473\n",
      "2974240726 3086380958 81435806\n",
      "4127146972 3364228076 5314761\n",
      "901160599 4207450889 87516407\n",
      "988677006 442077338 350976352\n",
      "1498036124 3369542837 115225876\n",
      "1810237756 3788247118 416241455\n",
      "1613262000 1363564865 78936890\n",
      "253740075 2993078971 93301987\n",
      "3055676532 894954785 375782424\n",
      "1339653358 793053690 101901095\n",
      "2874125843 2976528574 16550397\n",
      "3431458956 2629034942 1889075\n",
      "4168242936 2751566862 126724360\n",
      "\n"
     ]
    }
   ],
   "source": [
    "for number_line in list_of_number_line_ranges:\n",
    "    for number in number_line:\n",
    "        print(puzzle_input_split[number])\n",
    "    print(\"\")"
   ]
  },
  {
   "cell_type": "code",
   "execution_count": 211,
   "metadata": {},
   "outputs": [
    {
     "data": {
      "text/plain": [
       "[['1270068015 1235603193 242614277',\n",
       "  '13415696 1478217470 21049126',\n",
       "  '825250550 1160341941 75261252',\n",
       "  '3786189027 1971702238 242038712',\n",
       "  '3191605340 3433644052 172752250',\n",
       "  '2389904665 3088515862 345128190',\n",
       "  '0 1499266596 13415696',\n",
       "  '1197451933 0 72616082',\n",
       "  '2139929050 1721726623 249975615',\n",
       "  '900511802 222541761 147014452',\n",
       "  '1047526254 72616082 149925679',\n",
       "  '34464822 980591812 179750129',\n",
       "  '2735032855 2631943377 456572485',\n",
       "  '3364357590 3606396302 421831437',\n",
       "  '214214951 369556213 611035599',\n",
       "  '1721726623 2213740950 418202427'],\n",
       " ['226793587 358613369 356867344',\n",
       "  '0 1838890301 226793587',\n",
       "  '2741010192 0 358613369',\n",
       "  '2257843811 715480713 173982825',\n",
       "  '3099623561 1264222741 3082010',\n",
       "  '1810570233 2912833547 326150077',\n",
       "  '4038242924 3815312886 256724372',\n",
       "  '2431826636 3268919687 279247493',\n",
       "  '866869902 1671637223 167253078',\n",
       "  '3102705571 889463538 374759203',\n",
       "  '1615333950 2646894858 125679350',\n",
       "  '2136720310 1550513722 121123501',\n",
       "  '3477464774 2772574208 140259339',\n",
       "  '1034122980 2065683888 581210970',\n",
       "  '2711074129 3238983624 29936063',\n",
       "  '583660931 1267304751 283208971',\n",
       "  '1741013300 3548167180 69556933',\n",
       "  '3815312886 4072037258 222930038'],\n",
       " ['2197389106 1911800263 305927673',\n",
       "  '3117278994 244526473 20512291',\n",
       "  '2957263700 4069704360 136102838',\n",
       "  '1536592951 2749121858 245216219',\n",
       "  '3093366538 840656765 23912456',\n",
       "  '815267737 2718368501 30753357',\n",
       "  '3137791285 3392529258 82147206',\n",
       "  '3770129899 390297301 198889495',\n",
       "  '2168252150 2217727936 29136956',\n",
       "  '770420674 2367771416 44847063',\n",
       "  '3304122356 4205807198 44047643',\n",
       "  '94626393 318562852 71734449',\n",
       "  '2518697514 2262245627 10899396',\n",
       "  '1967704281 265038764 53524088',\n",
       "  '846021094 2994338077 264934624',\n",
       "  '1215514867 3881882833 187821527',\n",
       "  '1781809170 2556752263 100818318',\n",
       "  '1882627488 1690877042 85076793',\n",
       "  '208796777 631622731 209034034',\n",
       "  '2583608714 3508227847 39876494',\n",
       "  '519341481 1587040614 19652563',\n",
       "  '599791964 104559149 139967324',\n",
       "  '3430004623 1246915338 340125276',\n",
       "  '1110955718 0 104559149',\n",
       "  '2623485208 3548104341 333778492',\n",
       "  '1403336394 3259272701 133256557',\n",
       "  '0 2273145023 94626393',\n",
       "  '2529596910 1857788459 54011804',\n",
       "  '166360842 589186796 42435935',\n",
       "  '3219938491 1606693177 84183865',\n",
       "  '2165362153 3505337850 2889997',\n",
       "  '2021228369 2412618479 72557496',\n",
       "  '538994044 2657570581 60797920',\n",
       "  '739759288 3474676464 30661386',\n",
       "  '417830811 1154801218 92114120',\n",
       "  '509944931 864569221 9396550',\n",
       "  '2093785865 2485175975 71576288',\n",
       "  '3969019394 873965771 280835447',\n",
       "  '2503316779 2246864892 15380735',\n",
       "  '3348169999 1775953835 81834624'],\n",
       " ['3059617387 1101868951 93963271',\n",
       "  '2772853640 2098642805 169363292',\n",
       "  '193287974 683814429 1482323',\n",
       "  '3780234682 1734000399 364642406',\n",
       "  '194770297 193287974 490526455',\n",
       "  '3550500423 902417243 199451708',\n",
       "  '3466829263 2268006097 83671160',\n",
       "  '3379471616 2976813583 87357647',\n",
       "  '2283311570 2369871058 489542070',\n",
       "  '3768145932 1195832222 12088750',\n",
       "  '1202605712 3064171230 1080705858',\n",
       "  '2942216932 2859413128 107440729',\n",
       "  '3749952131 2351677257 18193801',\n",
       "  '3049657661 2966853857 9959726',\n",
       "  '902417243 1433811930 300188469',\n",
       "  '3153580658 1207920972 225890958'],\n",
       " ['1088722200 1345179841 10000894',\n",
       "  '4202170199 3029124889 92797097',\n",
       "  '3016749137 3130683307 53232372',\n",
       "  '534766220 331633133 9297796',\n",
       "  '190275035 286706851 44926282',\n",
       "  '3069981509 1355180735 96127340',\n",
       "  '1579189291 3913052943 379484702',\n",
       "  '3918942962 3793498681 21754451',\n",
       "  '262413801 377451173 88614642',\n",
       "  '2452226090 2443004441 143726844',\n",
       "  '1958673993 2586731285 188604820',\n",
       "  '2595952934 3815253132 97799811',\n",
       "  '882433672 754981589 206288528',\n",
       "  '608195463 3121921986 8761321',\n",
       "  '393888178 145828809 140878042',\n",
       "  '3166108849 1530740045 97835767',\n",
       "  '351028443 139489318 6339491',\n",
       "  '3410232629 961270117 222147493',\n",
       "  '2449796439 4292537645 2429651',\n",
       "  '2401067597 1890048598 48728842',\n",
       "  '3263944616 2376148398 66856043',\n",
       "  '3330800659 1451308075 79431970',\n",
       "  '3632380122 2019388074 205952206',\n",
       "  '1548873457 1323582243 21597598',\n",
       "  '2693752745 2225340280 142089882',\n",
       "  '357367934 340930929 36520244',\n",
       "  '0 493278299 50785717',\n",
       "  '768194739 645497224 68742488',\n",
       "  '2876584504 1183417610 140164633',\n",
       "  '235201317 466065815 27212484',\n",
       "  '1570471055 2367430162 8718236',\n",
       "  '2147278813 2775336105 253788784',\n",
       "  '874238988 3335153634 8194684',\n",
       "  '2835842627 714239712 40741877',\n",
       "  '3838332328 1938777440 80610634',\n",
       "  '50785717 0 139489318',\n",
       "  '616956784 3183915679 151237955',\n",
       "  '836937227 608195463 37301761',\n",
       "  '1098723094 3343348318 450150363',\n",
       "  '3940697413 1628575812 261472786'],\n",
       " ['3865679795 3411240257 137388137',\n",
       "  '0 569718370 128927628',\n",
       "  '2284256983 1093255418 349419361',\n",
       "  '2189606444 2745948834 16886013',\n",
       "  '3861728218 3796217004 3951577',\n",
       "  '700036088 2134161201 67667679',\n",
       "  '2639129496 1078899666 14355752',\n",
       "  '4003067932 4146768977 27598493',\n",
       "  '569558723 2311178479 130477365',\n",
       "  '4125126694 3887925067 11822916',\n",
       "  '1884679865 1442674779 129657290',\n",
       "  '2633676344 1572332069 5453152',\n",
       "  '862461784 1577785221 531688422',\n",
       "  '4030666425 4120171499 26597478',\n",
       "  '195554894 115268399 39538402',\n",
       "  '235093296 235252943 334465427',\n",
       "  '2132287170 698645998 57319274',\n",
       "  '4158735055 3550090086 136232241',\n",
       "  '2206492457 157488417 77764526',\n",
       "  '3562496130 3899747983 220423516',\n",
       "  '2653485248 2201828880 109349599',\n",
       "  '2014337155 154806801 2681616',\n",
       "  '1580787383 2536413861 97415145',\n",
       "  '3453031511 3880534101 7390966',\n",
       "  '1394150206 2633829006 45492562',\n",
       "  '4057263903 3686322327 7821024',\n",
       "  '4157273363 3548628394 1461692',\n",
       "  '3460422477 3694143351 102073653',\n",
       "  '4136949610 3800168581 20323753',\n",
       "  '1678202528 872422329 206477337',\n",
       "  '1556099825 2109473643 24687558',\n",
       "  '128927628 2679321568 66627266',\n",
       "  '2017018771 0 115268399',\n",
       "  '4065084927 3820492334 60041767',\n",
       "  '3411240257 4253176042 41791254',\n",
       "  '767703767 2441655844 94758017',\n",
       "  '1439642768 755965272 116457057',\n",
       "  '3782919646 4174367470 78808572'],\n",
       " ['347042062 4204488573 2962316',\n",
       "  '877642375 2878291222 23518224',\n",
       "  '3638916554 3484768713 5466055',\n",
       "  '2890676240 3280663590 83564486',\n",
       "  '201731623 3228655138 52008452',\n",
       "  '1692198890 1946017811 25211210',\n",
       "  '1717410100 1270737209 92827656',\n",
       "  '3598929376 3630765534 39987178',\n",
       "  '2226479211 1578430526 262844314',\n",
       "  '687169155 3670752712 117494406',\n",
       "  '3884728324 1515480569 62949957',\n",
       "  '3494186405 1841274840 104742971',\n",
       "  '2753482998 2630924017 120642845',\n",
       "  '572458731 2235388494 114710424',\n",
       "  '3947678281 3490234768 140530766',\n",
       "  '3433348031 3167816764 60838374',\n",
       "  '350004378 2406580589 222454353',\n",
       "  '804663561 1442501755 72978814',\n",
       "  '4132461733 2901809446 35781203',\n",
       "  '4088209047 2937590649 38937925',\n",
       "  '1441554453 2350098918 56481671',\n",
       "  '3644382609 201731623 240345715',\n",
       "  '2489323525 1971229021 264159473',\n",
       "  '2974240726 3086380958 81435806',\n",
       "  '4127146972 3364228076 5314761',\n",
       "  '901160599 4207450889 87516407',\n",
       "  '988677006 442077338 350976352',\n",
       "  '1498036124 3369542837 115225876',\n",
       "  '1810237756 3788247118 416241455',\n",
       "  '1613262000 1363564865 78936890',\n",
       "  '253740075 2993078971 93301987',\n",
       "  '3055676532 894954785 375782424',\n",
       "  '1339653358 793053690 101901095',\n",
       "  '2874125843 2976528574 16550397',\n",
       "  '3431458956 2629034942 1889075',\n",
       "  '4168242936 2751566862 126724360']]"
      ]
     },
     "execution_count": 211,
     "metadata": {},
     "output_type": "execute_result"
    }
   ],
   "source": [
    "test_matrix_of_mapping_indicators_str = [[puzzle_input_split[number_line] for number_line in number_line_range] for number_line_range in list_of_number_line_ranges]\n",
    "test_matrix_of_mapping_indicators_str"
   ]
  },
  {
   "cell_type": "code",
   "execution_count": 212,
   "metadata": {},
   "outputs": [
    {
     "data": {
      "text/plain": [
       "['1270068015 1235603193 242614277',\n",
       " '13415696 1478217470 21049126',\n",
       " '825250550 1160341941 75261252',\n",
       " '3786189027 1971702238 242038712',\n",
       " '3191605340 3433644052 172752250',\n",
       " '2389904665 3088515862 345128190',\n",
       " '0 1499266596 13415696',\n",
       " '1197451933 0 72616082',\n",
       " '2139929050 1721726623 249975615',\n",
       " '900511802 222541761 147014452',\n",
       " '1047526254 72616082 149925679',\n",
       " '34464822 980591812 179750129',\n",
       " '2735032855 2631943377 456572485',\n",
       " '3364357590 3606396302 421831437',\n",
       " '214214951 369556213 611035599',\n",
       " '1721726623 2213740950 418202427']"
      ]
     },
     "execution_count": 212,
     "metadata": {},
     "output_type": "execute_result"
    }
   ],
   "source": [
    "test_matrix_of_mapping_indicators_str[0]"
   ]
  },
  {
   "cell_type": "code",
   "execution_count": 213,
   "metadata": {},
   "outputs": [
    {
     "data": {
      "text/plain": [
       "[[1270068015, 1235603193, 242614277],\n",
       " [13415696, 1478217470, 21049126],\n",
       " [825250550, 1160341941, 75261252],\n",
       " [3786189027, 1971702238, 242038712],\n",
       " [3191605340, 3433644052, 172752250],\n",
       " [2389904665, 3088515862, 345128190],\n",
       " [0, 1499266596, 13415696],\n",
       " [1197451933, 0, 72616082],\n",
       " [2139929050, 1721726623, 249975615],\n",
       " [900511802, 222541761, 147014452],\n",
       " [1047526254, 72616082, 149925679],\n",
       " [34464822, 980591812, 179750129],\n",
       " [2735032855, 2631943377, 456572485],\n",
       " [3364357590, 3606396302, 421831437],\n",
       " [214214951, 369556213, 611035599],\n",
       " [1721726623, 2213740950, 418202427]]"
      ]
     },
     "execution_count": 213,
     "metadata": {},
     "output_type": "execute_result"
    }
   ],
   "source": [
    "list(map(lambda x: list(map(int, x.split(\" \"))), test_matrix_of_mapping_indicators_str[0]))"
   ]
  },
  {
   "cell_type": "code",
   "execution_count": 214,
   "metadata": {},
   "outputs": [],
   "source": [
    "def get_mapping_lines_old(puzzle_input_split: list[str]) -> list[int]:\n",
    "    len_puzzle_input_split = len(puzzle_input_split)\n",
    "    map_texts, map_lines = zip(*[(x, i) for i, x in enumerate(puzzle_input_split) if \"map\" in x])\n",
    "    list_of_number_line_ranges = [range(map_lines[k] + 1, map_lines[k+1] - 1) if k < len(map_lines) - 1 else range(map_lines[k] + 1, len(puzzle_input_split)) for k in range(len(map_lines))]\n",
    "    \n",
    "    matrix_of_mapping_indicators_str = [[puzzle_input_split[number_line] for number_line in number_line_range] for number_line_range in list_of_number_line_ranges]\n",
    "\n",
    "    # list(map(lambda x: list(map(int, x.split(\" \"))), matrix_of_mapping_indicators_str[0]))\n",
    "\n",
    "    # map_texts = [x for x in puzzle_input_split if \"map\" in x]\n",
    "    # map_lines = [i for i, x in enumerate(puzzle_input_split) if \"map\" in x]\n",
    "    \n",
    "    mapping_lines_dict = {map_texts[i]: list(map(lambda x: list(map(int, x.split(\" \"))), matrix_of_mapping_indicators_str[i])) for i in range(len(map_texts))}\n",
    "\n",
    "    return mapping_lines_dict"
   ]
  },
  {
   "cell_type": "code",
   "execution_count": 215,
   "metadata": {},
   "outputs": [],
   "source": [
    "def get_mappings(puzzle_input_split: list[str]) -> list[int]:\n",
    "    len_puzzle_input_split = len(puzzle_input_split)\n",
    "    map_texts, map_lines = zip(*[(x, i) for i, x in enumerate(puzzle_input_split) if \"map\" in x])\n",
    "    list_of_number_line_ranges = [range(map_lines[k] + 1, map_lines[k+1] - 1) if k < len(map_lines) - 1 else range(map_lines[k] + 1, len(puzzle_input_split)) for k in range(len(map_lines))]\n",
    "    \n",
    "    matrix_of_mapping_indicators_str = [[puzzle_input_split[number_line] for number_line in number_line_range] for number_line_range in list_of_number_line_ranges]\n",
    "\n",
    "    # list(map(lambda x: list(map(int, x.split(\" \"))), matrix_of_mapping_indicators_str[0]))\n",
    "\n",
    "    # map_texts = [x for x in puzzle_input_split if \"map\" in x]\n",
    "    # map_lines = [i for i, x in enumerate(puzzle_input_split) if \"map\" in x]\n",
    "    \n",
    "    mapping_lines_dict = {map_texts[i]: np.array(list(map(lambda x: list(map(int, x.split(\" \"))), matrix_of_mapping_indicators_str[i]))) for i in range(len(map_texts))}\n",
    "\n",
    "    return mapping_lines_dict"
   ]
  },
  {
   "cell_type": "code",
   "execution_count": null,
   "metadata": {},
   "outputs": [],
   "source": []
  },
  {
   "cell_type": "code",
   "execution_count": 216,
   "metadata": {},
   "outputs": [
    {
     "data": {
      "text/plain": [
       "{'seed-to-soil map:': array([[1270068015, 1235603193,  242614277],\n",
       "        [  13415696, 1478217470,   21049126],\n",
       "        [ 825250550, 1160341941,   75261252],\n",
       "        [3786189027, 1971702238,  242038712],\n",
       "        [3191605340, 3433644052,  172752250],\n",
       "        [2389904665, 3088515862,  345128190],\n",
       "        [         0, 1499266596,   13415696],\n",
       "        [1197451933,          0,   72616082],\n",
       "        [2139929050, 1721726623,  249975615],\n",
       "        [ 900511802,  222541761,  147014452],\n",
       "        [1047526254,   72616082,  149925679],\n",
       "        [  34464822,  980591812,  179750129],\n",
       "        [2735032855, 2631943377,  456572485],\n",
       "        [3364357590, 3606396302,  421831437],\n",
       "        [ 214214951,  369556213,  611035599],\n",
       "        [1721726623, 2213740950,  418202427]]),\n",
       " 'soil-to-fertilizer map:': array([[ 226793587,  358613369,  356867344],\n",
       "        [         0, 1838890301,  226793587],\n",
       "        [2741010192,          0,  358613369],\n",
       "        [2257843811,  715480713,  173982825],\n",
       "        [3099623561, 1264222741,    3082010],\n",
       "        [1810570233, 2912833547,  326150077],\n",
       "        [4038242924, 3815312886,  256724372],\n",
       "        [2431826636, 3268919687,  279247493],\n",
       "        [ 866869902, 1671637223,  167253078],\n",
       "        [3102705571,  889463538,  374759203],\n",
       "        [1615333950, 2646894858,  125679350],\n",
       "        [2136720310, 1550513722,  121123501],\n",
       "        [3477464774, 2772574208,  140259339],\n",
       "        [1034122980, 2065683888,  581210970],\n",
       "        [2711074129, 3238983624,   29936063],\n",
       "        [ 583660931, 1267304751,  283208971],\n",
       "        [1741013300, 3548167180,   69556933],\n",
       "        [3815312886, 4072037258,  222930038]]),\n",
       " 'fertilizer-to-water map:': array([[2197389106, 1911800263,  305927673],\n",
       "        [3117278994,  244526473,   20512291],\n",
       "        [2957263700, 4069704360,  136102838],\n",
       "        [1536592951, 2749121858,  245216219],\n",
       "        [3093366538,  840656765,   23912456],\n",
       "        [ 815267737, 2718368501,   30753357],\n",
       "        [3137791285, 3392529258,   82147206],\n",
       "        [3770129899,  390297301,  198889495],\n",
       "        [2168252150, 2217727936,   29136956],\n",
       "        [ 770420674, 2367771416,   44847063],\n",
       "        [3304122356, 4205807198,   44047643],\n",
       "        [  94626393,  318562852,   71734449],\n",
       "        [2518697514, 2262245627,   10899396],\n",
       "        [1967704281,  265038764,   53524088],\n",
       "        [ 846021094, 2994338077,  264934624],\n",
       "        [1215514867, 3881882833,  187821527],\n",
       "        [1781809170, 2556752263,  100818318],\n",
       "        [1882627488, 1690877042,   85076793],\n",
       "        [ 208796777,  631622731,  209034034],\n",
       "        [2583608714, 3508227847,   39876494],\n",
       "        [ 519341481, 1587040614,   19652563],\n",
       "        [ 599791964,  104559149,  139967324],\n",
       "        [3430004623, 1246915338,  340125276],\n",
       "        [1110955718,          0,  104559149],\n",
       "        [2623485208, 3548104341,  333778492],\n",
       "        [1403336394, 3259272701,  133256557],\n",
       "        [         0, 2273145023,   94626393],\n",
       "        [2529596910, 1857788459,   54011804],\n",
       "        [ 166360842,  589186796,   42435935],\n",
       "        [3219938491, 1606693177,   84183865],\n",
       "        [2165362153, 3505337850,    2889997],\n",
       "        [2021228369, 2412618479,   72557496],\n",
       "        [ 538994044, 2657570581,   60797920],\n",
       "        [ 739759288, 3474676464,   30661386],\n",
       "        [ 417830811, 1154801218,   92114120],\n",
       "        [ 509944931,  864569221,    9396550],\n",
       "        [2093785865, 2485175975,   71576288],\n",
       "        [3969019394,  873965771,  280835447],\n",
       "        [2503316779, 2246864892,   15380735],\n",
       "        [3348169999, 1775953835,   81834624]]),\n",
       " 'water-to-light map:': array([[3059617387, 1101868951,   93963271],\n",
       "        [2772853640, 2098642805,  169363292],\n",
       "        [ 193287974,  683814429,    1482323],\n",
       "        [3780234682, 1734000399,  364642406],\n",
       "        [ 194770297,  193287974,  490526455],\n",
       "        [3550500423,  902417243,  199451708],\n",
       "        [3466829263, 2268006097,   83671160],\n",
       "        [3379471616, 2976813583,   87357647],\n",
       "        [2283311570, 2369871058,  489542070],\n",
       "        [3768145932, 1195832222,   12088750],\n",
       "        [1202605712, 3064171230, 1080705858],\n",
       "        [2942216932, 2859413128,  107440729],\n",
       "        [3749952131, 2351677257,   18193801],\n",
       "        [3049657661, 2966853857,    9959726],\n",
       "        [ 902417243, 1433811930,  300188469],\n",
       "        [3153580658, 1207920972,  225890958]]),\n",
       " 'light-to-temperature map:': array([[1088722200, 1345179841,   10000894],\n",
       "        [4202170199, 3029124889,   92797097],\n",
       "        [3016749137, 3130683307,   53232372],\n",
       "        [ 534766220,  331633133,    9297796],\n",
       "        [ 190275035,  286706851,   44926282],\n",
       "        [3069981509, 1355180735,   96127340],\n",
       "        [1579189291, 3913052943,  379484702],\n",
       "        [3918942962, 3793498681,   21754451],\n",
       "        [ 262413801,  377451173,   88614642],\n",
       "        [2452226090, 2443004441,  143726844],\n",
       "        [1958673993, 2586731285,  188604820],\n",
       "        [2595952934, 3815253132,   97799811],\n",
       "        [ 882433672,  754981589,  206288528],\n",
       "        [ 608195463, 3121921986,    8761321],\n",
       "        [ 393888178,  145828809,  140878042],\n",
       "        [3166108849, 1530740045,   97835767],\n",
       "        [ 351028443,  139489318,    6339491],\n",
       "        [3410232629,  961270117,  222147493],\n",
       "        [2449796439, 4292537645,    2429651],\n",
       "        [2401067597, 1890048598,   48728842],\n",
       "        [3263944616, 2376148398,   66856043],\n",
       "        [3330800659, 1451308075,   79431970],\n",
       "        [3632380122, 2019388074,  205952206],\n",
       "        [1548873457, 1323582243,   21597598],\n",
       "        [2693752745, 2225340280,  142089882],\n",
       "        [ 357367934,  340930929,   36520244],\n",
       "        [         0,  493278299,   50785717],\n",
       "        [ 768194739,  645497224,   68742488],\n",
       "        [2876584504, 1183417610,  140164633],\n",
       "        [ 235201317,  466065815,   27212484],\n",
       "        [1570471055, 2367430162,    8718236],\n",
       "        [2147278813, 2775336105,  253788784],\n",
       "        [ 874238988, 3335153634,    8194684],\n",
       "        [2835842627,  714239712,   40741877],\n",
       "        [3838332328, 1938777440,   80610634],\n",
       "        [  50785717,          0,  139489318],\n",
       "        [ 616956784, 3183915679,  151237955],\n",
       "        [ 836937227,  608195463,   37301761],\n",
       "        [1098723094, 3343348318,  450150363],\n",
       "        [3940697413, 1628575812,  261472786]]),\n",
       " 'temperature-to-humidity map:': array([[3865679795, 3411240257,  137388137],\n",
       "        [         0,  569718370,  128927628],\n",
       "        [2284256983, 1093255418,  349419361],\n",
       "        [2189606444, 2745948834,   16886013],\n",
       "        [3861728218, 3796217004,    3951577],\n",
       "        [ 700036088, 2134161201,   67667679],\n",
       "        [2639129496, 1078899666,   14355752],\n",
       "        [4003067932, 4146768977,   27598493],\n",
       "        [ 569558723, 2311178479,  130477365],\n",
       "        [4125126694, 3887925067,   11822916],\n",
       "        [1884679865, 1442674779,  129657290],\n",
       "        [2633676344, 1572332069,    5453152],\n",
       "        [ 862461784, 1577785221,  531688422],\n",
       "        [4030666425, 4120171499,   26597478],\n",
       "        [ 195554894,  115268399,   39538402],\n",
       "        [ 235093296,  235252943,  334465427],\n",
       "        [2132287170,  698645998,   57319274],\n",
       "        [4158735055, 3550090086,  136232241],\n",
       "        [2206492457,  157488417,   77764526],\n",
       "        [3562496130, 3899747983,  220423516],\n",
       "        [2653485248, 2201828880,  109349599],\n",
       "        [2014337155,  154806801,    2681616],\n",
       "        [1580787383, 2536413861,   97415145],\n",
       "        [3453031511, 3880534101,    7390966],\n",
       "        [1394150206, 2633829006,   45492562],\n",
       "        [4057263903, 3686322327,    7821024],\n",
       "        [4157273363, 3548628394,    1461692],\n",
       "        [3460422477, 3694143351,  102073653],\n",
       "        [4136949610, 3800168581,   20323753],\n",
       "        [1678202528,  872422329,  206477337],\n",
       "        [1556099825, 2109473643,   24687558],\n",
       "        [ 128927628, 2679321568,   66627266],\n",
       "        [2017018771,          0,  115268399],\n",
       "        [4065084927, 3820492334,   60041767],\n",
       "        [3411240257, 4253176042,   41791254],\n",
       "        [ 767703767, 2441655844,   94758017],\n",
       "        [1439642768,  755965272,  116457057],\n",
       "        [3782919646, 4174367470,   78808572]]),\n",
       " 'humidity-to-location map:': array([[ 347042062, 4204488573,    2962316],\n",
       "        [ 877642375, 2878291222,   23518224],\n",
       "        [3638916554, 3484768713,    5466055],\n",
       "        [2890676240, 3280663590,   83564486],\n",
       "        [ 201731623, 3228655138,   52008452],\n",
       "        [1692198890, 1946017811,   25211210],\n",
       "        [1717410100, 1270737209,   92827656],\n",
       "        [3598929376, 3630765534,   39987178],\n",
       "        [2226479211, 1578430526,  262844314],\n",
       "        [ 687169155, 3670752712,  117494406],\n",
       "        [3884728324, 1515480569,   62949957],\n",
       "        [3494186405, 1841274840,  104742971],\n",
       "        [2753482998, 2630924017,  120642845],\n",
       "        [ 572458731, 2235388494,  114710424],\n",
       "        [3947678281, 3490234768,  140530766],\n",
       "        [3433348031, 3167816764,   60838374],\n",
       "        [ 350004378, 2406580589,  222454353],\n",
       "        [ 804663561, 1442501755,   72978814],\n",
       "        [4132461733, 2901809446,   35781203],\n",
       "        [4088209047, 2937590649,   38937925],\n",
       "        [1441554453, 2350098918,   56481671],\n",
       "        [3644382609,  201731623,  240345715],\n",
       "        [2489323525, 1971229021,  264159473],\n",
       "        [2974240726, 3086380958,   81435806],\n",
       "        [4127146972, 3364228076,    5314761],\n",
       "        [ 901160599, 4207450889,   87516407],\n",
       "        [ 988677006,  442077338,  350976352],\n",
       "        [1498036124, 3369542837,  115225876],\n",
       "        [1810237756, 3788247118,  416241455],\n",
       "        [1613262000, 1363564865,   78936890],\n",
       "        [ 253740075, 2993078971,   93301987],\n",
       "        [3055676532,  894954785,  375782424],\n",
       "        [1339653358,  793053690,  101901095],\n",
       "        [2874125843, 2976528574,   16550397],\n",
       "        [3431458956, 2629034942,    1889075],\n",
       "        [4168242936, 2751566862,  126724360]])}"
      ]
     },
     "execution_count": 216,
     "metadata": {},
     "output_type": "execute_result"
    }
   ],
   "source": [
    "test_mapping_lines = get_mappings(puzzle_input_split)\n",
    "test_mapping_lines"
   ]
  },
  {
   "cell_type": "code",
   "execution_count": 217,
   "metadata": {},
   "outputs": [
    {
     "data": {
      "text/plain": [
       "['seed-to-soil map:',\n",
       " 'soil-to-fertilizer map:',\n",
       " 'fertilizer-to-water map:',\n",
       " 'water-to-light map:',\n",
       " 'light-to-temperature map:',\n",
       " 'temperature-to-humidity map:',\n",
       " 'humidity-to-location map:']"
      ]
     },
     "execution_count": 217,
     "metadata": {},
     "output_type": "execute_result"
    }
   ],
   "source": [
    "test_mapping_texts = [x for x in puzzle_input_split if \"map\" in x]\n",
    "test_mapping_texts"
   ]
  },
  {
   "cell_type": "code",
   "execution_count": 218,
   "metadata": {},
   "outputs": [],
   "source": [
    "def get_mapping_texts(puzzle_input_split: list[str]) -> list[str]:\n",
    "    mapping_texts = np.array([x for x in puzzle_input_split if \"map\" in x], dtype = np.str_)\n",
    "    return mapping_texts"
   ]
  },
  {
   "cell_type": "markdown",
   "metadata": {},
   "source": [
    "Let's get the chain of mapping"
   ]
  },
  {
   "cell_type": "code",
   "execution_count": 219,
   "metadata": {},
   "outputs": [
    {
     "data": {
      "text/plain": [
       "['seed-to-soil map:',\n",
       " 'soil-to-fertilizer map:',\n",
       " 'fertilizer-to-water map:',\n",
       " 'water-to-light map:',\n",
       " 'light-to-temperature map:',\n",
       " 'temperature-to-humidity map:',\n",
       " 'humidity-to-location map:']"
      ]
     },
     "execution_count": 219,
     "metadata": {},
     "output_type": "execute_result"
    }
   ],
   "source": [
    "test_mapping_texts"
   ]
  },
  {
   "cell_type": "code",
   "execution_count": 220,
   "metadata": {},
   "outputs": [
    {
     "data": {
      "text/plain": [
       "'humidity-to-location map:'"
      ]
     },
     "execution_count": 220,
     "metadata": {},
     "output_type": "execute_result"
    }
   ],
   "source": [
    "test_mapping_texts[-1]"
   ]
  },
  {
   "cell_type": "code",
   "execution_count": 221,
   "metadata": {},
   "outputs": [
    {
     "data": {
      "text/plain": [
       "['humidity-to-location map:']"
      ]
     },
     "execution_count": 221,
     "metadata": {},
     "output_type": "execute_result"
    }
   ],
   "source": [
    "[x for x in test_mapping_texts if 'location' in x]"
   ]
  },
  {
   "cell_type": "code",
   "execution_count": 222,
   "metadata": {},
   "outputs": [],
   "source": [
    "reverse_mapping_order_texts = ['location']\n",
    "reverse_mapping_order_indices = [i for i, x in enumerate(test_mapping_texts) if \"location\" in x]"
   ]
  },
  {
   "cell_type": "code",
   "execution_count": 223,
   "metadata": {},
   "outputs": [
    {
     "data": {
      "text/plain": [
       "[6]"
      ]
     },
     "execution_count": 223,
     "metadata": {},
     "output_type": "execute_result"
    }
   ],
   "source": [
    "reverse_mapping_order_indices"
   ]
  },
  {
   "cell_type": "code",
   "execution_count": 224,
   "metadata": {},
   "outputs": [
    {
     "data": {
      "text/plain": [
       "['humidity-to-location map:']"
      ]
     },
     "execution_count": 224,
     "metadata": {},
     "output_type": "execute_result"
    }
   ],
   "source": [
    "[x for x in test_mapping_texts if reverse_mapping_order_texts[-1] in x]"
   ]
  },
  {
   "cell_type": "code",
   "execution_count": 225,
   "metadata": {},
   "outputs": [],
   "source": [
    "# test_mapping_texts_example = test_mapping_texts[-1]\n",
    "test_mapping_texts_example = [x for x in test_mapping_texts if reverse_mapping_order_texts[-1] in x][0]"
   ]
  },
  {
   "cell_type": "code",
   "execution_count": 226,
   "metadata": {},
   "outputs": [
    {
     "data": {
      "text/plain": [
       "'humidity-to-location map:'"
      ]
     },
     "execution_count": 226,
     "metadata": {},
     "output_type": "execute_result"
    }
   ],
   "source": [
    "test_mapping_texts_example"
   ]
  },
  {
   "cell_type": "code",
   "execution_count": 227,
   "metadata": {},
   "outputs": [
    {
     "data": {
      "text/plain": [
       "['humidity-to-location', 'map:']"
      ]
     },
     "execution_count": 227,
     "metadata": {},
     "output_type": "execute_result"
    }
   ],
   "source": [
    "test_mapping_texts_example_space_split = test_mapping_texts_example.split(\" \")\n",
    "test_mapping_texts_example_space_split"
   ]
  },
  {
   "cell_type": "code",
   "execution_count": 228,
   "metadata": {},
   "outputs": [
    {
     "data": {
      "text/plain": [
       "'humidity-to-location'"
      ]
     },
     "execution_count": 228,
     "metadata": {},
     "output_type": "execute_result"
    }
   ],
   "source": [
    "test_mapping_texts_example_space_split_isolated = test_mapping_texts_example_space_split[0]\n",
    "test_mapping_texts_example_space_split_isolated"
   ]
  },
  {
   "cell_type": "code",
   "execution_count": 229,
   "metadata": {},
   "outputs": [
    {
     "data": {
      "text/plain": [
       "('humidity', 'location')"
      ]
     },
     "execution_count": 229,
     "metadata": {},
     "output_type": "execute_result"
    }
   ],
   "source": [
    "test_mapping_texts_example_source_destination_tag = tuple(test_mapping_texts_example_space_split_isolated.split(\"-to-\"))\n",
    "test_mapping_texts_example_source_destination_tag"
   ]
  },
  {
   "cell_type": "code",
   "execution_count": 230,
   "metadata": {},
   "outputs": [
    {
     "data": {
      "text/plain": [
       "'humidity'"
      ]
     },
     "execution_count": 230,
     "metadata": {},
     "output_type": "execute_result"
    }
   ],
   "source": [
    "test_mapping_texts_example_source_destination_tag[0]"
   ]
  },
  {
   "cell_type": "code",
   "execution_count": 231,
   "metadata": {},
   "outputs": [
    {
     "data": {
      "text/plain": [
       "['temperature-to-humidity map:', 'humidity-to-location map:']"
      ]
     },
     "execution_count": 231,
     "metadata": {},
     "output_type": "execute_result"
    }
   ],
   "source": [
    "test_mapping_texts_example_get_source_entries = [x for x in test_mapping_texts if test_mapping_texts_example_source_destination_tag[0] in x]\n",
    "test_mapping_texts_example_get_source_entries"
   ]
  },
  {
   "cell_type": "code",
   "execution_count": 232,
   "metadata": {},
   "outputs": [
    {
     "data": {
      "text/plain": [
       "[(5, 'temperature-to-humidity map:')]"
      ]
     },
     "execution_count": 232,
     "metadata": {},
     "output_type": "execute_result"
    }
   ],
   "source": [
    "[(i, x) for i, x in enumerate(test_mapping_texts) if test_mapping_texts_example_source_destination_tag[0] in x and x != test_mapping_texts_example]"
   ]
  },
  {
   "cell_type": "code",
   "execution_count": 233,
   "metadata": {},
   "outputs": [
    {
     "data": {
      "text/plain": [
       "['location']"
      ]
     },
     "execution_count": 233,
     "metadata": {},
     "output_type": "execute_result"
    }
   ],
   "source": [
    "[] + [\"location\"]"
   ]
  },
  {
   "cell_type": "code",
   "execution_count": 234,
   "metadata": {},
   "outputs": [],
   "source": [
    "def split_mapping_text(mapping_text: str) -> tuple[str]:\n",
    "    source, destination = tuple(mapping_text.split(\" \")[0].split(\"-to-\"))\n",
    "    return source, destination"
   ]
  },
  {
   "cell_type": "code",
   "execution_count": 235,
   "metadata": {},
   "outputs": [
    {
     "data": {
      "text/plain": [
       "'seed-to-soil map:'"
      ]
     },
     "execution_count": 235,
     "metadata": {},
     "output_type": "execute_result"
    }
   ],
   "source": [
    "test_mapping_texts[0]"
   ]
  },
  {
   "cell_type": "code",
   "execution_count": 236,
   "metadata": {},
   "outputs": [
    {
     "data": {
      "text/plain": [
       "('seed', 'soil')"
      ]
     },
     "execution_count": 236,
     "metadata": {},
     "output_type": "execute_result"
    }
   ],
   "source": [
    "split_mapping_text(test_mapping_texts[0])"
   ]
  },
  {
   "cell_type": "code",
   "execution_count": 237,
   "metadata": {},
   "outputs": [],
   "source": [
    "def get_index_split_mapping(mapping_texts: list[str]) -> dict:\n",
    "    return {i: split_mapping_text(x) for i, x in enumerate(mapping_texts)}"
   ]
  },
  {
   "cell_type": "code",
   "execution_count": 238,
   "metadata": {},
   "outputs": [
    {
     "data": {
      "text/plain": [
       "{0: ('seed', 'soil'),\n",
       " 1: ('soil', 'fertilizer'),\n",
       " 2: ('fertilizer', 'water'),\n",
       " 3: ('water', 'light'),\n",
       " 4: ('light', 'temperature'),\n",
       " 5: ('temperature', 'humidity'),\n",
       " 6: ('humidity', 'location')}"
      ]
     },
     "execution_count": 238,
     "metadata": {},
     "output_type": "execute_result"
    }
   ],
   "source": [
    "get_index_split_mapping(test_mapping_texts)"
   ]
  },
  {
   "cell_type": "code",
   "execution_count": 239,
   "metadata": {},
   "outputs": [],
   "source": [
    "def get_destination_source_index_dict(mapping_texts: list[str]) -> dict:\n",
    "    # return {destination: (source, index) for index, (source, destination) in enumerate(mapping_texts)}\n",
    "    destination_source_pairs = [split_mapping_text(x) for x in mapping_texts]\n",
    "    return {destination: (source, index) for index, (source, destination) in enumerate(destination_source_pairs)}"
   ]
  },
  {
   "cell_type": "code",
   "execution_count": 240,
   "metadata": {},
   "outputs": [
    {
     "data": {
      "text/plain": [
       "{'soil': ('seed', 0),\n",
       " 'fertilizer': ('soil', 1),\n",
       " 'water': ('fertilizer', 2),\n",
       " 'light': ('water', 3),\n",
       " 'temperature': ('light', 4),\n",
       " 'humidity': ('temperature', 5),\n",
       " 'location': ('humidity', 6)}"
      ]
     },
     "execution_count": 240,
     "metadata": {},
     "output_type": "execute_result"
    }
   ],
   "source": [
    "get_destination_source_index_dict(test_mapping_texts)"
   ]
  },
  {
   "cell_type": "code",
   "execution_count": 241,
   "metadata": {},
   "outputs": [],
   "source": [
    "def get_mapping_path_old(mapping_texts: list[str]):\n",
    "\n",
    "    # Convert mapping_texts to np array if it is not already\n",
    "    if isinstance(mapping_texts, list) and all(isinstance(item, str) for item in mapping_texts):\n",
    "        mapping_texts_np = np.array(mapping_texts, dtype = np.str_)\n",
    "    elif isinstance(mapping_texts, np.ndarray) and mapping_texts.dtype.type is np.str_:\n",
    "        mapping_texts_np = mapping_texts\n",
    "    else:\n",
    "        raise ValueError(\"Argument must be a list of strings or a NumPy array of strings\")\n",
    "\n",
    "    while_counter = 0\n",
    "    while_max_iter = 1000\n",
    "\n",
    "    destination_source_index_dict = get_destination_source_index_dict(mapping_texts_np)\n",
    "    reverse_destination_path_text = []\n",
    "    reverse_mapping_path_index = []\n",
    "\n",
    "    reverse_destination_path_text += [\"location\"]\n",
    "\n",
    "    while reverse_destination_path_text[-1] != \"seed\" and while_counter < while_max_iter:\n",
    "        reverse_mapping_path_index += [destination_source_index_dict[reverse_destination_path_text[-1]][1]]\n",
    "        reverse_destination_path_text += [destination_source_index_dict[reverse_destination_path_text[-1]][0]]\n",
    "        while_counter += 1\n",
    "    \n",
    "    if while_counter == while_max_iter:\n",
    "        raise RuntimeError(\"While loop did not find 'seed' before reaching the maximally allowed iterations.\")\n",
    "    \n",
    "    mapping_path_index = list(reversed(reverse_mapping_path_index))\n",
    "    mapping_path_text = mapping_texts_np[mapping_path_index] # using mapping_texts_np is numpy array for indexing\n",
    "\n",
    "    return mapping_path_text, mapping_path_index\n"
   ]
  },
  {
   "cell_type": "code",
   "execution_count": 242,
   "metadata": {},
   "outputs": [],
   "source": [
    "def get_mapping_path(puzzle_input_split: list[str]):\n",
    "\n",
    "    mapping_texts_np = get_mapping_texts(puzzle_input_split)\n",
    "\n",
    "    while_counter = 0\n",
    "    while_max_iter = 1000\n",
    "\n",
    "    destination_source_index_dict = get_destination_source_index_dict(mapping_texts_np)\n",
    "    reverse_destination_path_text = []\n",
    "    reverse_mapping_path_index = []\n",
    "\n",
    "    reverse_destination_path_text += [\"location\"]\n",
    "\n",
    "    while reverse_destination_path_text[-1] != \"seed\" and while_counter < while_max_iter:\n",
    "        reverse_mapping_path_index += [destination_source_index_dict[reverse_destination_path_text[-1]][1]]\n",
    "        reverse_destination_path_text += [destination_source_index_dict[reverse_destination_path_text[-1]][0]]\n",
    "        while_counter += 1\n",
    "    \n",
    "    if while_counter == while_max_iter:\n",
    "        raise RuntimeError(\"While loop did not find 'seed' before reaching the maximally allowed iterations.\")\n",
    "    \n",
    "    mapping_path_index = list(reversed(reverse_mapping_path_index))\n",
    "    mapping_path_text = mapping_texts_np[mapping_path_index] # using mapping_texts_np is numpy array for indexing\n",
    "\n",
    "    return mapping_path_text, mapping_path_index"
   ]
  },
  {
   "cell_type": "code",
   "execution_count": 243,
   "metadata": {},
   "outputs": [
    {
     "data": {
      "text/plain": [
       "array(['seed-to-soil map:', 'soil-to-fertilizer map:',\n",
       "       'fertilizer-to-water map:', 'water-to-light map:',\n",
       "       'light-to-temperature map:', 'temperature-to-humidity map:',\n",
       "       'humidity-to-location map:'], dtype='<U28')"
      ]
     },
     "execution_count": 243,
     "metadata": {},
     "output_type": "execute_result"
    }
   ],
   "source": [
    "test_mapping_texts_np = np.array(test_mapping_texts)\n",
    "test_mapping_texts_np"
   ]
  },
  {
   "cell_type": "code",
   "execution_count": 244,
   "metadata": {},
   "outputs": [
    {
     "data": {
      "text/plain": [
       "array(['soil-to-fertilizer map:', 'fertilizer-to-water map:',\n",
       "       'water-to-light map:'], dtype='<U28')"
      ]
     },
     "execution_count": 244,
     "metadata": {},
     "output_type": "execute_result"
    }
   ],
   "source": [
    "test_mapping_texts_np[[1,2,3]]"
   ]
  },
  {
   "cell_type": "code",
   "execution_count": 245,
   "metadata": {},
   "outputs": [
    {
     "data": {
      "text/plain": [
       "(array(['seed-to-soil map:', 'soil-to-fertilizer map:',\n",
       "        'fertilizer-to-water map:', 'water-to-light map:',\n",
       "        'light-to-temperature map:', 'temperature-to-humidity map:',\n",
       "        'humidity-to-location map:'], dtype='<U28'),\n",
       " [0, 1, 2, 3, 4, 5, 6])"
      ]
     },
     "execution_count": 245,
     "metadata": {},
     "output_type": "execute_result"
    }
   ],
   "source": [
    "get_mapping_path_old(test_mapping_texts_np)"
   ]
  },
  {
   "cell_type": "markdown",
   "metadata": {},
   "source": [
    "### doing the mapping"
   ]
  },
  {
   "cell_type": "code",
   "execution_count": 246,
   "metadata": {},
   "outputs": [],
   "source": [
    "test_seed = 2041142901"
   ]
  },
  {
   "cell_type": "code",
   "execution_count": 247,
   "metadata": {},
   "outputs": [
    {
     "data": {
      "text/plain": [
       "array([[1270068015, 1235603193,  242614277],\n",
       "       [  13415696, 1478217470,   21049126],\n",
       "       [ 825250550, 1160341941,   75261252],\n",
       "       [3786189027, 1971702238,  242038712],\n",
       "       [3191605340, 3433644052,  172752250],\n",
       "       [2389904665, 3088515862,  345128190],\n",
       "       [         0, 1499266596,   13415696],\n",
       "       [1197451933,          0,   72616082],\n",
       "       [2139929050, 1721726623,  249975615],\n",
       "       [ 900511802,  222541761,  147014452],\n",
       "       [1047526254,   72616082,  149925679],\n",
       "       [  34464822,  980591812,  179750129],\n",
       "       [2735032855, 2631943377,  456572485],\n",
       "       [3364357590, 3606396302,  421831437],\n",
       "       [ 214214951,  369556213,  611035599],\n",
       "       [1721726623, 2213740950,  418202427]])"
      ]
     },
     "execution_count": 247,
     "metadata": {},
     "output_type": "execute_result"
    }
   ],
   "source": [
    "test_mapping_example = test_mapping_lines[\"seed-to-soil map:\"]\n",
    "test_mapping_example"
   ]
  },
  {
   "cell_type": "code",
   "execution_count": 248,
   "metadata": {},
   "outputs": [],
   "source": [
    "test_mapping_example_np = np.array(test_mapping_example)"
   ]
  },
  {
   "cell_type": "code",
   "execution_count": 249,
   "metadata": {},
   "outputs": [
    {
     "data": {
      "text/plain": [
       "array([1235603193, 1478217470, 1160341941, 1971702238, 3433644052,\n",
       "       3088515862, 1499266596,          0, 1721726623,  222541761,\n",
       "         72616082,  980591812, 2631943377, 3606396302,  369556213,\n",
       "       2213740950])"
      ]
     },
     "execution_count": 249,
     "metadata": {},
     "output_type": "execute_result"
    }
   ],
   "source": [
    "test_mapping_example_np[:,1]"
   ]
  },
  {
   "cell_type": "code",
   "execution_count": 250,
   "metadata": {},
   "outputs": [],
   "source": [
    "test_destination_ranges, test_source_ranges = get_destination_source_ranges(source_range_start_list=test_mapping_example_np[:,0], destination_range_start_list=test_mapping_example_np[:,1], range_length_list=test_mapping_example_np[:,2])"
   ]
  },
  {
   "cell_type": "code",
   "execution_count": 251,
   "metadata": {},
   "outputs": [
    {
     "data": {
      "text/plain": [
       "2533157228"
      ]
     },
     "execution_count": 251,
     "metadata": {},
     "output_type": "execute_result"
    }
   ],
   "source": [
    "get_destination_number(source_number = test_seed, destination_ranges=test_destination_ranges, source_ranges = test_source_ranges)"
   ]
  },
  {
   "cell_type": "code",
   "execution_count": 252,
   "metadata": {},
   "outputs": [],
   "source": [
    "test_dict = {'a':1, 'b': 2, 'c': 3}"
   ]
  },
  {
   "cell_type": "code",
   "execution_count": 253,
   "metadata": {},
   "outputs": [
    {
     "data": {
      "text/plain": [
       "1"
      ]
     },
     "execution_count": 253,
     "metadata": {},
     "output_type": "execute_result"
    }
   ],
   "source": [
    "test_dict['a']"
   ]
  },
  {
   "cell_type": "code",
   "execution_count": 146,
   "metadata": {},
   "outputs": [],
   "source": [
    "def add_1(x: int) -> int:\n",
    "    return x + 1"
   ]
  },
  {
   "cell_type": "code",
   "execution_count": 149,
   "metadata": {},
   "outputs": [],
   "source": [
    "test_number_list = [1,2,3,4]"
   ]
  },
  {
   "cell_type": "code",
   "execution_count": 151,
   "metadata": {},
   "outputs": [
    {
     "data": {
      "text/plain": [
       "[6, 7, 8, 9]"
      ]
     },
     "execution_count": 151,
     "metadata": {},
     "output_type": "execute_result"
    }
   ],
   "source": [
    "test_number_list"
   ]
  },
  {
   "cell_type": "code",
   "execution_count": 150,
   "metadata": {},
   "outputs": [],
   "source": [
    "for i in range(5):\n",
    "    test_number_list = [add_1(x) for x in test_number_list]"
   ]
  },
  {
   "cell_type": "code",
   "execution_count": 254,
   "metadata": {},
   "outputs": [],
   "source": [
    "def solve_puzzle(puzzle_input_split):\n",
    "\n",
    "    seeds = get_seeds(puzzle_input_split)\n",
    "    mappings = get_mappings(puzzle_input_split)\n",
    "    mapping_path_text, _ = get_mapping_path(puzzle_input_split)\n",
    "    source_numbers = seeds.copy()\n",
    "    \n",
    "    for map_text in mapping_path_text:\n",
    "        print(map_text)\n",
    "        current_map = mappings[map_text]\n",
    "        current_destination_ranges, current_source_ranges = get_destination_source_ranges(source_range_start_list=current_map[:,0], destination_range_start_list=current_map[:,1], range_length_list=current_map[:,2])\n",
    "        \n",
    "        source_numbers = [get_destination_number(source_number = source_number, destination_ranges=current_destination_ranges, source_ranges = current_source_ranges) for source_number in source_numbers]\n",
    "    \n",
    "    min_mapping_value = min(source_numbers)\n",
    "    min_mapping_value_index = source_numbers.index(min_mapping_value)\n",
    "\n",
    "    return seeds[min_mapping_value_index]"
   ]
  },
  {
   "cell_type": "code",
   "execution_count": null,
   "metadata": {},
   "outputs": [
    {
     "name": "stdout",
     "output_type": "stream",
     "text": [
      "seed-to-soil map:\n",
      "soil-to-fertilizer map:\n",
      "fertilizer-to-water map:\n",
      "water-to-light map:\n",
      "light-to-temperature map:\n",
      "temperature-to-humidity map:\n",
      "humidity-to-location map:\n"
     ]
    },
    {
     "data": {
      "text/plain": [
       "2041142901"
      ]
     },
     "execution_count": 255,
     "metadata": {},
     "output_type": "execute_result"
    }
   ],
   "source": [
    "# !!! 2025_08_04: ANSWER IS WRONG. 2041142901 IS TOO HIGH\n",
    "solve_puzzle(puzzle_input_split)"
   ]
  }
 ],
 "metadata": {
  "kernelspec": {
   "display_name": "Python 3",
   "language": "python",
   "name": "python3"
  },
  "language_info": {
   "codemirror_mode": {
    "name": "ipython",
    "version": 3
   },
   "file_extension": ".py",
   "mimetype": "text/x-python",
   "name": "python",
   "nbconvert_exporter": "python",
   "pygments_lexer": "ipython3",
   "version": "3.13.1"
  }
 },
 "nbformat": 4,
 "nbformat_minor": 2
}
