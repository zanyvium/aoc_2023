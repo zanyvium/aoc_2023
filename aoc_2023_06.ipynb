{
 "cells": [
  {
   "cell_type": "markdown",
   "metadata": {},
   "source": [
    "# Code Setup"
   ]
  },
  {
   "cell_type": "code",
   "execution_count": 32,
   "metadata": {},
   "outputs": [
    {
     "name": "stdout",
     "output_type": "stream",
     "text": [
      "The autoreload extension is already loaded. To reload it, use:\n",
      "  %reload_ext autoreload\n"
     ]
    }
   ],
   "source": [
    "import numpy as np\n",
    "\n",
    "from utils.import_puzzle_input import load_input\n",
    "from utils.import_puzzle_input import split_puzzle_input\n",
    "\n",
    "# Load the autoreload extension\n",
    "%load_ext autoreload\n",
    "\n",
    "# Set autoreload to automatically reload modules before executing code\n",
    "%autoreload 2"
   ]
  },
  {
   "cell_type": "code",
   "execution_count": 33,
   "metadata": {},
   "outputs": [
    {
     "name": "stdout",
     "output_type": "stream",
     "text": [
      "loaded puzzle input\n"
     ]
    }
   ],
   "source": [
    "puzzle_input = load_input(2023, 6)"
   ]
  },
  {
   "cell_type": "code",
   "execution_count": 34,
   "metadata": {},
   "outputs": [],
   "source": [
    "puzzle_input_split = split_puzzle_input(puzzle_input)"
   ]
  },
  {
   "cell_type": "code",
   "execution_count": 35,
   "metadata": {},
   "outputs": [
    {
     "data": {
      "text/plain": [
       "['Time:        61     70     90     66',\n",
       " 'Distance:   643   1184   1362   1041']"
      ]
     },
     "execution_count": 35,
     "metadata": {},
     "output_type": "execute_result"
    }
   ],
   "source": [
    "puzzle_input_split"
   ]
  },
  {
   "cell_type": "markdown",
   "metadata": {},
   "source": [
    "# Problem Setup"
   ]
  },
  {
   "cell_type": "markdown",
   "metadata": {},
   "source": [
    "--- Day 6: Wait For It ---  \n",
    "The ferry quickly brings you across Island Island. After asking around, you discover that there is indeed normally a large pile of sand somewhere near here, but you don't see anything besides lots of water and the   small island where the ferry has docked.\n",
    "  \n",
    "As you try to figure out what to do next, you notice a poster on a wall near the ferry dock. \"Boat races! Open to the public! Grand prize is an all-expenses-paid trip to Desert Island!\" That must be where the sand   comes from! Best of all, the boat races are starting in just a few minutes.\n",
    "  \n",
    "You manage to sign up as a competitor in the boat races just in time. The organizer explains that it's not really a traditional race - instead, you will get a fixed amount of time during which your boat has to travel   as far as it can, and you win if your boat goes the farthest.\n",
    "  \n",
    "As part of signing up, you get a sheet of paper (your puzzle input) that lists the time allowed for each race and also the best distance ever recorded in that race. To guarantee you win the grand prize, you need to   make sure you go farther in each race than the current record holder.\n",
    "  \n",
    "The organizer brings you over to the area where the boat races are held. The boats are much smaller than you expected - they're actually toy boats, each with a big button on top. Holding down the button charges the   boat, and releasing the button allows the boat to move. Boats move faster if their button was held longer, but time spent holding the button counts against the total race time. You can only hold the button at the start of the race, and boats don't move until the button is released.\n",
    "  \n",
    "For example:  \n",
    "  \n",
    "Time:      7  15   30  \n",
    "Distance:  9  40  200  \n",
    "This document describes three races:  \n",
    "  \n",
    "The first race lasts 7 milliseconds. The record distance in this race is 9 millimeters.  \n",
    "The second race lasts 15 milliseconds. The record distance in this race is 40 millimeters.  \n",
    "The third race lasts 30 milliseconds. The record distance in this race is 200 millimeters.  \n",
    "Your toy boat has a starting speed of zero millimeters per millisecond. For each whole millisecond you spend at the beginning of the race holding down the button, the boat's speed increases by one millimeter per   millisecond.\n",
    "  \n",
    "So, because the first race lasts 7 milliseconds, you only have a few options:  \n",
    "  \n",
    "Don't hold the button at all (that is, hold it for 0 milliseconds) at the start of the race. The boat won't move; it will have traveled 0 millimeters by the end of the race.  \n",
    "Hold the button for 1 millisecond at the start of the race. Then, the boat will travel at a speed of 1 millimeter per millisecond for 6 milliseconds, reaching a total distance traveled of 6 millimeters.  \n",
    "Hold the button for 2 milliseconds, giving the boat a speed of 2 millimeters per millisecond. It will then get 5 milliseconds to move, reaching a total distance of 10 millimeters.  \n",
    "Hold the button for 3 milliseconds. After its remaining 4 milliseconds of travel time, the boat will have gone 12 millimeters.  \n",
    "Hold the button for 4 milliseconds. After its remaining 3 milliseconds of travel time, the boat will have gone 12 millimeters.  \n",
    "Hold the button for 5 milliseconds, causing the boat to travel a total of 10 millimeters.  \n",
    "Hold the button for 6 milliseconds, causing the boat to travel a total of 6 millimeters.  \n",
    "Hold the button for 7 milliseconds. That's the entire duration of the race. You never let go of the button. The boat can't move until you let go of the button. Please make sure you let go of the button so the boat   gets to move. 0 millimeters.\n",
    "Since the current record for this race is 9 millimeters, there are actually 4 different ways you could win: you could hold the button for 2, 3, 4, or 5 milliseconds at the start of the race.  \n",
    "  \n",
    "In the second race, you could hold the button for at least 4 milliseconds and at most 11 milliseconds and beat the record, a total of 8 different ways to win.  \n",
    "  \n",
    "In the third race, you could hold the button for at least 11 milliseconds and no more than 19 milliseconds and still beat the record, a total of 9 ways you could win.  \n",
    "  \n",
    "To see how much margin of error you have, determine the number of ways you can beat the record in each race; in this example, if you multiply these values together, you get 288 (4 * 8 * 9).  \n",
    "  \n",
    "Determine the number of ways you could beat the record in each race. What do you get if you multiply these numbers together?  "
   ]
  },
  {
   "cell_type": "markdown",
   "metadata": {},
   "source": [
    "# General thoughts"
   ]
  },
  {
   "cell_type": "markdown",
   "metadata": {},
   "source": [
    "This problem can largely be solved mathematically via second degree polynomial modelling.  \n",
    "We observe that for boat race $i,$ a distance function $S$ might be had as\n",
    "$$\n",
    "S_{T_i}(\\tau_i):=\\tau_i(T_i - \\tau_i) = -\\tau_i^2 + T_i \\cdot \\tau_i\n",
    "$$\n",
    "With $T_i$ being the duration of the race, and $\\tau_i$ being the time used for charging the boat."
   ]
  },
  {
   "cell_type": "markdown",
   "metadata": {},
   "source": [
    "With $m$ being the maximally had distance in previous races (the record) we thus need to estimate the cardinality of the set  \n",
    "$$\n",
    "\\bar A_i:=\\left\\{\\tau_i\\in\\mathbb{N}\\,|\\,S_{T_i}(\\tau_i) \\geq m_i \\right\\}\n",
    "$$"
   ]
  },
  {
   "cell_type": "markdown",
   "metadata": {},
   "source": [
    "We may acquire this set of positive integers (and thus measure its cardinality) by using the quadratic formula to find the real solutions of \n",
    "$$\n",
    "S_{T_i}(\\tau_i) - m_i = 0\n",
    "$$\n",
    "and checking the number of intermediate integers between the real solutions.  \n",
    "This is a valid approach as we are dealing with a negative second degree coefficient causing $S$ to be larger for values of $\\tau$ between any two real solutions.  "
   ]
  },
  {
   "cell_type": "markdown",
   "metadata": {},
   "source": [
    "Thus, for the case of two real solutions, $\\tau_i^{\\ell}<\\tau_i^{h},$ we might round up the lower real solution, and round down the higher real solution, and count the number of integers between these. \n",
    "$$\n",
    "\\bar A_i=\\left\\{k\\in\\mathbb{N}\\,|\\lceil \\tau_i^{\\ell} \\rceil \\leq k \\leq \\lfloor \\tau_i^{h}\\rfloor \\right\\}\n",
    "$$\n",
    "With this approach we need to check that we indeed preserve $ \\lceil \\tau_i^{\\ell} \\rceil \\leq \\lfloor \\tau_i^{h}\\rfloor.$"
   ]
  },
  {
   "cell_type": "markdown",
   "metadata": {},
   "source": [
    "For only one real solution, we need to check whether it was itself an integer, and if no real roots exist, neither will there of course be integer solutions."
   ]
  },
  {
   "cell_type": "markdown",
   "metadata": {},
   "source": [
    "Solutions to this problem might be had via the quadratic formula:\n",
    "$$\n",
    "\\hat{\\tau_i}=\\frac{-T_i\\pm\\sqrt{T_i^2-4m_i}}{-2}\n",
    "$$"
   ]
  },
  {
   "cell_type": "code",
   "execution_count": null,
   "metadata": {},
   "outputs": [],
   "source": []
  },
  {
   "cell_type": "markdown",
   "metadata": {},
   "source": [
    "# Solutions"
   ]
  },
  {
   "cell_type": "markdown",
   "metadata": {},
   "source": [
    "## Solution 1:"
   ]
  },
  {
   "cell_type": "markdown",
   "metadata": {},
   "source": [
    "### Explanation of method"
   ]
  },
  {
   "cell_type": "markdown",
   "metadata": {},
   "source": [
    "1. Retrieve the data for the duration, and the record of each game.  \n",
    "2. Make a function to solve the quadratic    \n",
    "2.1. This function should return a tuple of numbers with the real solutions (if any) to the given race problem  \n",
    "3. Create a function to find the number of integers between two floats  \n",
    "3.1. This function should take in the tuple from above.    \n",
    "3.2. If the tuple contains no elements, `return 0`  \n",
    "3.3. If the tuple contains one element, check if it is an integer. If it is an integer, `return 1`, else `return 0`  \n",
    "3.4. If the tuple has two elements, round the upper one down and the lower one up.   \n",
    "3.5. Check whether there is no integer between the two real solutions, if so `return 0`  \n",
    "3.6. Check whether there is one integer between the two real solutions, including one (and only one) of the real solutions being an integer itself, if so `return 1`  \n",
    "3.7. Check whether there is multiple integers between the real solutions, including the case for which both the real solutions are integers.   \n",
    "4. Run over the games and take the product of the number of solutions to each  "
   ]
  },
  {
   "cell_type": "markdown",
   "metadata": {},
   "source": [
    "#### Remarks"
   ]
  },
  {
   "cell_type": "markdown",
   "metadata": {},
   "source": [
    "Whether a number is an integer is in this solution checked via the `float.is_integer()` method.  \n",
    "It's precision is investigated in the experimenting section at the bottom."
   ]
  },
  {
   "cell_type": "markdown",
   "metadata": {},
   "source": [
    "### Implementation"
   ]
  },
  {
   "cell_type": "markdown",
   "metadata": {},
   "source": [
    "#### Part 1"
   ]
  },
  {
   "cell_type": "code",
   "execution_count": 36,
   "metadata": {},
   "outputs": [],
   "source": [
    "def get_data(puzzle_input_split: list[str]) -> tuple:\n",
    "    durations = [int(x) for x in puzzle_input_split[0].split(\" \") if x != \"\" and x != \"Time:\"]\n",
    "    records = [int(x) for x in puzzle_input_split[1].split(\" \") if x != \"\" and x != \"Distance:\"]\n",
    "\n",
    "    return durations, records"
   ]
  },
  {
   "cell_type": "markdown",
   "metadata": {},
   "source": [
    "#### Part 2"
   ]
  },
  {
   "cell_type": "code",
   "execution_count": null,
   "metadata": {},
   "outputs": [],
   "source": [
    "def solve_quadratic_real(T: int, m: int) -> tuple:\n",
    "    discriminant = T**2 - 4 * m\n",
    "\n",
    "    if discriminant > 0:\n",
    "        # Two real solutions\n",
    "        l_sol = (-T + np.sqrt(T**2 - 4 * m))/(-2)\n",
    "        u_sol = (-T - np.sqrt(T**2 - 4 * m))/(-2)\n",
    "        return (l_sol, u_sol)\n",
    "    elif discriminant == 0:\n",
    "        sol = (-T - np.sqrt(T**2 - 4 * m))/(-2)\n",
    "        return tuple(sol)\n",
    "    else:\n",
    "        return None"
   ]
  },
  {
   "cell_type": "markdown",
   "metadata": {},
   "source": [
    "#### Part 3"
   ]
  },
  {
   "cell_type": "code",
   "execution_count": 38,
   "metadata": {},
   "outputs": [],
   "source": [
    "def find_number_of_integers(sol_tuple: tuple[float]) -> int:\n",
    "    if not sol_tuple:\n",
    "        return 0\n",
    "    elif len(sol_tuple) == 1:\n",
    "        if sol_tuple[0].is_integer():\n",
    "            return 1\n",
    "        else:\n",
    "            return 0\n",
    "    else:\n",
    "        # Assuming length 2\n",
    "        l_sol = sol_tuple[0]\n",
    "        u_sol = sol_tuple[1]\n",
    "\n",
    "        # Taking the ceiling of the lower solution\n",
    "        # and the floor of the upper\n",
    "        l_sol_ceil = np.ceil(l_sol)\n",
    "        u_sol_floor = np.floor(u_sol)\n",
    "\n",
    "        if u_sol_floor < l_sol_ceil:\n",
    "            # solutions are between the same two integers\n",
    "            # with no integer between them\n",
    "            return 0\n",
    "        elif l_sol_ceil == u_sol_floor:\n",
    "            # The solutions have exactly one integer between them\n",
    "            return 1\n",
    "        else:\n",
    "            # Solutions have multiple integers between them\n",
    "            \n",
    "            # Note np.ceil and np.floor are implemented with a rounding domain\n",
    "            # that leaves integers themselves unrounded\n",
    "            # Thus we do not need to be concerned about the case where \n",
    "            # u_sol is an integer for which u_sol = l_sol + 1\n",
    "            return u_sol_floor - l_sol_ceil + 1"
   ]
  },
  {
   "cell_type": "markdown",
   "metadata": {},
   "source": [
    "#### Part 4"
   ]
  },
  {
   "cell_type": "code",
   "execution_count": 39,
   "metadata": {},
   "outputs": [],
   "source": [
    "def solve_puzzle(puzzle_input_split: list[str]) -> int:\n",
    "    durations, records = get_data(puzzle_input_split)\n",
    "\n",
    "    number_of_solutions = [find_number_of_integers(solve_quadratic_real(duration, record)) for duration, record in zip(durations, records)]\n",
    "\n",
    "    return np.prod(number_of_solutions)"
   ]
  },
  {
   "cell_type": "code",
   "execution_count": null,
   "metadata": {},
   "outputs": [],
   "source": [
    "solve_puzzle(puzzle_input_split)"
   ]
  },
  {
   "cell_type": "markdown",
   "metadata": {},
   "source": [
    "### Checking runtime"
   ]
  },
  {
   "cell_type": "markdown",
   "metadata": {},
   "source": [
    "#### Benchmarking"
   ]
  },
  {
   "cell_type": "markdown",
   "metadata": {},
   "source": [
    "#### Runtime profiling"
   ]
  },
  {
   "cell_type": "markdown",
   "metadata": {},
   "source": [
    "## Solution 2:"
   ]
  },
  {
   "cell_type": "code",
   "execution_count": null,
   "metadata": {},
   "outputs": [],
   "source": []
  },
  {
   "cell_type": "markdown",
   "metadata": {},
   "source": [
    "# Experimental"
   ]
  },
  {
   "cell_type": "markdown",
   "metadata": {},
   "source": [
    "## Retrivning the data"
   ]
  },
  {
   "cell_type": "code",
   "execution_count": 5,
   "metadata": {},
   "outputs": [
    {
     "data": {
      "text/plain": [
       "['Time:        61     70     90     66',\n",
       " 'Distance:   643   1184   1362   1041']"
      ]
     },
     "execution_count": 5,
     "metadata": {},
     "output_type": "execute_result"
    }
   ],
   "source": [
    "puzzle_input_split"
   ]
  },
  {
   "cell_type": "code",
   "execution_count": 6,
   "metadata": {},
   "outputs": [
    {
     "data": {
      "text/plain": [
       "'Time:        61     70     90     66'"
      ]
     },
     "execution_count": 6,
     "metadata": {},
     "output_type": "execute_result"
    }
   ],
   "source": [
    "puzzle_input_split[0]"
   ]
  },
  {
   "cell_type": "code",
   "execution_count": null,
   "metadata": {},
   "outputs": [
    {
     "data": {
      "text/plain": [
       "['Time:',\n",
       " '',\n",
       " '',\n",
       " '',\n",
       " '',\n",
       " '',\n",
       " '',\n",
       " '',\n",
       " '61',\n",
       " '',\n",
       " '',\n",
       " '',\n",
       " '',\n",
       " '70',\n",
       " '',\n",
       " '',\n",
       " '',\n",
       " '',\n",
       " '90',\n",
       " '',\n",
       " '',\n",
       " '',\n",
       " '',\n",
       " '66']"
      ]
     },
     "execution_count": 7,
     "metadata": {},
     "output_type": "execute_result"
    }
   ],
   "source": [
    "puzzle_input_split[0].split(\" \")"
   ]
  },
  {
   "cell_type": "code",
   "execution_count": 9,
   "metadata": {},
   "outputs": [
    {
     "data": {
      "text/plain": [
       "['Time:',\n",
       " '',\n",
       " '',\n",
       " '',\n",
       " '',\n",
       " '',\n",
       " '',\n",
       " '',\n",
       " '61',\n",
       " '',\n",
       " '',\n",
       " '',\n",
       " '',\n",
       " '70',\n",
       " '',\n",
       " '',\n",
       " '',\n",
       " '',\n",
       " '90',\n",
       " '',\n",
       " '',\n",
       " '',\n",
       " '',\n",
       " '66']"
      ]
     },
     "execution_count": 9,
     "metadata": {},
     "output_type": "execute_result"
    }
   ],
   "source": [
    "test_space_split_time = puzzle_input_split[0].split(\" \")\n",
    "test_space_split_time"
   ]
  },
  {
   "cell_type": "code",
   "execution_count": 15,
   "metadata": {},
   "outputs": [
    {
     "data": {
      "text/plain": [
       "[61, 70, 90, 66]"
      ]
     },
     "execution_count": 15,
     "metadata": {},
     "output_type": "execute_result"
    }
   ],
   "source": [
    "[int(x) for x in test_space_split_time if x != '' and x != \"Time:\"]"
   ]
  },
  {
   "cell_type": "code",
   "execution_count": 16,
   "metadata": {},
   "outputs": [
    {
     "data": {
      "text/plain": [
       "['Distance:', '', '', '643', '', '', '1184', '', '', '1362', '', '', '1041']"
      ]
     },
     "execution_count": 16,
     "metadata": {},
     "output_type": "execute_result"
    }
   ],
   "source": [
    "puzzle_input_split[1].split(\" \")"
   ]
  },
  {
   "cell_type": "code",
   "execution_count": 17,
   "metadata": {},
   "outputs": [
    {
     "data": {
      "text/plain": [
       "[643, 1184, 1362, 1041]"
      ]
     },
     "execution_count": 17,
     "metadata": {},
     "output_type": "execute_result"
    }
   ],
   "source": [
    "[int(x) for x in puzzle_input_split[1].split(\" \") if x != \"\" and x != \"Distance:\"]"
   ]
  },
  {
   "cell_type": "markdown",
   "metadata": {},
   "source": [
    "## Numerical precision in python"
   ]
  },
  {
   "cell_type": "code",
   "execution_count": null,
   "metadata": {},
   "outputs": [],
   "source": [
    "def get_epsilon():\n",
    "    while_counter = 0\n",
    "    max_iter = 1e4\n",
    "    num = 10.0\n",
    "    add_value = 1e-6\n",
    "    num_p_av = num + add_value\n",
    "    while not num_p_av.is_integer() and while_counter <= max_iter:\n",
    "        add_value /= 2.0\n",
    "        num_p_av = num + add_value\n",
    "        while_counter += 1\n",
    "    \n",
    "    if while_counter > max_iter:\n",
    "        return None\n",
    "    else:\n",
    "        return add_value"
   ]
  },
  {
   "cell_type": "code",
   "execution_count": null,
   "metadata": {},
   "outputs": [
    {
     "data": {
      "text/plain": [
       "4.656612873077392e-16"
      ]
     },
     "metadata": {},
     "output_type": "display_data"
    }
   ],
   "source": [
    "safe_tol = get_epsilon()\n",
    "safe_tol"
   ]
  },
  {
   "cell_type": "code",
   "execution_count": null,
   "metadata": {},
   "outputs": [
    {
     "data": {
      "text/plain": [
       "np.float64(10.0)"
      ]
     },
     "metadata": {},
     "output_type": "display_data"
    }
   ],
   "source": [
    "np.ceil(10.0 + safe_tol)"
   ]
  },
  {
   "cell_type": "code",
   "execution_count": null,
   "metadata": {},
   "outputs": [
    {
     "data": {
      "text/plain": [
       "np.float64(11.0)"
      ]
     },
     "metadata": {},
     "output_type": "display_data"
    }
   ],
   "source": [
    "np.floor(11.0 - safe_tol)"
   ]
  },
  {
   "cell_type": "code",
   "execution_count": null,
   "metadata": {},
   "outputs": [
    {
     "data": {
      "text/plain": [
       "np.float64(11.0)"
      ]
     },
     "metadata": {},
     "output_type": "display_data"
    }
   ],
   "source": [
    "np.ceil(10.0 + 2 * safe_tol)"
   ]
  },
  {
   "cell_type": "code",
   "execution_count": null,
   "metadata": {},
   "outputs": [],
   "source": [
    "num = 10.0\n",
    "tol = 1e-6\n",
    "num_p_tol = num + tol"
   ]
  },
  {
   "cell_type": "code",
   "execution_count": null,
   "metadata": {},
   "outputs": [
    {
     "data": {
      "text/plain": [
       "False"
      ]
     },
     "metadata": {},
     "output_type": "display_data"
    }
   ],
   "source": [
    "num_p_tol.is_integer()"
   ]
  },
  {
   "cell_type": "code",
   "execution_count": 34,
   "metadata": {},
   "outputs": [],
   "source": [
    "test_list = [2,3,4]"
   ]
  },
  {
   "cell_type": "code",
   "execution_count": 35,
   "metadata": {},
   "outputs": [
    {
     "data": {
      "text/plain": [
       "np.int64(24)"
      ]
     },
     "execution_count": 35,
     "metadata": {},
     "output_type": "execute_result"
    }
   ],
   "source": [
    "np.prod(test_list)"
   ]
  }
 ],
 "metadata": {
  "kernelspec": {
   "display_name": "Python 3",
   "language": "python",
   "name": "python3"
  },
  "language_info": {
   "codemirror_mode": {
    "name": "ipython",
    "version": 3
   },
   "file_extension": ".py",
   "mimetype": "text/x-python",
   "name": "python",
   "nbconvert_exporter": "python",
   "pygments_lexer": "ipython3",
   "version": "3.13.1"
  }
 },
 "nbformat": 4,
 "nbformat_minor": 2
}
