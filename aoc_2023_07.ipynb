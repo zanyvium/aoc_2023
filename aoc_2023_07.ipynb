{
 "cells": [
  {
   "cell_type": "markdown",
   "metadata": {},
   "source": [
    "# Code Setup"
   ]
  },
  {
   "cell_type": "code",
   "execution_count": 1,
   "metadata": {},
   "outputs": [],
   "source": [
    "import numpy as np\n",
    "import pandas as pd\n",
    "from collections import Counter\n",
    "\n",
    "from utils.import_puzzle_input import load_input\n",
    "from utils.import_puzzle_input import split_puzzle_input\n",
    "\n",
    "# Load the autoreload extension\n",
    "%load_ext autoreload\n",
    "\n",
    "# Set autoreload to automatically reload modules before executing code\n",
    "%autoreload 2"
   ]
  },
  {
   "cell_type": "code",
   "execution_count": 2,
   "metadata": {},
   "outputs": [
    {
     "name": "stdout",
     "output_type": "stream",
     "text": [
      "loaded puzzle input\n"
     ]
    }
   ],
   "source": [
    "puzzle_input = load_input(2023, 7)"
   ]
  },
  {
   "cell_type": "code",
   "execution_count": 3,
   "metadata": {},
   "outputs": [
    {
     "data": {
      "text/plain": [
       "['6JA22 162',\n",
       " 'TQJQ8 732',\n",
       " '7T77A 882',\n",
       " '6K66K 850',\n",
       " 'QQAQQ 11',\n",
       " '7QQ7Q 321',\n",
       " '28966 921',\n",
       " '34433 801',\n",
       " '8QQ8Q 914',\n",
       " 'K63K5 636',\n",
       " '47777 533',\n",
       " 'K62Q9 773',\n",
       " '25J52 717',\n",
       " 'A6AAA 631',\n",
       " '23222 720',\n",
       " '267Q4 9',\n",
       " 'K8QK5 15',\n",
       " 'QQA22 400',\n",
       " '563T8 50',\n",
       " '2J5J2 756',\n",
       " '77T83 647',\n",
       " 'T9596 27',\n",
       " '53AJA 371',\n",
       " '6J666 916',\n",
       " '833TK 380',\n",
       " '5TK4J 506',\n",
       " 'TK3KK 794',\n",
       " 'JTJ55 54',\n",
       " 'TTT4T 422',\n",
       " '9J3KK 491',\n",
       " '488K4 30',\n",
       " '87878 654',\n",
       " 'QQKKK 894',\n",
       " 'A4A3J 360',\n",
       " '55559 232',\n",
       " '33388 148',\n",
       " 'JK599 632',\n",
       " 'KK663 300',\n",
       " 'JJ448 514',\n",
       " 'AKATA 188',\n",
       " '6J537 885',\n",
       " '98888 65',\n",
       " '9TT3J 361',\n",
       " '668A9 227',\n",
       " 'Q3285 257',\n",
       " 'JT54J 208',\n",
       " 'K8QA7 373',\n",
       " '77K39 681',\n",
       " '33T4J 281',\n",
       " 'KA832 578',\n",
       " '6QQQ5 214',\n",
       " '52222 154',\n",
       " '6A4Q4 78',\n",
       " '39339 282',\n",
       " '2A82A 25',\n",
       " '5A66J 261',\n",
       " '5594J 4',\n",
       " 'TTTT6 752',\n",
       " '9A3K5 760',\n",
       " 'KA5AA 26',\n",
       " 'K7464 447',\n",
       " '33676 605',\n",
       " 'K7J7A 946',\n",
       " '5T5KQ 805',\n",
       " '654Q8 888',\n",
       " '35358 315',\n",
       " 'A4A57 552',\n",
       " '669AA 485',\n",
       " '7A77Q 105',\n",
       " 'Q3333 372',\n",
       " '57A9Q 665',\n",
       " '97655 367',\n",
       " '24222 698',\n",
       " 'Q6KT7 820',\n",
       " '99KKK 83',\n",
       " 'T33JK 389',\n",
       " '9KKQ2 602',\n",
       " 'TT9JQ 278',\n",
       " 'JT5KJ 638',\n",
       " '88JJ7 588',\n",
       " '4664J 205',\n",
       " '36T95 193',\n",
       " '7272K 329',\n",
       " 'JTTTK 328',\n",
       " '7K79T 653',\n",
       " '84948 192',\n",
       " '4444K 258',\n",
       " '578QA 337',\n",
       " '9J999 980',\n",
       " 'JT4A2 950',\n",
       " 'QJT22 598',\n",
       " 'TTTTJ 384',\n",
       " 'QAKJK 310',\n",
       " '58955 547',\n",
       " 'Q2497 264',\n",
       " '55444 746',\n",
       " '793K4 256',\n",
       " 'QKQ5Q 802',\n",
       " 'ATTTT 878',\n",
       " 'Q92K5 469',\n",
       " '88388 969',\n",
       " 'T99TQ 456',\n",
       " '44384 560',\n",
       " '3773J 545',\n",
       " '82293 224',\n",
       " '8558J 879',\n",
       " 'TT98T 342',\n",
       " 'AJKJ4 490',\n",
       " 'T9996 238',\n",
       " 'TKQQQ 810',\n",
       " 'J5Q55 229',\n",
       " 'Q564Q 932',\n",
       " '4K6KJ 349',\n",
       " '3J939 909',\n",
       " '28K2K 563',\n",
       " '8787K 262',\n",
       " 'JTK34 365',\n",
       " 'A3832 165',\n",
       " '2T3A8 562',\n",
       " '229Q5 761',\n",
       " '9TTK9 58',\n",
       " 'KK55T 536',\n",
       " 'K6JJJ 216',\n",
       " '44466 940',\n",
       " '67777 897',\n",
       " 'QQ9Q9 963',\n",
       " '48AJT 507',\n",
       " '4TT4T 160',\n",
       " '82936 584',\n",
       " '99TTJ 597',\n",
       " '698QA 573',\n",
       " '398K5 618',\n",
       " '56J54 438',\n",
       " '45584 124',\n",
       " '83657 892',\n",
       " 'J2782 574',\n",
       " '68862 270',\n",
       " '5Q5A7 132',\n",
       " 'TKK8K 288',\n",
       " '6AT55 689',\n",
       " '22J62 61',\n",
       " 'QJQ55 884',\n",
       " '2J445 713',\n",
       " 'TJ952 913',\n",
       " '3QAJ4 347',\n",
       " 'J73JK 122',\n",
       " '555TT 64',\n",
       " 'AQ829 830',\n",
       " '5384A 924',\n",
       " '44446 146',\n",
       " 'Q7JTT 248',\n",
       " '73K3K 22',\n",
       " '22572 335',\n",
       " '55JJJ 225',\n",
       " 'K56KK 587',\n",
       " '9Q8TT 745',\n",
       " '833QQ 420',\n",
       " '63828 489',\n",
       " 'J6368 199',\n",
       " '45464 31',\n",
       " '72724 550',\n",
       " '66Q6Q 543',\n",
       " '66334 191',\n",
       " '55Q54 965',\n",
       " 'KK7A7 73',\n",
       " 'TJQ8A 806',\n",
       " '33Q23 283',\n",
       " '928J3 804',\n",
       " '4J4Q4 470',\n",
       " '4KKKK 865',\n",
       " 'Q6K9K 266',\n",
       " '7QJ2Q 237',\n",
       " '7AT65 723',\n",
       " '9TAJ2 327',\n",
       " '73344 207',\n",
       " '44TKK 179',\n",
       " '86T68 203',\n",
       " 'TTT28 519',\n",
       " '4J684 391',\n",
       " '97779 169',\n",
       " '9229K 593',\n",
       " 'KKK77 280',\n",
       " 'J2224 926',\n",
       " 'A5J5A 472',\n",
       " 'Q673J 697',\n",
       " 'K88KK 823',\n",
       " '7K63J 198',\n",
       " '4A65T 115',\n",
       " 'J2424 302',\n",
       " '55A55 424',\n",
       " 'TTTQ6 142',\n",
       " '48888 97',\n",
       " 'KK66T 672',\n",
       " '7J7T7 809',\n",
       " '4A444 153',\n",
       " '3A33A 494',\n",
       " 'A7K25 790',\n",
       " '88A9A 880',\n",
       " 'KQ549 473',\n",
       " '6J2Q7 803',\n",
       " 'QQK2J 345',\n",
       " '9KKJT 152',\n",
       " 'T4KJT 917',\n",
       " '23593 608',\n",
       " '33383 798',\n",
       " '44Q22 841',\n",
       " 'AQQQT 709',\n",
       " '7747Q 1',\n",
       " '4333A 959',\n",
       " '4666Q 163',\n",
       " 'AA5A5 920',\n",
       " '7A77A 576',\n",
       " '55J4K 357',\n",
       " '6KKQT 354',\n",
       " 'A6866 837',\n",
       " 'JK6KT 341',\n",
       " 'QQQQ8 778',\n",
       " '966Q9 710',\n",
       " '59995 101',\n",
       " '7KKJ2 79',\n",
       " '4J58Q 680',\n",
       " 'K55KK 967',\n",
       " 'A3AAT 352',\n",
       " 'Q435J 20',\n",
       " '453JJ 683',\n",
       " '9T4QK 669',\n",
       " '595J9 307',\n",
       " 'KK35K 673',\n",
       " '98563 113',\n",
       " 'QJ943 181',\n",
       " '88498 340',\n",
       " 'AKAAA 931',\n",
       " 'Q58Q5 183',\n",
       " 'QJAKT 145',\n",
       " '3K8TA 952',\n",
       " 'JKA2J 173',\n",
       " 'JA734 443',\n",
       " '68226 291',\n",
       " 'QT7J5 777',\n",
       " 'AAT8Q 377',\n",
       " 'T9T3T 991',\n",
       " '44T75 642',\n",
       " '79772 96',\n",
       " '2Q5QQ 881',\n",
       " '8TTTT 398',\n",
       " '22K2J 45',\n",
       " '46TQQ 497',\n",
       " 'QQ522 7',\n",
       " '6JA99 35',\n",
       " 'TK65T 559',\n",
       " '65885 532',\n",
       " '76868 156',\n",
       " '74J4J 274',\n",
       " 'Q85JQ 378',\n",
       " '596K7 566',\n",
       " 'AJ522 286',\n",
       " '5K455 362',\n",
       " '483JJ 170',\n",
       " '8JQ78 866',\n",
       " 'QQ3Q3 392',\n",
       " '52292 250',\n",
       " '77977 678',\n",
       " '55AA3 604',\n",
       " '33663 571',\n",
       " '9KKKT 759',\n",
       " 'K8243 923',\n",
       " '363J7 603',\n",
       " '3333K 332',\n",
       " '94333 660',\n",
       " '555T5 98',\n",
       " '5772A 206',\n",
       " 'TTTQT 103',\n",
       " 'Q3KJ2 29',\n",
       " '99669 674',\n",
       " '6625J 338',\n",
       " 'Q4444 904',\n",
       " '7K6Q8 40',\n",
       " 'A73JA 646',\n",
       " '77545 231',\n",
       " 'QTJ87 956',\n",
       " 'Q944Q 872',\n",
       " 'K8892 393',\n",
       " '5AQ6T 503',\n",
       " '7K7K7 322',\n",
       " '74297 851',\n",
       " '4QKJ6 508',\n",
       " 'Q665Q 114',\n",
       " '8Q93T 825',\n",
       " 'AAA8T 799',\n",
       " '6598K 910',\n",
       " '78A27 766',\n",
       " 'JAAJA 993',\n",
       " '88788 763',\n",
       " 'Q7925 117',\n",
       " 'A22A2 74',\n",
       " '98T95 716',\n",
       " '2QQQ3 75',\n",
       " 'A3479 107',\n",
       " 'KAKAK 13',\n",
       " '8863K 271',\n",
       " 'J668A 919',\n",
       " '342TA 62',\n",
       " '6295A 226',\n",
       " 'T398T 558',\n",
       " '54696 699',\n",
       " 'J444T 614',\n",
       " '34442 41',\n",
       " '86488 815',\n",
       " '88T8T 755',\n",
       " '78Q76 548',\n",
       " 'A6666 725',\n",
       " '422TK 768',\n",
       " 'JJTTK 998',\n",
       " '99393 730',\n",
       " '967JQ 771',\n",
       " 'J9A94 500',\n",
       " 'KKQQ3 213',\n",
       " '6TJ6K 899',\n",
       " 'K88KJ 346',\n",
       " '52J22 835',\n",
       " 'J8827 651',\n",
       " '5A588 67',\n",
       " '333A3 737',\n",
       " 'J2J22 331',\n",
       " '4Q3J6 953',\n",
       " '7K443 601',\n",
       " 'A2868 355',\n",
       " 'TQ2K3 492',\n",
       " '765Q2 521',\n",
       " 'AJ7AA 121',\n",
       " '5J5J5 172',\n",
       " '48A44 627',\n",
       " '57TAA 891',\n",
       " '58555 912',\n",
       " '46436 195',\n",
       " 'K9AT3 859',\n",
       " '78338 84',\n",
       " '54J75 186',\n",
       " 'TTTTK 740',\n",
       " '75777 461',\n",
       " '25K5T 401',\n",
       " '94994 272',\n",
       " '5679Q 129',\n",
       " '64666 375',\n",
       " '327A9 243',\n",
       " '7Q7QT 656',\n",
       " 'JAAAK 691',\n",
       " '4AA4A 877',\n",
       " 'T5TTK 682',\n",
       " '599QJ 395',\n",
       " '3835K 502',\n",
       " '46667 906',\n",
       " '44443 408',\n",
       " '5J558 430',\n",
       " '5QJ44 670',\n",
       " '3K693 585',\n",
       " '33393 277',\n",
       " 'QQ992 849',\n",
       " '4T4KT 368',\n",
       " '99996 323',\n",
       " '2QTT9 542',\n",
       " 'K253A 971',\n",
       " '7799J 482',\n",
       " '59QQ7 939',\n",
       " '53633 405',\n",
       " '4Q2Q2 677',\n",
       " '9KQKK 975',\n",
       " '78877 428',\n",
       " '9KAJ6 987',\n",
       " 'JJ8JJ 951',\n",
       " '46A6A 979',\n",
       " '8K58J 915',\n",
       " '433J4 304',\n",
       " '33QTQ 657',\n",
       " '8KKKK 167',\n",
       " 'J5J35 439',\n",
       " '979J9 827',\n",
       " 'JK47Q 968',\n",
       " 'AAAJA 936',\n",
       " '9747K 46',\n",
       " '4449J 100',\n",
       " 'T7AJ6 204',\n",
       " '5556Q 517',\n",
       " '666T6 870',\n",
       " '38QJA 57',\n",
       " '277T7 764',\n",
       " '4J834 964',\n",
       " '22626 128',\n",
       " '2334T 664',\n",
       " '449Q4 454',\n",
       " '6T6T6 590',\n",
       " 'TATAT 233',\n",
       " '37555 609',\n",
       " 'ATK69 249',\n",
       " 'K33JK 784',\n",
       " 'J8JJ8 19',\n",
       " '8T888 202',\n",
       " '555AA 111',\n",
       " 'T3339 86',\n",
       " '5Q963 816',\n",
       " '7AK2K 650',\n",
       " 'J9J27 509',\n",
       " 'JJQQQ 436',\n",
       " '59958 705',\n",
       " 'KKJAK 833',\n",
       " '33K63 623',\n",
       " '47764 690',\n",
       " '58855 501',\n",
       " '4754K 177',\n",
       " 'T5K5J 451',\n",
       " '554Q4 762',\n",
       " '99J29 595',\n",
       " '6668J 621',\n",
       " '7KK7J 795',\n",
       " '46J56 465',\n",
       " '28228 985',\n",
       " '33J3J 343',\n",
       " 'J28J6 76',\n",
       " '292T2 774',\n",
       " 'K99K9 459',\n",
       " '2KTT5 147',\n",
       " 'AJQ3K 836',\n",
       " '87JT7 744',\n",
       " '97KJ6 524',\n",
       " '82T2J 425',\n",
       " 'KJJ43 200',\n",
       " '55KJ5 130',\n",
       " 'Q7985 718',\n",
       " '777T7 846',\n",
       " 'QT46J 864',\n",
       " 'TAJ6A 520',\n",
       " 'A666A 493',\n",
       " '75555 477',\n",
       " '37878 930',\n",
       " 'TA882 306',\n",
       " 'Q93Q9 793',\n",
       " '9JT99 954',\n",
       " '993T9 643',\n",
       " '28AK8 235',\n",
       " 'KJ69T 228',\n",
       " '96869 102',\n",
       " '24884 403',\n",
       " '769AJ 867',\n",
       " '6J434 47',\n",
       " '6TTQ9 990',\n",
       " '8T7TT 748',\n",
       " '795AJ 753',\n",
       " '84JKA 629',\n",
       " '8J428 855',\n",
       " 'JJ2J9 997',\n",
       " 'TJ524 818',\n",
       " '26662 686',\n",
       " '567AA 219',\n",
       " '97997 275',\n",
       " 'QQQ66 853',\n",
       " 'JQ77Q 692',\n",
       " '66TTT 984',\n",
       " '95353 16',\n",
       " '8QQ7J 955',\n",
       " '22272 814',\n",
       " '8A868 616',\n",
       " '6Q2QQ 983',\n",
       " 'KQKQQ 770',\n",
       " 'JJ66J 69',\n",
       " '7KQJQ 505',\n",
       " 'J9J97 23',\n",
       " '85ATA 986',\n",
       " 'A64KA 89',\n",
       " '96669 684',\n",
       " '9Q538 414',\n",
       " '6AT62 427',\n",
       " 'JJ956 415',\n",
       " 'T24QQ 409',\n",
       " '3277A 28',\n",
       " 'JA5TK 125',\n",
       " '2586Q 157',\n",
       " 'K93QA 311',\n",
       " 'AA3TJ 960',\n",
       " '34434 640',\n",
       " '8J448 977',\n",
       " '55333 267',\n",
       " 'T3TT3 667',\n",
       " '55856 610',\n",
       " 'J375Q 873',\n",
       " '344JQ 18',\n",
       " '38J2K 36',\n",
       " 'QJ225 523',\n",
       " '656A6 313',\n",
       " '33J33 875',\n",
       " '2JQ4A 480',\n",
       " 'AA4TA 3',\n",
       " 'TT3KJ 668',\n",
       " '59996 933',\n",
       " 'A5AQK 104',\n",
       " 'AQ382 10',\n",
       " '56A64 487',\n",
       " 'QQJA5 854',\n",
       " '666K6 402',\n",
       " '474AA 546',\n",
       " 'QAQAQ 452',\n",
       " 'ATQ32 171',\n",
       " '7A777 861',\n",
       " 'Q4A9K 324',\n",
       " '39Q26 247',\n",
       " '29229 309',\n",
       " '2QQ2Q 450',\n",
       " '47424 394',\n",
       " '2A2JA 55',\n",
       " '7TAA9 687',\n",
       " '9JTK4 661',\n",
       " 'KKK66 786',\n",
       " '99989 839',\n",
       " '59JK6 675',\n",
       " '3QTTT 455',\n",
       " '48TT6 780',\n",
       " '542K6 397',\n",
       " '79A56 471',\n",
       " 'QQQQ3 903',\n",
       " 'J2296 817',\n",
       " 'AQ52K 194',\n",
       " '65A9K 842',\n",
       " '9998J 246',\n",
       " '2835K 662',\n",
       " '74444 437',\n",
       " '2754Q 685',\n",
       " '98J67 907',\n",
       " '8T8TT 134',\n",
       " '343Q7 406',\n",
       " '999T9 511',\n",
       " '59JQQ 240',\n",
       " '27KTT 973',\n",
       " 'AAKA9 577',\n",
       " '3A223 840',\n",
       " 'QK787 655',\n",
       " 'K5977 754',\n",
       " 'JATQ7 468',\n",
       " '6TT6A 464',\n",
       " '99JJ9 564',\n",
       " '2K242 320',\n",
       " '66766 223',\n",
       " 'Q858Q 442',\n",
       " '55T22 658',\n",
       " '77QQ7 379',\n",
       " '44JJ5 648',\n",
       " 'TK498 48',\n",
       " '9J4J2 580',\n",
       " '95945 957',\n",
       " 'A64J8 385',\n",
       " '86666 242',\n",
       " '8AA88 150',\n",
       " '67877 77',\n",
       " 'AA999 144',\n",
       " 'J32J5 498',\n",
       " '777TT 938',\n",
       " 'KJKKK 929',\n",
       " '72689 353',\n",
       " '684TA 970',\n",
       " 'JK8JK 92',\n",
       " '56656 483',\n",
       " 'TTTT3 363',\n",
       " '8T88K 868',\n",
       " 'AKAAK 382',\n",
       " '42A7A 80',\n",
       " '44349 474',\n",
       " '37A7A 180',\n",
       " '2QAA2 976',\n",
       " 'Q68K6 704',\n",
       " '3373J 141',\n",
       " '77666 279',\n",
       " '9TTTK 49',\n",
       " '36QT5 724',\n",
       " '5T6JT 751',\n",
       " 'T257A 556',\n",
       " 'TA44J 59',\n",
       " 'AAATA 293',\n",
       " 'KKJ2K 410',\n",
       " '7J64Q 871',\n",
       " '2AQQ4 269',\n",
       " '8777K 708',\n",
       " '7K42T 594',\n",
       " '22J22 775',\n",
       " '899K8 918',\n",
       " '53355 639',\n",
       " '44429 326',\n",
       " '7K777 944',\n",
       " '573J7 221',\n",
       " 'T7A2Q 149',\n",
       " '92242 579',\n",
       " '5K7K6 63',\n",
       " '386QK 722',\n",
       " 'JKQQQ 516',\n",
       " 'KA6A7 8',\n",
       " 'A9T28 633',\n",
       " 'T4Q67 220',\n",
       " 'KK233 962',\n",
       " 'AJ73J 831',\n",
       " 'KJ344 876',\n",
       " '22277 635',\n",
       " '99833 215',\n",
       " '46JT7 42',\n",
       " 'QQQT3 88',\n",
       " '88445 947',\n",
       " 'J7T55 935',\n",
       " '29J22 44',\n",
       " '5777J 178',\n",
       " '999TT 230',\n",
       " 'J82TT 488',\n",
       " 'K3K9T 336',\n",
       " '4T474 285',\n",
       " 'J5T54 53',\n",
       " 'KK7JK 433',\n",
       " 'K3374 908',\n",
       " '55QTQ 95',\n",
       " '665J5 453',\n",
       " '35TQA 6',\n",
       " 'J2QQJ 630',\n",
       " '6JK36 386',\n",
       " '743J5 292',\n",
       " '3Q9QQ 495',\n",
       " '4JJ44 344',\n",
       " '88285 534',\n",
       " '766J4 553',\n",
       " 'QJ846 700',\n",
       " 'AAAA8 263',\n",
       " '5655A 351',\n",
       " 'K67T8 197',\n",
       " '3TA9A 460',\n",
       " '8T9T8 481',\n",
       " 'TAJA9 526',\n",
       " '8822J 742',\n",
       " '4Q44K 625',\n",
       " 'K6663 110',\n",
       " 'AAA7A 32',\n",
       " '432KK 726',\n",
       " 'KK288 540',\n",
       " '67677 527',\n",
       " '33882 693',\n",
       " 'QQQ35 316',\n",
       " 'J4Q4J 863',\n",
       " '6639J 898',\n",
       " '248QK 847',\n",
       " 'AA99J 758',\n",
       " 'T7QTT 383',\n",
       " 'AA442 572',\n",
       " 'JJJJJ 900',\n",
       " '3353T 297',\n",
       " 'Q68A3 479',\n",
       " '222KK 339',\n",
       " '7J878 586',\n",
       " '9292J 38',\n",
       " '79QQQ 883',\n",
       " '87J73 276',\n",
       " '7488K 175',\n",
       " '5J59A 421',\n",
       " '67222 314',\n",
       " '9K9KJ 449',\n",
       " 'JK447 528',\n",
       " 'KKKAK 303',\n",
       " 'A84A4 222',\n",
       " 'K6KJA 273',\n",
       " '8T5QA 848',\n",
       " '33352 591',\n",
       " 'AT833 617',\n",
       " '2AAAA 305',\n",
       " '3Q74K 555',\n",
       " '24K44 739',\n",
       " '3J342 925',\n",
       " 'QJK65 356',\n",
       " '72333 807',\n",
       " 'J2AAA 750',\n",
       " 'K7779 554',\n",
       " '33J45 886',\n",
       " '79J96 895',\n",
       " '9T6Q3 413',\n",
       " 'K3A4J 94',\n",
       " '4T525 974',\n",
       " '63333 418',\n",
       " '55KK5 829',\n",
       " 'J4896 531',\n",
       " 'J8T8J 118',\n",
       " '35435 741',\n",
       " '722Q3 513',\n",
       " 'A3QAQ 72',\n",
       " '3J8A6 958',\n",
       " 'T9QQ2 376',\n",
       " 'QA7AQ 287',\n",
       " '9A555 348',\n",
       " 'T559T 695',\n",
       " '4T774 999',\n",
       " '22253 68',\n",
       " '38838 772',\n",
       " '462QJ 112',\n",
       " '969K9 981',\n",
       " 'Q55Q5 992',\n",
       " 'J5555 14',\n",
       " 'Q565Q 995',\n",
       " '755J5 510',\n",
       " 'KJKK9 189',\n",
       " 'J6T42 529',\n",
       " '2748K 241',\n",
       " '769T4 120',\n",
       " '7K5TJ 845',\n",
       " 'Q2272 515',\n",
       " 'KTKKK 60',\n",
       " '49J24 71',\n",
       " 'TT2J2 844',\n",
       " '858J8 781',\n",
       " '42643 364',\n",
       " 'TJ44J 448',\n",
       " 'QQQQ9 504',\n",
       " 'QQJQ6 37',\n",
       " 'J7974 796',\n",
       " 'T549Q 434',\n",
       " '398J7 137',\n",
       " 'K6K55 161',\n",
       " 'TKTQQ 476',\n",
       " 'A9898 703',\n",
       " '6J9K3 808',\n",
       " 'KK29J 201',\n",
       " 'QQ9J9 736',\n",
       " 'KKJKJ 712',\n",
       " '66KJK 486',\n",
       " '73777 82',\n",
       " '824T6 496',\n",
       " '78847 404',\n",
       " 'JQQ22 441',\n",
       " 'QQQQ4 694',\n",
       " '555Q8 776',\n",
       " 'J7J7T 407',\n",
       " '43Q6K 91',\n",
       " '6T6K6 196',\n",
       " 'J66J6 308',\n",
       " '54844 334',\n",
       " 'K9T44 457',\n",
       " 'K444K 135',\n",
       " '38343 860',\n",
       " '34323 735',\n",
       " 'KKK5J 734',\n",
       " '4339J 541',\n",
       " 'JJQJ4 707',\n",
       " '28222 972',\n",
       " 'KJA53 676',\n",
       " 'KKKK6 158',\n",
       " '8Q558 783',\n",
       " 'T2TT2 34',\n",
       " '74J67 209',\n",
       " '5KKKK 945',\n",
       " '9TTTT 412',\n",
       " '66363 70',\n",
       " '9399J 858',\n",
       " '7J3TQ 589',\n",
       " '7K468 116',\n",
       " '3TA6Q 133',\n",
       " '42Q6T 396',\n",
       " '65886 557',\n",
       " '449J9 728',\n",
       " '8KT2J 446',\n",
       " 'J8888 822',\n",
       " '2T266 927',\n",
       " '8955K 138',\n",
       " 'QQQ5Q 943',\n",
       " '92272 318',\n",
       " 'AA77J 1000',\n",
       " '8TT66 569',\n",
       " 'T8AJ3 606',\n",
       " 'AT98K 628',\n",
       " '34Q92 641',\n",
       " '75QK5 499',\n",
       " '8TJ93 155',\n",
       " 'KK7K5 176',\n",
       " 'JA859 21',\n",
       " '9K523 727',\n",
       " 'K44JK 582',\n",
       " '2Q8AQ 942',\n",
       " 'J5565 611',\n",
       " '888K8 265',\n",
       " '98982 747',\n",
       " 'K6866 982',\n",
       " '883J3 538',\n",
       " '6K6J6 767',\n",
       " '7423J 2',\n",
       " 'QTQQT 252',\n",
       " '4T4JT 812',\n",
       " '5TT28 599',\n",
       " '69766 440',\n",
       " 'QJ777 136',\n",
       " 'Q48J3 260',\n",
       " 'QQQJQ 253',\n",
       " '7T994 989',\n",
       " 'A4Q4T 93',\n",
       " '88K78 645',\n",
       " 'JA2QJ 797',\n",
       " '55TJ3 151',\n",
       " 'JKQ96 696',\n",
       " '99299 312',\n",
       " '7777J 126',\n",
       " '7437J 769',\n",
       " '2Q382 620',\n",
       " '2T5KK 298',\n",
       " 'Q4JJ5 333',\n",
       " '8JJ88 874',\n",
       " 'QK33T 52',\n",
       " 'KTKTT 634',\n",
       " 'A7298 811',\n",
       " '7J766 652',\n",
       " 'JAA5A 966',\n",
       " '85385 702',\n",
       " '5JK35 369',\n",
       " '223J2 432',\n",
       " 'AAA33 56',\n",
       " '3AA35 824',\n",
       " '29222 423',\n",
       " '6AA6A 212',\n",
       " '29228 551',\n",
       " 'A22TT 996',\n",
       " 'J423Q 289',\n",
       " '99J94 843',\n",
       " 'A364K 592',\n",
       " 'A4AAA 787',\n",
       " '96TA2 706',\n",
       " 'Q3Q4Q 994',\n",
       " '9334A 887',\n",
       " '45555 857',\n",
       " 'AJ6AA 893',\n",
       " '4J444 174',\n",
       " '9JQ9J 731',\n",
       " '9J964 143',\n",
       " 'K44KK 429',\n",
       " '29JA8 159',\n",
       " '53523 359',\n",
       " '59Q23 522',\n",
       " 'A3663 24',\n",
       " '53AAA 12',\n",
       " 'T7982 5',\n",
       " '8Q888 140',\n",
       " 'A36J9 928',\n",
       " '83668 961',\n",
       " '28J2J 435',\n",
       " '25Q42 659',\n",
       " 'ATK7Q 185',\n",
       " '26855 462',\n",
       " 'J4624 567',\n",
       " '97994 644',\n",
       " '57989 109',\n",
       " 'KK883 417',\n",
       " 'JT676 721',\n",
       " 'T2222 51',\n",
       " '34TTA 679',\n",
       " 'JTTJT 370',\n",
       " '67267 463',\n",
       " 'A444Q 325',\n",
       " 'J77TT 813',\n",
       " '24555 245',\n",
       " '9TKJ8 612',\n",
       " '48464 792',\n",
       " '35K33 366',\n",
       " '2A333 626',\n",
       " '64A57 583',\n",
       " 'K3QJ6 43',\n",
       " '24K86 244',\n",
       " '28744 164',\n",
       " '589Q4 688',\n",
       " 'A8888 896',\n",
       " '6J626 666',\n",
       " '65666 182',\n",
       " 'J3QJ5 387',\n",
       " 'QJK99 467',\n",
       " '59455 889',\n",
       " '3K555 330',\n",
       " '35K35 832',\n",
       " 'A3KAA 106',\n",
       " 'Q6JQ6 81',\n",
       " 'KK2K2 838',\n",
       " '79999 828',\n",
       " '24A64 561',\n",
       " '47JK9 785',\n",
       " '77772 284',\n",
       " '9T7T6 765',\n",
       " '573Q5 934',\n",
       " '4Q479 431',\n",
       " 'JJKAT 184',\n",
       " '799JA 596',\n",
       " '5QK5Q 411',\n",
       " 'TJ522 911',\n",
       " '9A95A 87',\n",
       " '5Q82Q 988',\n",
       " 'KTJJJ 294',\n",
       " '566J3 729',\n",
       " '7JA65 218',\n",
       " '99J59 901',\n",
       " '49K5T 301',\n",
       " '5QQQ5 478',\n",
       " '55552 39',\n",
       " '99AAA 210',\n",
       " '5665Q 649',\n",
       " '2J822 530',\n",
       " 'QTTTQ 622',\n",
       " '998J8 374',\n",
       " '44222 600',\n",
       " '77J7J 259',\n",
       " '63888 782',\n",
       " '93763 458',\n",
       " '222TT 123',\n",
       " '22T44 821',\n",
       " '37KQQ 714',\n",
       " 'J688A 127',\n",
       " '244QQ 581',\n",
       " '33K3K 852',\n",
       " 'TJTJQ 738',\n",
       " 'TT2TQ 399',\n",
       " 'QTQ54 549',\n",
       " '7T543 131',\n",
       " '999A9 800',\n",
       " 'T435T 788',\n",
       " 'T3JQK 637',\n",
       " 'T725Q 358',\n",
       " '59955 862',\n",
       " '2J227 905',\n",
       " '2T2TQ 99',\n",
       " '9K7T5 119',\n",
       " '987J7 296',\n",
       " '77J55 779',\n",
       " 'KAJK8 711',\n",
       " '8TJA7 168',\n",
       " '666Q2 535',\n",
       " '9J2T8 255',\n",
       " '8J6J5 187',\n",
       " '9JK44 743',\n",
       " '55888 749',\n",
       " '8KQJ4 733',\n",
       " 'T3399 570',\n",
       " 'TJT97 236',\n",
       " '82597 890',\n",
       " 'TAAA7 715',\n",
       " 'AA797 268',\n",
       " '27AA8 17',\n",
       " 'TTJAJ 317',\n",
       " '984JA 624',\n",
       " '56JA5 701',\n",
       " '68668 819',\n",
       " '75575 419',\n",
       " '66626 613',\n",
       " '4Q962 671',\n",
       " '9Q898 484',\n",
       " '95994 757',\n",
       " 'T3T33 615',\n",
       " '3Q397 619',\n",
       " '89747 381',\n",
       " '6429A 922',\n",
       " 'J6996 254',\n",
       " 'Q3Q43 568',\n",
       " '48864 416',\n",
       " '678QA 388',\n",
       " 'TT5TT 239',\n",
       " '69K6K 85',\n",
       " '7667A 512',\n",
       " 'QJ9QQ 949',\n",
       " 'AJA5J 789',\n",
       " '8JAJA 663',\n",
       " '88AAK 575',\n",
       " '3Q77J 295',\n",
       " '6T4Q6 856',\n",
       " '3856Q 539',\n",
       " '47747 466',\n",
       " 'Q5T75 444',\n",
       " '39A69 90',\n",
       " '59956 299',\n",
       " 'J3JQ2 869',\n",
       " 'T65JK 941',\n",
       " '74488 166',\n",
       " 'QAKTK 139',\n",
       " '88668 251',\n",
       " 'KTTKK 190',\n",
       " '88989 290',\n",
       " 'KKKK9 475',\n",
       " 'Q7JQ6 607',\n",
       " '8K6T4 33',\n",
       " '37968 834',\n",
       " '48884 426',\n",
       " 'T929T 902',\n",
       " '2KT54 217',\n",
       " '86439 66',\n",
       " '344J4 518',\n",
       " '46664 350',\n",
       " 'J5392 537',\n",
       " '74TT4 445',\n",
       " '2J247 319',\n",
       " 'K66AT 565',\n",
       " '39327 390',\n",
       " 'Q6656 525',\n",
       " '75757 544',\n",
       " '88688 108',\n",
       " '486A6 978',\n",
       " '72KQ3 826',\n",
       " '277QQ 234',\n",
       " 'KK399 948',\n",
       " 'QJ828 791',\n",
       " '97697 211',\n",
       " 'KKK6J 719',\n",
       " 'AA5TT 937']"
      ]
     },
     "execution_count": 3,
     "metadata": {},
     "output_type": "execute_result"
    }
   ],
   "source": [
    "puzzle_input_split = split_puzzle_input(puzzle_input)\n",
    "puzzle_input_split"
   ]
  },
  {
   "cell_type": "markdown",
   "metadata": {},
   "source": [
    "# Problem Setup"
   ]
  },
  {
   "cell_type": "markdown",
   "metadata": {},
   "source": [
    "# General thoughts"
   ]
  },
  {
   "cell_type": "markdown",
   "metadata": {},
   "source": [
    "This problem sounds like it should be solved with a custom class with comparison method - see datacamp OOP course"
   ]
  },
  {
   "cell_type": "markdown",
   "metadata": {},
   "source": [
    "# Solutions"
   ]
  },
  {
   "cell_type": "markdown",
   "metadata": {},
   "source": [
    "## Solution 1:"
   ]
  },
  {
   "cell_type": "markdown",
   "metadata": {},
   "source": [
    "### Explanation of method"
   ]
  },
  {
   "cell_type": "markdown",
   "metadata": {},
   "source": [
    "0. We will retrieve the data\n",
    "1. We will make a function to convert a card hand string to a type strength depending on which kind of type of hand it is (five of a kind, four of a kind, full house, three of a kind, ...)\n",
    "2. We will make a function that takes a string and goes through the characters of the string and converts each character to its strength, thus converting the string of characters to a list of character strength ratings\n",
    "3. Take `enumerate` on the ordering of the strings, and join the ranking onto the data\n",
    "4. Multiply the bid and rank in each case and sum these"
   ]
  },
  {
   "cell_type": "markdown",
   "metadata": {},
   "source": [
    "#### Remarks"
   ]
  },
  {
   "cell_type": "markdown",
   "metadata": {},
   "source": [
    "### Implementation"
   ]
  },
  {
   "cell_type": "markdown",
   "metadata": {},
   "source": [
    "#### Part 0"
   ]
  },
  {
   "cell_type": "code",
   "execution_count": 10,
   "metadata": {},
   "outputs": [
    {
     "data": {
      "text/html": [
       "<div>\n",
       "<style scoped>\n",
       "    .dataframe tbody tr th:only-of-type {\n",
       "        vertical-align: middle;\n",
       "    }\n",
       "\n",
       "    .dataframe tbody tr th {\n",
       "        vertical-align: top;\n",
       "    }\n",
       "\n",
       "    .dataframe thead th {\n",
       "        text-align: right;\n",
       "    }\n",
       "</style>\n",
       "<table border=\"1\" class=\"dataframe\">\n",
       "  <thead>\n",
       "    <tr style=\"text-align: right;\">\n",
       "      <th></th>\n",
       "      <th>hand</th>\n",
       "      <th>bid</th>\n",
       "    </tr>\n",
       "  </thead>\n",
       "  <tbody>\n",
       "    <tr>\n",
       "      <th>0</th>\n",
       "      <td>6JA22</td>\n",
       "      <td>162</td>\n",
       "    </tr>\n",
       "    <tr>\n",
       "      <th>1</th>\n",
       "      <td>TQJQ8</td>\n",
       "      <td>732</td>\n",
       "    </tr>\n",
       "    <tr>\n",
       "      <th>2</th>\n",
       "      <td>7T77A</td>\n",
       "      <td>882</td>\n",
       "    </tr>\n",
       "    <tr>\n",
       "      <th>3</th>\n",
       "      <td>6K66K</td>\n",
       "      <td>850</td>\n",
       "    </tr>\n",
       "    <tr>\n",
       "      <th>4</th>\n",
       "      <td>QQAQQ</td>\n",
       "      <td>11</td>\n",
       "    </tr>\n",
       "    <tr>\n",
       "      <th>...</th>\n",
       "      <td>...</td>\n",
       "      <td>...</td>\n",
       "    </tr>\n",
       "    <tr>\n",
       "      <th>995</th>\n",
       "      <td>KK399</td>\n",
       "      <td>948</td>\n",
       "    </tr>\n",
       "    <tr>\n",
       "      <th>996</th>\n",
       "      <td>QJ828</td>\n",
       "      <td>791</td>\n",
       "    </tr>\n",
       "    <tr>\n",
       "      <th>997</th>\n",
       "      <td>97697</td>\n",
       "      <td>211</td>\n",
       "    </tr>\n",
       "    <tr>\n",
       "      <th>998</th>\n",
       "      <td>KKK6J</td>\n",
       "      <td>719</td>\n",
       "    </tr>\n",
       "    <tr>\n",
       "      <th>999</th>\n",
       "      <td>AA5TT</td>\n",
       "      <td>937</td>\n",
       "    </tr>\n",
       "  </tbody>\n",
       "</table>\n",
       "<p>1000 rows × 2 columns</p>\n",
       "</div>"
      ],
      "text/plain": [
       "      hand  bid\n",
       "0    6JA22  162\n",
       "1    TQJQ8  732\n",
       "2    7T77A  882\n",
       "3    6K66K  850\n",
       "4    QQAQQ   11\n",
       "..     ...  ...\n",
       "995  KK399  948\n",
       "996  QJ828  791\n",
       "997  97697  211\n",
       "998  KKK6J  719\n",
       "999  AA5TT  937\n",
       "\n",
       "[1000 rows x 2 columns]"
      ]
     },
     "execution_count": 10,
     "metadata": {},
     "output_type": "execute_result"
    }
   ],
   "source": [
    "puzzle_input_data = pd.DataFrame([*map(lambda x: x.split(\" \"), puzzle_input_split)], columns = [\"hand\", \"bid\"])\n",
    "puzzle_input_data"
   ]
  },
  {
   "cell_type": "markdown",
   "metadata": {},
   "source": [
    "#### Part 1"
   ]
  },
  {
   "cell_type": "code",
   "execution_count": 12,
   "metadata": {},
   "outputs": [],
   "source": [
    "def get_type_strength(s):\n",
    "        count_of_cards = Counter(s)\n",
    "        count_of_cards.__len__()\n",
    "\n",
    "        if count_of_cards.__len__() == 1:\n",
    "            # 'Five of a kind'\n",
    "            type_strength = 0\n",
    "        elif count_of_cards.__len__() == 2:\n",
    "            # 'Four of a Kind', OR, 'Full House'\n",
    "            if count_of_cards.most_common(n = 1)[0][1] == 4:\n",
    "                # Four of a kind\n",
    "                type_strength = 1\n",
    "            else:\n",
    "                # Full house\n",
    "                type_strength = 2\n",
    "        elif count_of_cards.__len__() == 3:\n",
    "            # 'Three of a Kind' or 'Two Pair'\n",
    "            if count_of_cards.most_common(n = 1)[0][1] == 3:\n",
    "                #' Three of a kind'\n",
    "                type_strength = 3\n",
    "            else:\n",
    "                # 'Two Pair'\n",
    "                type_strength = 4\n",
    "        elif count_of_cards.__len__() == 4:\n",
    "            # 'One Pair'\n",
    "            type_strength = 5\n",
    "        elif count_of_cards.__len__() == 5:\n",
    "            # 'High Card'\n",
    "            type_strength = 6\n",
    "        else:\n",
    "            raise ValueError\n",
    "\n",
    "        return type_strength"
   ]
  },
  {
   "cell_type": "markdown",
   "metadata": {},
   "source": [
    "#### Part 2"
   ]
  },
  {
   "cell_type": "code",
   "execution_count": 13,
   "metadata": {},
   "outputs": [],
   "source": [
    "def sort_hands(hands: list[str], char_order: list[str]):\n",
    "    #!!! A check on there only being characters in the hands that are of an order recorded in char_order\n",
    "\n",
    "    char_order_map = {char: int(idx) for idx, char in enumerate(char_order)}\n",
    "\n",
    "    sorted_hands = sorted(hands, key = lambda s: [get_type_strength(s)] + [char_order_map[c] for c in s])\n",
    "    return sorted_hands"
   ]
  },
  {
   "cell_type": "markdown",
   "metadata": {},
   "source": [
    "#### Part 3"
   ]
  },
  {
   "cell_type": "code",
   "execution_count": 14,
   "metadata": {},
   "outputs": [],
   "source": [
    "char_order = [\"A\", \"K\", \"Q\", \"J\", \"T\", \"9\", \"8\", \"7\", \"6\", \"5\", \"4\", \"3\", \"2\"]"
   ]
  },
  {
   "cell_type": "code",
   "execution_count": 23,
   "metadata": {},
   "outputs": [],
   "source": [
    "def create_hand_rank_data(puzzle_input_data: pd.DataFrame, char_order: list[str]) -> pd.DataFrame:\n",
    "    sorted_hands = sort_hands(puzzle_input_data.iloc[:, 0], char_order)\n",
    "    len_sorted_hands = len(sorted_hands)\n",
    "    \n",
    "    sorted_hand_rank_data = pd.DataFrame([[s, len_sorted_hands - idx] for idx, s in enumerate(sorted_hands)], columns = [\"hand\", \"rank\"])\n",
    "    merged_frame = pd.merge(puzzle_input_data, sorted_hand_rank_data, how = \"left\", on = \"hand\")\n",
    "    merged_frame['rank'] = merged_frame['rank'].astype(np.int64)\n",
    "    merged_frame['bid'] = merged_frame['bid'].astype(np.int64)\n",
    "    return merged_frame"
   ]
  },
  {
   "cell_type": "markdown",
   "metadata": {},
   "source": [
    "#### Part 4"
   ]
  },
  {
   "cell_type": "code",
   "execution_count": 26,
   "metadata": {},
   "outputs": [
    {
     "data": {
      "text/html": [
       "<div>\n",
       "<style scoped>\n",
       "    .dataframe tbody tr th:only-of-type {\n",
       "        vertical-align: middle;\n",
       "    }\n",
       "\n",
       "    .dataframe tbody tr th {\n",
       "        vertical-align: top;\n",
       "    }\n",
       "\n",
       "    .dataframe thead th {\n",
       "        text-align: right;\n",
       "    }\n",
       "</style>\n",
       "<table border=\"1\" class=\"dataframe\">\n",
       "  <thead>\n",
       "    <tr style=\"text-align: right;\">\n",
       "      <th></th>\n",
       "      <th>hand</th>\n",
       "      <th>bid</th>\n",
       "      <th>rank</th>\n",
       "    </tr>\n",
       "  </thead>\n",
       "  <tbody>\n",
       "    <tr>\n",
       "      <th>0</th>\n",
       "      <td>6JA22</td>\n",
       "      <td>162</td>\n",
       "      <td>287</td>\n",
       "    </tr>\n",
       "    <tr>\n",
       "      <th>1</th>\n",
       "      <td>TQJQ8</td>\n",
       "      <td>732</td>\n",
       "      <td>355</td>\n",
       "    </tr>\n",
       "    <tr>\n",
       "      <th>2</th>\n",
       "      <td>7T77A</td>\n",
       "      <td>882</td>\n",
       "      <td>698</td>\n",
       "    </tr>\n",
       "    <tr>\n",
       "      <th>3</th>\n",
       "      <td>6K66K</td>\n",
       "      <td>850</td>\n",
       "      <td>832</td>\n",
       "    </tr>\n",
       "    <tr>\n",
       "      <th>4</th>\n",
       "      <td>QQAQQ</td>\n",
       "      <td>11</td>\n",
       "      <td>984</td>\n",
       "    </tr>\n",
       "    <tr>\n",
       "      <th>...</th>\n",
       "      <td>...</td>\n",
       "      <td>...</td>\n",
       "      <td>...</td>\n",
       "    </tr>\n",
       "    <tr>\n",
       "      <th>995</th>\n",
       "      <td>KK399</td>\n",
       "      <td>948</td>\n",
       "      <td>599</td>\n",
       "    </tr>\n",
       "    <tr>\n",
       "      <th>996</th>\n",
       "      <td>QJ828</td>\n",
       "      <td>791</td>\n",
       "      <td>399</td>\n",
       "    </tr>\n",
       "    <tr>\n",
       "      <th>997</th>\n",
       "      <td>97697</td>\n",
       "      <td>211</td>\n",
       "      <td>545</td>\n",
       "    </tr>\n",
       "    <tr>\n",
       "      <th>998</th>\n",
       "      <td>KKK6J</td>\n",
       "      <td>719</td>\n",
       "      <td>774</td>\n",
       "    </tr>\n",
       "    <tr>\n",
       "      <th>999</th>\n",
       "      <td>AA5TT</td>\n",
       "      <td>937</td>\n",
       "      <td>614</td>\n",
       "    </tr>\n",
       "  </tbody>\n",
       "</table>\n",
       "<p>1000 rows × 3 columns</p>\n",
       "</div>"
      ],
      "text/plain": [
       "      hand  bid  rank\n",
       "0    6JA22  162   287\n",
       "1    TQJQ8  732   355\n",
       "2    7T77A  882   698\n",
       "3    6K66K  850   832\n",
       "4    QQAQQ   11   984\n",
       "..     ...  ...   ...\n",
       "995  KK399  948   599\n",
       "996  QJ828  791   399\n",
       "997  97697  211   545\n",
       "998  KKK6J  719   774\n",
       "999  AA5TT  937   614\n",
       "\n",
       "[1000 rows x 3 columns]"
      ]
     },
     "execution_count": 26,
     "metadata": {},
     "output_type": "execute_result"
    }
   ],
   "source": [
    "merged_frame = create_hand_rank_data(puzzle_input_data, char_order)\n",
    "merged_frame"
   ]
  },
  {
   "cell_type": "code",
   "execution_count": 28,
   "metadata": {},
   "outputs": [],
   "source": [
    "def solve_puzzle(puzzle_input_data: pd.DataFrame, char_order: list[str]):\n",
    "    merged_data = create_hand_rank_data(puzzle_input_data, char_order)\n",
    "    puzzle_output = (merged_data[\"rank\"] * merged_data[\"bid\"]).sum()\n",
    "    return puzzle_output"
   ]
  },
  {
   "cell_type": "code",
   "execution_count": 29,
   "metadata": {},
   "outputs": [
    {
     "data": {
      "text/plain": [
       "np.int64(252052080)"
      ]
     },
     "execution_count": 29,
     "metadata": {},
     "output_type": "execute_result"
    }
   ],
   "source": [
    "solve_puzzle(puzzle_input_data, char_order)"
   ]
  },
  {
   "cell_type": "markdown",
   "metadata": {},
   "source": [
    "### Checking runtime"
   ]
  },
  {
   "cell_type": "markdown",
   "metadata": {},
   "source": [
    "#### Benchmarking"
   ]
  },
  {
   "cell_type": "code",
   "execution_count": null,
   "metadata": {},
   "outputs": [
    {
     "name": "stdout",
     "output_type": "stream",
     "text": [
      "1.3 ms ± 81.6 μs per loop (mean ± std. dev. of 7 runs, 1,000 loops each)\n"
     ]
    }
   ],
   "source": [
    "%%timeit\n",
    "puzzle_input_data_old_01 = np.array(list(map(lambda x: x.split(\" \"), puzzle_input_split)))\n",
    "# puzzle_input_data_old_01"
   ]
  },
  {
   "cell_type": "code",
   "execution_count": null,
   "metadata": {},
   "outputs": [
    {
     "name": "stdout",
     "output_type": "stream",
     "text": [
      "1.36 ms ± 248 μs per loop (mean ± std. dev. of 7 runs, 1,000 loops each)\n"
     ]
    }
   ],
   "source": [
    "%%timeit\n",
    "puzzle_input_data_old_015 = np.array(list(map(lambda x: x.split(\" \"), puzzle_input_split)))\n",
    "# puzzle_input_data_old_015"
   ]
  },
  {
   "cell_type": "code",
   "execution_count": null,
   "metadata": {},
   "outputs": [
    {
     "name": "stdout",
     "output_type": "stream",
     "text": [
      "489 μs ± 67.7 μs per loop (mean ± std. dev. of 7 runs, 1,000 loops each)\n"
     ]
    }
   ],
   "source": [
    "%%timeit\n",
    "puzzle_input_data_old_02 = list(map(lambda x: x.split(\" \"), puzzle_input_split))\n",
    "# puzzle_input_data_old_02"
   ]
  },
  {
   "cell_type": "code",
   "execution_count": null,
   "metadata": {},
   "outputs": [
    {
     "name": "stdout",
     "output_type": "stream",
     "text": [
      "1.09 ms ± 355 μs per loop (mean ± std. dev. of 7 runs, 1,000 loops each)\n"
     ]
    }
   ],
   "source": [
    "%%timeit\n",
    "puzzle_input_data_old_025 = [(hand, int(bid)) for hand, bid in [*map(lambda x: x.split(\" \"), puzzle_input_split)]]\n",
    "# puzzle_input_data_old_025"
   ]
  },
  {
   "cell_type": "code",
   "execution_count": null,
   "metadata": {},
   "outputs": [
    {
     "name": "stdout",
     "output_type": "stream",
     "text": [
      "1.01 ms ± 231 μs per loop (mean ± std. dev. of 7 runs, 1,000 loops each)\n"
     ]
    }
   ],
   "source": [
    "%%timeit\n",
    "puzzle_input_data_old_03 = [(hand, int(bid)) for hand, bid in (x.split(\" \") for x in puzzle_input_split)]\n",
    "# puzzle_input_data_old_03"
   ]
  },
  {
   "cell_type": "markdown",
   "metadata": {},
   "source": [
    "#### Runtime profiling"
   ]
  },
  {
   "cell_type": "markdown",
   "metadata": {},
   "source": [
    "## Solution 2:"
   ]
  },
  {
   "cell_type": "code",
   "execution_count": null,
   "metadata": {},
   "outputs": [],
   "source": []
  },
  {
   "cell_type": "markdown",
   "metadata": {},
   "source": [
    "# Experimental"
   ]
  },
  {
   "cell_type": "code",
   "execution_count": null,
   "metadata": {},
   "outputs": [],
   "source": []
  },
  {
   "cell_type": "code",
   "execution_count": 20,
   "metadata": {},
   "outputs": [
    {
     "data": {
      "text/plain": [
       "Counter({'K': 2, 'A': 2, 'Q': 1})"
      ]
     },
     "execution_count": 20,
     "metadata": {},
     "output_type": "execute_result"
    }
   ],
   "source": [
    "test_two_pair = Counter(\"QKKAA\")\n",
    "test_two_pair"
   ]
  },
  {
   "cell_type": "code",
   "execution_count": 19,
   "metadata": {},
   "outputs": [
    {
     "data": {
      "text/plain": [
       "[('A', 2)]"
      ]
     },
     "execution_count": 19,
     "metadata": {},
     "output_type": "execute_result"
    }
   ],
   "source": [
    "test_two_pair.most_common(n = 1)"
   ]
  },
  {
   "cell_type": "code",
   "execution_count": 22,
   "metadata": {},
   "outputs": [
    {
     "data": {
      "text/plain": [
       "2"
      ]
     },
     "execution_count": 22,
     "metadata": {},
     "output_type": "execute_result"
    }
   ],
   "source": [
    "test_two_pair.most_common(n = 1)[0][1]"
   ]
  },
  {
   "cell_type": "code",
   "execution_count": null,
   "metadata": {},
   "outputs": [
    {
     "data": {
      "text/plain": [
       "3"
      ]
     },
     "execution_count": 15,
     "metadata": {},
     "output_type": "execute_result"
    }
   ],
   "source": [
    "len(test_two_pair)"
   ]
  },
  {
   "cell_type": "code",
   "execution_count": 24,
   "metadata": {},
   "outputs": [
    {
     "data": {
      "text/plain": [
       "3"
      ]
     },
     "execution_count": 24,
     "metadata": {},
     "output_type": "execute_result"
    }
   ],
   "source": [
    "test_two_pair.__len__()"
   ]
  },
  {
   "cell_type": "code",
   "execution_count": null,
   "metadata": {},
   "outputs": [],
   "source": [
    "test_two_pair."
   ]
  },
  {
   "cell_type": "code",
   "execution_count": null,
   "metadata": {},
   "outputs": [],
   "source": [
    "help(Counter(\"blabla\"))"
   ]
  },
  {
   "cell_type": "code",
   "execution_count": null,
   "metadata": {},
   "outputs": [],
   "source": []
  },
  {
   "cell_type": "code",
   "execution_count": null,
   "metadata": {},
   "outputs": [],
   "source": [
    "class hand:\n",
    "    STRENGTH_TO_TYPE_MAP = {\n",
    "        7: 'Five of a kind',\n",
    "        6: 'Four of a kind',\n",
    "        5: 'Full house',\n",
    "        4: 'Three of a kind',\n",
    "        3: 'Two pair',\n",
    "        2: 'One pair',\n",
    "        1: 'High card',\n",
    "    }\n",
    "\n",
    "    def __init__(self, cards: str, bid: int):\n",
    "        self.cards = cards\n",
    "        self.bid = bid\n",
    "\n",
    "    def count(self):\n",
    "        return Counter(self.cards)\n",
    "    \n",
    "    def get_type_strength(self):\n",
    "        count_of_cards = self.count()\n",
    "        count_of_cards.__len__()\n",
    "\n",
    "        if count_of_cards.__len__() == 1:\n",
    "            # 'Five of a kind'\n",
    "            type_strength = 6\n",
    "        elif count_of_cards.__len__() == 2:\n",
    "            # 'Four of a Kind', OR, 'Full House'\n",
    "            if count_of_cards.most_common(n = 1)[0][1] == 4:\n",
    "                # Four of a kind\n",
    "                type_strength = 5\n",
    "            else:\n",
    "                # Full house\n",
    "                type_strength = 4\n",
    "        elif count_of_cards.__len__() == 3:\n",
    "            # 'Three of a Kind' or 'Two Pair'\n",
    "            if count_of_cards.most_common(n = 1)[0][1] == 3:\n",
    "                #' Three of a kind'\n",
    "                type_strength = 3\n",
    "            else:\n",
    "                # 'Two Pair'\n",
    "                type_strength = 2\n",
    "        elif count_of_cards.__len__() == 4:\n",
    "            # 'One Pair'\n",
    "            type_strength = 1\n",
    "        elif count_of_cards.__len__() == 5:\n",
    "            # 'High Card'\n",
    "            type_strength = 0\n",
    "        else:\n",
    "            raise ValueError\n",
    "\n",
    "        return type_strength\n",
    "    \n",
    "    def get_position_strength(self):\n",
    "        pass\n",
    "\n",
    "    def __str__(self):\n",
    "        return f\"Hand: '{self.cards}'\\nType: '{hand.STRENGTH_TO_TYPE_MAP[self.get_type_strength()]}' \\nBid: {self.bid}\"\n",
    "                "
   ]
  },
  {
   "cell_type": "code",
   "execution_count": 40,
   "metadata": {},
   "outputs": [],
   "source": [
    "test_hand_01 = hand(\"32T3K\", 765)"
   ]
  },
  {
   "cell_type": "code",
   "execution_count": 41,
   "metadata": {},
   "outputs": [
    {
     "name": "stdout",
     "output_type": "stream",
     "text": [
      "Hand: '32T3K'\n",
      "Type: 'One pair' \n",
      "Bid: 765\n"
     ]
    }
   ],
   "source": [
    "print(test_hand_01)"
   ]
  },
  {
   "cell_type": "code",
   "execution_count": 27,
   "metadata": {},
   "outputs": [
    {
     "data": {
      "text/plain": [
       "2"
      ]
     },
     "execution_count": 27,
     "metadata": {},
     "output_type": "execute_result"
    }
   ],
   "source": [
    "test_hand_01.get_type_strength()"
   ]
  },
  {
   "cell_type": "code",
   "execution_count": 5,
   "metadata": {},
   "outputs": [],
   "source": [
    "test_char_order = [\"A\", \"K\", \"Q\", \"J\", \"T\", \"9\", \"8\", \"7\", \"6\", \"5\", \"4\", \"3\", \"2\"]"
   ]
  },
  {
   "cell_type": "code",
   "execution_count": 13,
   "metadata": {},
   "outputs": [
    {
     "data": {
      "text/plain": [
       "{'A': 0,\n",
       " 'K': 1,\n",
       " 'Q': 2,\n",
       " 'J': 3,\n",
       " 'T': 4,\n",
       " '9': 5,\n",
       " '8': 6,\n",
       " '7': 7,\n",
       " '6': 8,\n",
       " '5': 9,\n",
       " '4': 10,\n",
       " '3': 11,\n",
       " '2': 12}"
      ]
     },
     "execution_count": 13,
     "metadata": {},
     "output_type": "execute_result"
    }
   ],
   "source": [
    "test_order_map_smallest = {char: idx for idx, char in enumerate(test_char_order)}\n",
    "test_order_map_smallest"
   ]
  },
  {
   "cell_type": "code",
   "execution_count": 11,
   "metadata": {},
   "outputs": [
    {
     "data": {
      "text/plain": [
       "'12'"
      ]
     },
     "execution_count": 11,
     "metadata": {},
     "output_type": "execute_result"
    }
   ],
   "source": [
    "str(12-0)"
   ]
  },
  {
   "cell_type": "code",
   "execution_count": 14,
   "metadata": {},
   "outputs": [
    {
     "data": {
      "text/plain": [
       "{'A': 12,\n",
       " 'K': 11,\n",
       " 'Q': 10,\n",
       " 'J': 9,\n",
       " 'T': 8,\n",
       " '9': 7,\n",
       " '8': 6,\n",
       " '7': 5,\n",
       " '6': 4,\n",
       " '5': 3,\n",
       " '4': 2,\n",
       " '3': 1,\n",
       " '2': 0}"
      ]
     },
     "execution_count": 14,
     "metadata": {},
     "output_type": "execute_result"
    }
   ],
   "source": [
    "test_order_map_largest = {char: 12 - int(idx) for idx, char in enumerate(test_char_order)}\n",
    "test_order_map_largest"
   ]
  },
  {
   "cell_type": "markdown",
   "metadata": {},
   "source": [
    "I think this might be a good opportunity to learn algorithms and data structures for sorting."
   ]
  },
  {
   "cell_type": "code",
   "execution_count": 42,
   "metadata": {},
   "outputs": [],
   "source": [
    "from functools import cmp_to_key"
   ]
  },
  {
   "cell_type": "code",
   "execution_count": 43,
   "metadata": {},
   "outputs": [
    {
     "name": "stdout",
     "output_type": "stream",
     "text": [
      "Help on built-in function cmp_to_key in module _functools:\n",
      "\n",
      "cmp_to_key(mycmp)\n",
      "    Convert a cmp= function into a key= function.\n",
      "\n",
      "    mycmp\n",
      "      Function that compares two objects.\n",
      "\n"
     ]
    }
   ],
   "source": [
    "help(cmp_to_key)"
   ]
  },
  {
   "cell_type": "code",
   "execution_count": 44,
   "metadata": {},
   "outputs": [],
   "source": [
    "order = 'ABCDEFGHIJKLM'\n",
    "def custom_cmp(a, b):\n",
    "    return order.index(a) - order.index(b)"
   ]
  },
  {
   "cell_type": "code",
   "execution_count": 49,
   "metadata": {},
   "outputs": [],
   "source": [
    "a_tmp = \"D\"\n",
    "b_tmp = \"F\"\n",
    "tmp_cmp_to_key = cmp_to_key(custom_cmp(a_tmp, b_tmp))"
   ]
  },
  {
   "cell_type": "code",
   "execution_count": 56,
   "metadata": {},
   "outputs": [
    {
     "data": {
      "text/plain": [
       "<functools.KeyWrapper at 0x1f04ce5f7f0>"
      ]
     },
     "execution_count": 56,
     "metadata": {},
     "output_type": "execute_result"
    }
   ],
   "source": [
    "tmp_cmp_to_key"
   ]
  },
  {
   "cell_type": "code",
   "execution_count": 15,
   "metadata": {},
   "outputs": [
    {
     "name": "stdout",
     "output_type": "stream",
     "text": [
      "Help on built-in function sorted in module builtins:\n",
      "\n",
      "sorted(iterable, /, *, key=None, reverse=False)\n",
      "    Return a new list containing all items from the iterable in ascending order.\n",
      "\n",
      "    A custom key function can be supplied to customize the sort order, and the\n",
      "    reverse flag can be set to request the result in descending order.\n",
      "\n"
     ]
    }
   ],
   "source": [
    "help(sorted)"
   ]
  },
  {
   "cell_type": "code",
   "execution_count": 23,
   "metadata": {},
   "outputs": [],
   "source": [
    "def get_type_strength(s):\n",
    "        count_of_cards = Counter(s)\n",
    "        count_of_cards.__len__()\n",
    "\n",
    "        if count_of_cards.__len__() == 1:\n",
    "            # 'Five of a kind'\n",
    "            type_strength = 6\n",
    "        elif count_of_cards.__len__() == 2:\n",
    "            # 'Four of a Kind', OR, 'Full House'\n",
    "            if count_of_cards.most_common(n = 1)[0][1] == 4:\n",
    "                # Four of a kind\n",
    "                type_strength = 5\n",
    "            else:\n",
    "                # Full house\n",
    "                type_strength = 4\n",
    "        elif count_of_cards.__len__() == 3:\n",
    "            # 'Three of a Kind' or 'Two Pair'\n",
    "            if count_of_cards.most_common(n = 1)[0][1] == 3:\n",
    "                #' Three of a kind'\n",
    "                type_strength = 3\n",
    "            else:\n",
    "                # 'Two Pair'\n",
    "                type_strength = 2\n",
    "        elif count_of_cards.__len__() == 4:\n",
    "            # 'One Pair'\n",
    "            type_strength = 1\n",
    "        elif count_of_cards.__len__() == 5:\n",
    "            # 'High Card'\n",
    "            type_strength = 0\n",
    "        else:\n",
    "            raise ValueError\n",
    "\n",
    "        return type_strength\n",
    "    "
   ]
  },
  {
   "cell_type": "code",
   "execution_count": 45,
   "metadata": {},
   "outputs": [],
   "source": [
    "def custom_sorting(strings: list[str], char_order: list[str]):\n",
    "    #!!! A check on there only being characters in the strings that are of an order recorded in char_order\n",
    "    len_char_order = len(char_order)\n",
    "    char_order_map = {char: len_char_order - 1 - int(idx) for idx, char in enumerate(char_order)}\n",
    "\n",
    "    # sorted(strings, key = lambda s: tuple(get_type_strength(s), char_order_map[c] for c in s), reverse = True)\n",
    "    reverse_sorted_strings = sorted(strings, key = lambda s: [get_type_strength(s)] + [char_order_map[c] for c in s], reverse = True)\n",
    "    return reverse_sorted_strings"
   ]
  },
  {
   "cell_type": "code",
   "execution_count": 46,
   "metadata": {},
   "outputs": [],
   "source": [
    "test_list_of_str = [\"32T3K\",\"T55J5\",\"KK67\",\"KTJJT\",\"QQQJA\"]"
   ]
  },
  {
   "cell_type": "code",
   "execution_count": 47,
   "metadata": {},
   "outputs": [
    {
     "data": {
      "text/plain": [
       "['QQQJA', 'T55J5', 'KK67', 'KTJJT', '32T3K']"
      ]
     },
     "execution_count": 47,
     "metadata": {},
     "output_type": "execute_result"
    }
   ],
   "source": [
    "custom_sorting(test_list_of_str, test_char_order)"
   ]
  },
  {
   "cell_type": "code",
   "execution_count": 38,
   "metadata": {},
   "outputs": [],
   "source": [
    "test_string = \"32T3K\""
   ]
  },
  {
   "cell_type": "code",
   "execution_count": 39,
   "metadata": {},
   "outputs": [],
   "source": [
    "test_char_order = [\"A\", \"K\", \"Q\", \"J\", \"T\", \"9\", \"8\", \"7\", \"6\", \"5\", \"4\", \"3\", \"2\"]"
   ]
  },
  {
   "cell_type": "code",
   "execution_count": 40,
   "metadata": {},
   "outputs": [
    {
     "data": {
      "text/plain": [
       "[(0, 'A'),\n",
       " (1, 'K'),\n",
       " (2, 'Q'),\n",
       " (3, 'J'),\n",
       " (4, 'T'),\n",
       " (5, '9'),\n",
       " (6, '8'),\n",
       " (7, '7'),\n",
       " (8, '6'),\n",
       " (9, '5'),\n",
       " (10, '4'),\n",
       " (11, '3'),\n",
       " (12, '2')]"
      ]
     },
     "execution_count": 40,
     "metadata": {},
     "output_type": "execute_result"
    }
   ],
   "source": [
    "list(enumerate(test_char_order))"
   ]
  },
  {
   "cell_type": "code",
   "execution_count": 41,
   "metadata": {},
   "outputs": [],
   "source": [
    "test_len_char_order = len(test_char_order)"
   ]
  },
  {
   "cell_type": "code",
   "execution_count": 42,
   "metadata": {},
   "outputs": [
    {
     "data": {
      "text/plain": [
       "{'A': 12,\n",
       " 'K': 11,\n",
       " 'Q': 10,\n",
       " 'J': 9,\n",
       " 'T': 8,\n",
       " '9': 7,\n",
       " '8': 6,\n",
       " '7': 5,\n",
       " '6': 4,\n",
       " '5': 3,\n",
       " '4': 2,\n",
       " '3': 1,\n",
       " '2': 0}"
      ]
     },
     "execution_count": 42,
     "metadata": {},
     "output_type": "execute_result"
    }
   ],
   "source": [
    "test_char_order_map = {char: test_len_char_order - 1 - int(idx) for idx, char in enumerate(test_char_order)}\n",
    "test_char_order_map"
   ]
  },
  {
   "cell_type": "code",
   "execution_count": 43,
   "metadata": {},
   "outputs": [
    {
     "data": {
      "text/plain": [
       "[1, 1, 0, 8, 1, 11]"
      ]
     },
     "execution_count": 43,
     "metadata": {},
     "output_type": "execute_result"
    }
   ],
   "source": [
    "[get_type_strength(test_string)] + [test_char_order_map[c] for c in test_string]"
   ]
  },
  {
   "cell_type": "code",
   "execution_count": 44,
   "metadata": {},
   "outputs": [
    {
     "data": {
      "text/plain": [
       "'32T3K'"
      ]
     },
     "execution_count": 44,
     "metadata": {},
     "output_type": "execute_result"
    }
   ],
   "source": [
    "test_string"
   ]
  },
  {
   "cell_type": "markdown",
   "metadata": {},
   "source": [
    "## Get unique characters of a list of strings"
   ]
  },
  {
   "cell_type": "code",
   "execution_count": 70,
   "metadata": {},
   "outputs": [],
   "source": [
    "test_string = \"32T3K\"\n",
    "test_list_of_str = [\"32T3K\",\"T55J5\",\"KK67\",\"KTJJT\",\"QQQJA\"]"
   ]
  },
  {
   "cell_type": "code",
   "execution_count": 75,
   "metadata": {},
   "outputs": [
    {
     "data": {
      "text/plain": [
       "[{'2', '3', 'K', 'T'},\n",
       " {'5', 'J', 'T'},\n",
       " {'6', '7', 'K'},\n",
       " {'J', 'K', 'T'},\n",
       " {'A', 'J', 'Q'}]"
      ]
     },
     "execution_count": 75,
     "metadata": {},
     "output_type": "execute_result"
    }
   ],
   "source": [
    "list(map(set, test_list_of_str))"
   ]
  },
  {
   "cell_type": "code",
   "execution_count": 76,
   "metadata": {},
   "outputs": [
    {
     "data": {
      "text/plain": [
       "{'2', '3', '5', '6', '7', 'A', 'J', 'K', 'Q', 'T'}"
      ]
     },
     "execution_count": 76,
     "metadata": {},
     "output_type": "execute_result"
    }
   ],
   "source": [
    "set.union(*map(set, test_list_of_str))"
   ]
  },
  {
   "cell_type": "code",
   "execution_count": null,
   "metadata": {},
   "outputs": [],
   "source": [
    "def check_allowed_characters(strings: list[str], allowed_chars: set):\n",
    "    map_of_chars = map(set, strings)\n",
    "    unique_chars_in_strings = set.union(*map_of_chars)\n",
    "\n",
    "    chars_in_strings_not_in_allowed_chars = unique_chars_in_strings - allowed_chars\n",
    "\n",
    "    if len(chars_in_strings_not_in_allowed_chars) != 0:\n",
    "        raise ValueError(\"'strings' contains characters not allowed as per the 'allowed_chars' specification\")"
   ]
  },
  {
   "cell_type": "markdown",
   "metadata": {},
   "source": [
    "### Add a column to a array"
   ]
  },
  {
   "cell_type": "code",
   "execution_count": null,
   "metadata": {},
   "outputs": [
    {
     "data": {
      "text/plain": [
       "array([['6JA22', '162'],\n",
       "       ['TQJQ8', '732'],\n",
       "       ['7T77A', '882'],\n",
       "       ...,\n",
       "       ['97697', '211'],\n",
       "       ['KKK6J', '719'],\n",
       "       ['AA5TT', '937']], shape=(1000, 2), dtype='<U5')"
      ]
     },
     "execution_count": 82,
     "metadata": {},
     "output_type": "execute_result"
    }
   ],
   "source": []
  },
  {
   "cell_type": "code",
   "execution_count": null,
   "metadata": {},
   "outputs": [],
   "source": []
  }
 ],
 "metadata": {
  "kernelspec": {
   "display_name": "Python 3",
   "language": "python",
   "name": "python3"
  },
  "language_info": {
   "codemirror_mode": {
    "name": "ipython",
    "version": 3
   },
   "file_extension": ".py",
   "mimetype": "text/x-python",
   "name": "python",
   "nbconvert_exporter": "python",
   "pygments_lexer": "ipython3",
   "version": "3.13.1"
  }
 },
 "nbformat": 4,
 "nbformat_minor": 2
}
